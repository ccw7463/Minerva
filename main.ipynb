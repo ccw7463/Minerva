{
 "cells": [
  {
   "cell_type": "code",
   "execution_count": 6,
   "metadata": {},
   "outputs": [],
   "source": [
    "from configs.config import prompt_config\n",
    "import requests\n",
    "from bs4 import BeautifulSoup\n",
    "from utils.util import *\n",
    "import time\n",
    "import random\n",
    "import requests\n",
    "from bs4 import BeautifulSoup\n",
    "from langchain_openai import ChatOpenAI\n",
    "from playwright.sync_api import sync_playwright\n",
    "from playwright.async_api import async_playwright\n",
    "from datetime import datetime, timedelta\n",
    "import json\n",
    "import asyncio"
   ]
  },
  {
   "cell_type": "code",
   "execution_count": 7,
   "metadata": {},
   "outputs": [],
   "source": [
    "llm = ChatOpenAI(model=\"gpt-4o\")"
   ]
  },
  {
   "cell_type": "code",
   "execution_count": 8,
   "metadata": {},
   "outputs": [],
   "source": [
    "def parse_relative_date(relative_date: str) -> str:\n",
    "    \"\"\"\n",
    "        Des:\n",
    "            날짜 표현 변환 함수\n",
    "        Args:\n",
    "            relative_date (str): 상대적인 날짜 표현 (~시간 전, ~일 전 표현)\n",
    "        Returns:\n",
    "            str: 절대 날짜 (YYYY. MM. DD.)\n",
    "    \"\"\"\n",
    "    now = datetime.now()\n",
    "\n",
    "    if \"시간 전\" in relative_date:\n",
    "        hours = int(re.search(r\"(\\d+)\", relative_date).group(1))\n",
    "        result_date = now - timedelta(hours=hours)\n",
    "    elif \"일 전\" in relative_date:\n",
    "        days = int(re.search(r\"(\\d+)\", relative_date).group(1))\n",
    "        result_date = now - timedelta(days=days)\n",
    "    elif \"분 전\" in relative_date:\n",
    "        minutes = int(re.search(r\"(\\d+)\", relative_date).group(1))\n",
    "        result_date = now - timedelta(minutes=minutes)\n",
    "    else:\n",
    "        return relative_date\n",
    "\n",
    "    return result_date.strftime(\"%Y. %m. %d.\")"
   ]
  },
  {
   "cell_type": "code",
   "execution_count": 18,
   "metadata": {},
   "outputs": [],
   "source": [
    "async def search_google(search_term):\n",
    "    async with async_playwright() as p:\n",
    "        # 브라우저 설정 수정\n",
    "        browser = await p.chromium.launch(\n",
    "            headless=True,  # headless 모드를 끄고\n",
    "            args=[\n",
    "                '--user-agent=Mozilla/5.0 (Windows NT 10.0; Win64; x64) AppleWebKit/537.36 (KHTML, like Gecko) Chrome/120.0.0.0 Safari/537.36',\n",
    "                '--disable-blink-features=AutomationControlled',\n",
    "                '--no-sandbox',\n",
    "                '--disable-setuid-sandbox',\n",
    "            ]\n",
    "        )\n",
    "        \n",
    "        # 브라우저 컨텍스트에 추가 설정\n",
    "        context = await browser.new_context(\n",
    "            viewport={'width': 1920, 'height': 1080},\n",
    "            user_agent='Mozilla/5.0 (Windows NT 10.0; Win64; x64) AppleWebKit/537.36 (KHTML, like Gecko) Chrome/120.0.0.0 Safari/537.36',\n",
    "            java_script_enabled=True,\n",
    "        )\n",
    "        \n",
    "        page = await context.new_page()\n",
    "        \n",
    "        # 자동화 감지 우회를 위한 추가 설정\n",
    "        await page.add_init_script(\"\"\"\n",
    "            Object.defineProperty(navigator, 'webdriver', {\n",
    "                get: () => false,\n",
    "            });\n",
    "        \"\"\")\n",
    "        \n",
    "        try:\n",
    "            # 랜덤한 지연 시간 추가\n",
    "            await page.wait_for_timeout(2000 + random.randint(500, 1500))\n",
    "            \n",
    "            await page.goto('https://www.google.com')\n",
    "            await page.wait_for_timeout(1000 + random.randint(500, 1000))\n",
    "            \n",
    "            # 검색어 입력을 더 자연스럽게\n",
    "            await page.type('#APjFqb', search_term, delay=100)\n",
    "            await page.wait_for_timeout(500)\n",
    "            await page.press('#APjFqb', 'Enter')\n",
    "            \n",
    "            # 검색 결과 대기\n",
    "            await page.wait_for_selector('div.yuRUbf', timeout=10000)\n",
    "            \n",
    "            # 결과 추출 전 잠시 대기\n",
    "            await page.wait_for_timeout(2000)\n",
    "            \n",
    "            results = []\n",
    "            search_results = await page.query_selector_all('div.yuRUbf')\n",
    "            \n",
    "            for result in search_results:\n",
    "                title_elem = await result.query_selector('h3.LC20lb')\n",
    "                title = await title_elem.inner_text() if title_elem else ''\n",
    "                \n",
    "                link_elem = await result.query_selector('a')\n",
    "                link = await link_elem.get_attribute('href') if link_elem else ''\n",
    "                \n",
    "                results.append({\n",
    "                    'title': title,\n",
    "                    'link': link\n",
    "                })\n",
    "            \n",
    "            return results\n",
    "            \n",
    "        except Exception as e:\n",
    "            print(f\"에러 발생: {str(e)}\")\n",
    "            await page.screenshot(path='error.png')\n",
    "            raise e\n",
    "            \n",
    "        finally:\n",
    "            await browser.close()"
   ]
  },
  {
   "cell_type": "code",
   "execution_count": 19,
   "metadata": {},
   "outputs": [],
   "source": [
    "# import subprocess\n",
    "# subprocess.run(['playwright', 'install', 'chromium'])"
   ]
  },
  {
   "cell_type": "code",
   "execution_count": 20,
   "metadata": {},
   "outputs": [
    {
     "name": "stderr",
     "output_type": "stream",
     "text": [
      "  1%|          | 1/100 [00:11<19:15, 11.67s/it]"
     ]
    },
    {
     "name": "stdout",
     "output_type": "stream",
     "text": [
      "\n",
      "제목: 소매가격 > 소비정보 - 농산물유통 종합 ...\n",
      "링크: https://www.nongnet.or.kr/front/M000000262/somaeInfo/somae.do?searchDate=2025%EB%85%84%2001%EC%9B%94%2007%EC%9D%BC&searchSymbol1=211&searchName1=%EB%B0%B0%EC%B6%94&searchSymbol2=&searchName2=\n"
     ]
    },
    {
     "name": "stderr",
     "output_type": "stream",
     "text": [
      "  2%|▏         | 2/100 [00:24<19:43, 12.08s/it]"
     ]
    },
    {
     "name": "stdout",
     "output_type": "stream",
     "text": [
      "\n",
      "제목: 소매가격 > 소비정보 - 농산물유통 종합 ...\n",
      "링크: https://www.nongnet.or.kr/front/M000000262/somaeInfo/somae.do?searchDate=2025%EB%85%84%2001%EC%9B%94%2007%EC%9D%BC&searchSymbol1=211&searchName1=%EB%B0%B0%EC%B6%94&searchSymbol2=&searchName2=\n"
     ]
    },
    {
     "name": "stderr",
     "output_type": "stream",
     "text": [
      "  3%|▎         | 3/100 [00:35<19:15, 11.91s/it]"
     ]
    },
    {
     "name": "stdout",
     "output_type": "stream",
     "text": [
      "\n",
      "제목: 소매가격 > 소비정보 - 농산물유통 종합 ...\n",
      "링크: https://www.nongnet.or.kr/front/M000000262/somaeInfo/somae.do?searchDate=2025%EB%85%84%2001%EC%9B%94%2007%EC%9D%BC&searchSymbol1=211&searchName1=%EB%B0%B0%EC%B6%94&searchSymbol2=&searchName2=\n"
     ]
    },
    {
     "name": "stderr",
     "output_type": "stream",
     "text": [
      "  4%|▍         | 4/100 [00:48<19:27, 12.16s/it]"
     ]
    },
    {
     "name": "stdout",
     "output_type": "stream",
     "text": [
      "\n",
      "제목: 소매가격 > 소비정보 - 농산물유통 종합 ...\n",
      "링크: https://www.nongnet.or.kr/front/M000000262/somaeInfo/somae.do?searchDate=2025%EB%85%84%2001%EC%9B%94%2007%EC%9D%BC&searchSymbol1=211&searchName1=%EB%B0%B0%EC%B6%94&searchSymbol2=&searchName2=\n"
     ]
    },
    {
     "name": "stderr",
     "output_type": "stream",
     "text": [
      "  5%|▌         | 5/100 [00:59<18:52, 11.93s/it]"
     ]
    },
    {
     "name": "stdout",
     "output_type": "stream",
     "text": [
      "\n",
      "제목: 소매가격 > 소비정보 - 농산물유통 종합 ...\n",
      "링크: https://www.nongnet.or.kr/front/M000000262/somaeInfo/somae.do?searchDate=2025%EB%85%84%2001%EC%9B%94%2007%EC%9D%BC&searchSymbol1=211&searchName1=%EB%B0%B0%EC%B6%94&searchSymbol2=&searchName2=\n"
     ]
    },
    {
     "name": "stderr",
     "output_type": "stream",
     "text": [
      "  6%|▌         | 6/100 [01:11<18:29, 11.80s/it]"
     ]
    },
    {
     "name": "stdout",
     "output_type": "stream",
     "text": [
      "\n",
      "제목: 소매가격 > 소비정보 - 농산물유통 종합 ...\n",
      "링크: https://www.nongnet.or.kr/front/M000000262/somaeInfo/somae.do?searchDate=2025%EB%85%84%2001%EC%9B%94%2007%EC%9D%BC&searchSymbol1=211&searchName1=%EB%B0%B0%EC%B6%94&searchSymbol2=&searchName2=\n"
     ]
    },
    {
     "name": "stderr",
     "output_type": "stream",
     "text": [
      "  7%|▋         | 7/100 [01:23<18:37, 12.02s/it]"
     ]
    },
    {
     "name": "stdout",
     "output_type": "stream",
     "text": [
      "\n",
      "제목: 소매가격 > 소비정보 - 농산물유통 종합 ...\n",
      "링크: https://www.nongnet.or.kr/front/M000000262/somaeInfo/somae.do?searchDate=2025%EB%85%84%2001%EC%9B%94%2007%EC%9D%BC&searchSymbol1=211&searchName1=%EB%B0%B0%EC%B6%94&searchSymbol2=&searchName2=\n"
     ]
    },
    {
     "name": "stderr",
     "output_type": "stream",
     "text": [
      "  8%|▊         | 8/100 [01:35<18:23, 12.00s/it]"
     ]
    },
    {
     "name": "stdout",
     "output_type": "stream",
     "text": [
      "\n",
      "제목: 소매가격 > 소비정보 - 농산물유통 종합 ...\n",
      "링크: https://www.nongnet.or.kr/front/M000000262/somaeInfo/somae.do?searchDate=2025%EB%85%84%2001%EC%9B%94%2007%EC%9D%BC&searchSymbol1=211&searchName1=%EB%B0%B0%EC%B6%94&searchSymbol2=&searchName2=\n"
     ]
    },
    {
     "name": "stderr",
     "output_type": "stream",
     "text": [
      "  9%|▉         | 9/100 [01:48<18:31, 12.21s/it]"
     ]
    },
    {
     "name": "stdout",
     "output_type": "stream",
     "text": [
      "\n",
      "제목: 소매가격 > 소비정보 - 농산물유통 종합 ...\n",
      "링크: https://www.nongnet.or.kr/front/M000000262/somaeInfo/somae.do?searchDate=2025%EB%85%84%2001%EC%9B%94%2007%EC%9D%BC&searchSymbol1=211&searchName1=%EB%B0%B0%EC%B6%94&searchSymbol2=&searchName2=\n"
     ]
    },
    {
     "name": "stderr",
     "output_type": "stream",
     "text": [
      " 10%|█         | 10/100 [02:00<18:03, 12.04s/it]"
     ]
    },
    {
     "name": "stdout",
     "output_type": "stream",
     "text": [
      "\n",
      "제목: 소매가격 > 소비정보 - 농산물유통 종합 ...\n",
      "링크: https://www.nongnet.or.kr/front/M000000262/somaeInfo/somae.do?searchDate=2025%EB%85%84%2001%EC%9B%94%2007%EC%9D%BC&searchSymbol1=211&searchName1=%EB%B0%B0%EC%B6%94&searchSymbol2=&searchName2=\n"
     ]
    },
    {
     "name": "stderr",
     "output_type": "stream",
     "text": [
      " 11%|█         | 11/100 [02:11<17:33, 11.84s/it]"
     ]
    },
    {
     "name": "stdout",
     "output_type": "stream",
     "text": [
      "\n",
      "제목: 소매가격 > 소비정보 - 농산물유통 종합 ...\n",
      "링크: https://www.nongnet.or.kr/front/M000000262/somaeInfo/somae.do?searchDate=2025%EB%85%84%2001%EC%9B%94%2007%EC%9D%BC&searchSymbol1=211&searchName1=%EB%B0%B0%EC%B6%94&searchSymbol2=&searchName2=\n"
     ]
    },
    {
     "name": "stderr",
     "output_type": "stream",
     "text": [
      " 12%|█▏        | 12/100 [02:23<17:30, 11.94s/it]"
     ]
    },
    {
     "name": "stdout",
     "output_type": "stream",
     "text": [
      "\n",
      "제목: 소매가격 > 소비정보 - 농산물유통 종합 ...\n",
      "링크: https://www.nongnet.or.kr/front/M000000262/somaeInfo/somae.do?searchDate=2025%EB%85%84%2001%EC%9B%94%2007%EC%9D%BC&searchSymbol1=211&searchName1=%EB%B0%B0%EC%B6%94&searchSymbol2=&searchName2=\n"
     ]
    },
    {
     "name": "stderr",
     "output_type": "stream",
     "text": [
      " 13%|█▎        | 13/100 [02:35<17:25, 12.02s/it]"
     ]
    },
    {
     "name": "stdout",
     "output_type": "stream",
     "text": [
      "\n",
      "제목: 소매가격 > 소비정보 - 농산물유통 종합 ...\n",
      "링크: https://www.nongnet.or.kr/front/M000000262/somaeInfo/somae.do?searchDate=2025%EB%85%84%2001%EC%9B%94%2007%EC%9D%BC&searchSymbol1=211&searchName1=%EB%B0%B0%EC%B6%94&searchSymbol2=&searchName2=\n"
     ]
    },
    {
     "name": "stderr",
     "output_type": "stream",
     "text": [
      " 14%|█▍        | 14/100 [02:47<17:04, 11.91s/it]"
     ]
    },
    {
     "name": "stdout",
     "output_type": "stream",
     "text": [
      "\n",
      "제목: 소매가격 > 소비정보 - 농산물유통 종합 ...\n",
      "링크: https://www.nongnet.or.kr/front/M000000262/somaeInfo/somae.do?searchDate=2025%EB%85%84%2001%EC%9B%94%2007%EC%9D%BC&searchSymbol1=211&searchName1=%EB%B0%B0%EC%B6%94&searchSymbol2=&searchName2=\n"
     ]
    },
    {
     "name": "stderr",
     "output_type": "stream",
     "text": [
      " 15%|█▌        | 15/100 [02:59<17:02, 12.03s/it]"
     ]
    },
    {
     "name": "stdout",
     "output_type": "stream",
     "text": [
      "\n",
      "제목: 소매가격 > 소비정보 - 농산물유통 종합 ...\n",
      "링크: https://www.nongnet.or.kr/front/M000000262/somaeInfo/somae.do?searchDate=2025%EB%85%84%2001%EC%9B%94%2007%EC%9D%BC&searchSymbol1=211&searchName1=%EB%B0%B0%EC%B6%94&searchSymbol2=&searchName2=\n"
     ]
    },
    {
     "name": "stderr",
     "output_type": "stream",
     "text": [
      " 16%|█▌        | 16/100 [03:11<16:52, 12.05s/it]"
     ]
    },
    {
     "name": "stdout",
     "output_type": "stream",
     "text": [
      "\n",
      "제목: 소매가격 > 소비정보 - 농산물유통 종합 ...\n",
      "링크: https://www.nongnet.or.kr/front/M000000262/somaeInfo/somae.do?searchDate=2025%EB%85%84%2001%EC%9B%94%2007%EC%9D%BC&searchSymbol1=211&searchName1=%EB%B0%B0%EC%B6%94&searchSymbol2=&searchName2=\n"
     ]
    },
    {
     "name": "stderr",
     "output_type": "stream",
     "text": [
      " 17%|█▋        | 17/100 [03:23<16:28, 11.91s/it]"
     ]
    },
    {
     "name": "stdout",
     "output_type": "stream",
     "text": [
      "\n",
      "제목: 소매가격 > 소비정보 - 농산물유통 종합 ...\n",
      "링크: https://www.nongnet.or.kr/front/M000000262/somaeInfo/somae.do?searchDate=2025%EB%85%84%2001%EC%9B%94%2007%EC%9D%BC&searchSymbol1=211&searchName1=%EB%B0%B0%EC%B6%94&searchSymbol2=&searchName2=\n"
     ]
    },
    {
     "name": "stderr",
     "output_type": "stream",
     "text": [
      " 18%|█▊        | 18/100 [03:35<16:08, 11.82s/it]"
     ]
    },
    {
     "name": "stdout",
     "output_type": "stream",
     "text": [
      "\n",
      "제목: 소매가격 > 소비정보 - 농산물유통 종합 ...\n",
      "링크: https://www.nongnet.or.kr/front/M000000262/somaeInfo/somae.do?searchDate=2025%EB%85%84%2001%EC%9B%94%2007%EC%9D%BC&searchSymbol1=211&searchName1=%EB%B0%B0%EC%B6%94&searchSymbol2=&searchName2=\n"
     ]
    },
    {
     "name": "stderr",
     "output_type": "stream",
     "text": [
      " 19%|█▉        | 19/100 [03:46<15:49, 11.72s/it]"
     ]
    },
    {
     "name": "stdout",
     "output_type": "stream",
     "text": [
      "\n",
      "제목: 소매가격 > 소비정보 - 농산물유통 종합 ...\n",
      "링크: https://www.nongnet.or.kr/front/M000000262/somaeInfo/somae.do?searchDate=2025%EB%85%84%2001%EC%9B%94%2007%EC%9D%BC&searchSymbol1=211&searchName1=%EB%B0%B0%EC%B6%94&searchSymbol2=&searchName2=\n"
     ]
    },
    {
     "name": "stderr",
     "output_type": "stream",
     "text": [
      " 20%|██        | 20/100 [03:58<15:46, 11.84s/it]"
     ]
    },
    {
     "name": "stdout",
     "output_type": "stream",
     "text": [
      "\n",
      "제목: 소매가격 > 소비정보 - 농산물유통 종합 ...\n",
      "링크: https://www.nongnet.or.kr/front/M000000262/somaeInfo/somae.do?searchDate=2025%EB%85%84%2001%EC%9B%94%2007%EC%9D%BC&searchSymbol1=211&searchName1=%EB%B0%B0%EC%B6%94&searchSymbol2=&searchName2=\n"
     ]
    },
    {
     "name": "stderr",
     "output_type": "stream",
     "text": [
      " 21%|██        | 21/100 [04:10<15:35, 11.84s/it]"
     ]
    },
    {
     "name": "stdout",
     "output_type": "stream",
     "text": [
      "\n",
      "제목: 소매가격 > 소비정보 - 농산물유통 종합 ...\n",
      "링크: https://www.nongnet.or.kr/front/M000000262/somaeInfo/somae.do?searchDate=2025%EB%85%84%2001%EC%9B%94%2007%EC%9D%BC&searchSymbol1=211&searchName1=%EB%B0%B0%EC%B6%94&searchSymbol2=&searchName2=\n"
     ]
    },
    {
     "name": "stderr",
     "output_type": "stream",
     "text": [
      " 22%|██▏       | 22/100 [04:22<15:23, 11.84s/it]"
     ]
    },
    {
     "name": "stdout",
     "output_type": "stream",
     "text": [
      "\n",
      "제목: 소매가격 > 소비정보 - 농산물유통 종합 ...\n",
      "링크: https://www.nongnet.or.kr/front/M000000262/somaeInfo/somae.do?searchDate=2025%EB%85%84%2001%EC%9B%94%2007%EC%9D%BC&searchSymbol1=211&searchName1=%EB%B0%B0%EC%B6%94&searchSymbol2=&searchName2=\n"
     ]
    },
    {
     "name": "stderr",
     "output_type": "stream",
     "text": [
      " 23%|██▎       | 23/100 [04:34<15:21, 11.97s/it]"
     ]
    },
    {
     "name": "stdout",
     "output_type": "stream",
     "text": [
      "\n",
      "제목: 소매가격 > 소비정보 - 농산물유통 종합 ...\n",
      "링크: https://www.nongnet.or.kr/front/M000000262/somaeInfo/somae.do?searchDate=2025%EB%85%84%2001%EC%9B%94%2007%EC%9D%BC&searchSymbol1=211&searchName1=%EB%B0%B0%EC%B6%94&searchSymbol2=&searchName2=\n"
     ]
    },
    {
     "name": "stderr",
     "output_type": "stream",
     "text": [
      " 24%|██▍       | 24/100 [04:47<15:18, 12.09s/it]"
     ]
    },
    {
     "name": "stdout",
     "output_type": "stream",
     "text": [
      "\n",
      "제목: 소매가격 > 소비정보 - 농산물유통 종합 ...\n",
      "링크: https://www.nongnet.or.kr/front/M000000262/somaeInfo/somae.do?searchDate=2025%EB%85%84%2001%EC%9B%94%2007%EC%9D%BC&searchSymbol1=211&searchName1=%EB%B0%B0%EC%B6%94&searchSymbol2=&searchName2=\n"
     ]
    },
    {
     "name": "stderr",
     "output_type": "stream",
     "text": [
      " 25%|██▌       | 25/100 [04:58<15:01, 12.02s/it]"
     ]
    },
    {
     "name": "stdout",
     "output_type": "stream",
     "text": [
      "\n",
      "제목: 소매가격 > 소비정보 - 농산물유통 종합 ...\n",
      "링크: https://www.nongnet.or.kr/front/M000000262/somaeInfo/somae.do?searchDate=2025%EB%85%84%2001%EC%9B%94%2007%EC%9D%BC&searchSymbol1=211&searchName1=%EB%B0%B0%EC%B6%94&searchSymbol2=&searchName2=\n"
     ]
    },
    {
     "name": "stderr",
     "output_type": "stream",
     "text": [
      " 26%|██▌       | 26/100 [05:10<14:49, 12.03s/it]"
     ]
    },
    {
     "name": "stdout",
     "output_type": "stream",
     "text": [
      "\n",
      "제목: 소매가격 > 소비정보 - 농산물유통 종합 ...\n",
      "링크: https://www.nongnet.or.kr/front/M000000262/somaeInfo/somae.do?searchDate=2025%EB%85%84%2001%EC%9B%94%2007%EC%9D%BC&searchSymbol1=211&searchName1=%EB%B0%B0%EC%B6%94&searchSymbol2=&searchName2=\n"
     ]
    },
    {
     "name": "stderr",
     "output_type": "stream",
     "text": [
      " 27%|██▋       | 27/100 [05:22<14:19, 11.78s/it]"
     ]
    },
    {
     "name": "stdout",
     "output_type": "stream",
     "text": [
      "\n",
      "제목: 소매가격 > 소비정보 - 농산물유통 종합 ...\n",
      "링크: https://www.nongnet.or.kr/front/M000000262/somaeInfo/somae.do?searchDate=2025%EB%85%84%2001%EC%9B%94%2007%EC%9D%BC&searchSymbol1=211&searchName1=%EB%B0%B0%EC%B6%94&searchSymbol2=&searchName2=\n"
     ]
    },
    {
     "name": "stderr",
     "output_type": "stream",
     "text": [
      " 28%|██▊       | 28/100 [05:34<14:27, 12.05s/it]"
     ]
    },
    {
     "name": "stdout",
     "output_type": "stream",
     "text": [
      "\n",
      "제목: 소매가격 > 소비정보 - 농산물유통 종합 ...\n",
      "링크: https://www.nongnet.or.kr/front/M000000262/somaeInfo/somae.do?searchDate=2025%EB%85%84%2001%EC%9B%94%2007%EC%9D%BC&searchSymbol1=211&searchName1=%EB%B0%B0%EC%B6%94&searchSymbol2=&searchName2=\n"
     ]
    },
    {
     "name": "stderr",
     "output_type": "stream",
     "text": [
      " 29%|██▉       | 29/100 [05:46<14:11, 11.99s/it]"
     ]
    },
    {
     "name": "stdout",
     "output_type": "stream",
     "text": [
      "\n",
      "제목: 소매가격 > 소비정보 - 농산물유통 종합 ...\n",
      "링크: https://www.nongnet.or.kr/front/M000000262/somaeInfo/somae.do?searchDate=2025%EB%85%84%2001%EC%9B%94%2007%EC%9D%BC&searchSymbol1=211&searchName1=%EB%B0%B0%EC%B6%94&searchSymbol2=&searchName2=\n"
     ]
    },
    {
     "name": "stderr",
     "output_type": "stream",
     "text": [
      " 30%|███       | 30/100 [05:59<14:12, 12.18s/it]"
     ]
    },
    {
     "name": "stdout",
     "output_type": "stream",
     "text": [
      "\n",
      "제목: 소매가격 > 소비정보 - 농산물유통 종합 ...\n",
      "링크: https://www.nongnet.or.kr/front/M000000262/somaeInfo/somae.do?searchDate=2025%EB%85%84%2001%EC%9B%94%2007%EC%9D%BC&searchSymbol1=211&searchName1=%EB%B0%B0%EC%B6%94&searchSymbol2=&searchName2=\n"
     ]
    },
    {
     "name": "stderr",
     "output_type": "stream",
     "text": [
      " 31%|███       | 31/100 [06:12<14:11, 12.35s/it]"
     ]
    },
    {
     "name": "stdout",
     "output_type": "stream",
     "text": [
      "\n",
      "제목: 소매가격 > 소비정보 - 농산물유통 종합 ...\n",
      "링크: https://www.nongnet.or.kr/front/M000000262/somaeInfo/somae.do?searchDate=2025%EB%85%84%2001%EC%9B%94%2007%EC%9D%BC&searchSymbol1=211&searchName1=%EB%B0%B0%EC%B6%94&searchSymbol2=&searchName2=\n"
     ]
    },
    {
     "name": "stderr",
     "output_type": "stream",
     "text": [
      " 32%|███▏      | 32/100 [06:23<13:35, 12.00s/it]"
     ]
    },
    {
     "name": "stdout",
     "output_type": "stream",
     "text": [
      "\n",
      "제목: 소매가격 > 소비정보 - 농산물유통 종합 ...\n",
      "링크: https://www.nongnet.or.kr/front/M000000262/somaeInfo/somae.do?searchDate=2025%EB%85%84%2001%EC%9B%94%2007%EC%9D%BC&searchSymbol1=211&searchName1=%EB%B0%B0%EC%B6%94&searchSymbol2=&searchName2=\n"
     ]
    },
    {
     "name": "stderr",
     "output_type": "stream",
     "text": [
      " 33%|███▎      | 33/100 [06:34<13:14, 11.86s/it]"
     ]
    },
    {
     "name": "stdout",
     "output_type": "stream",
     "text": [
      "\n",
      "제목: 소매가격 > 소비정보 - 농산물유통 종합 ...\n",
      "링크: https://www.nongnet.or.kr/front/M000000262/somaeInfo/somae.do?searchDate=2025%EB%85%84%2001%EC%9B%94%2007%EC%9D%BC&searchSymbol1=211&searchName1=%EB%B0%B0%EC%B6%94&searchSymbol2=&searchName2=\n"
     ]
    },
    {
     "name": "stderr",
     "output_type": "stream",
     "text": [
      " 34%|███▍      | 34/100 [06:46<12:55, 11.75s/it]"
     ]
    },
    {
     "name": "stdout",
     "output_type": "stream",
     "text": [
      "\n",
      "제목: 소매가격 > 소비정보 - 농산물유통 종합 ...\n",
      "링크: https://www.nongnet.or.kr/front/M000000262/somaeInfo/somae.do?searchDate=2025%EB%85%84%2001%EC%9B%94%2007%EC%9D%BC&searchSymbol1=211&searchName1=%EB%B0%B0%EC%B6%94&searchSymbol2=&searchName2=\n"
     ]
    },
    {
     "name": "stderr",
     "output_type": "stream",
     "text": [
      " 35%|███▌      | 35/100 [06:59<13:09, 12.14s/it]"
     ]
    },
    {
     "name": "stdout",
     "output_type": "stream",
     "text": [
      "\n",
      "제목: 소매가격 > 소비정보 - 농산물유통 종합 ...\n",
      "링크: https://www.nongnet.or.kr/front/M000000262/somaeInfo/somae.do?searchDate=2025%EB%85%84%2001%EC%9B%94%2007%EC%9D%BC&searchSymbol1=211&searchName1=%EB%B0%B0%EC%B6%94&searchSymbol2=&searchName2=\n"
     ]
    },
    {
     "name": "stderr",
     "output_type": "stream",
     "text": [
      " 36%|███▌      | 36/100 [07:10<12:47, 11.99s/it]"
     ]
    },
    {
     "name": "stdout",
     "output_type": "stream",
     "text": [
      "\n",
      "제목: 소매가격 > 소비정보 - 농산물유통 종합 ...\n",
      "링크: https://www.nongnet.or.kr/front/M000000262/somaeInfo/somae.do?searchDate=2025%EB%85%84%2001%EC%9B%94%2007%EC%9D%BC&searchSymbol1=211&searchName1=%EB%B0%B0%EC%B6%94&searchSymbol2=&searchName2=\n"
     ]
    },
    {
     "name": "stderr",
     "output_type": "stream",
     "text": [
      " 37%|███▋      | 37/100 [07:22<12:17, 11.71s/it]"
     ]
    },
    {
     "name": "stdout",
     "output_type": "stream",
     "text": [
      "\n",
      "제목: 소매가격 > 소비정보 - 농산물유통 종합 ...\n",
      "링크: https://www.nongnet.or.kr/front/M000000262/somaeInfo/somae.do?searchDate=2025%EB%85%84%2001%EC%9B%94%2007%EC%9D%BC&searchSymbol1=211&searchName1=%EB%B0%B0%EC%B6%94&searchSymbol2=&searchName2=\n"
     ]
    },
    {
     "name": "stderr",
     "output_type": "stream",
     "text": [
      " 38%|███▊      | 38/100 [07:33<12:07, 11.73s/it]"
     ]
    },
    {
     "name": "stdout",
     "output_type": "stream",
     "text": [
      "\n",
      "제목: 소매가격 > 소비정보 - 농산물유통 종합 ...\n",
      "링크: https://www.nongnet.or.kr/front/M000000262/somaeInfo/somae.do?searchDate=2025%EB%85%84%2001%EC%9B%94%2007%EC%9D%BC&searchSymbol1=211&searchName1=%EB%B0%B0%EC%B6%94&searchSymbol2=&searchName2=\n"
     ]
    },
    {
     "name": "stderr",
     "output_type": "stream",
     "text": [
      " 39%|███▉      | 39/100 [07:45<11:50, 11.65s/it]"
     ]
    },
    {
     "name": "stdout",
     "output_type": "stream",
     "text": [
      "\n",
      "제목: 소매가격 > 소비정보 - 농산물유통 종합 ...\n",
      "링크: https://www.nongnet.or.kr/front/M000000262/somaeInfo/somae.do?searchDate=2025%EB%85%84%2001%EC%9B%94%2007%EC%9D%BC&searchSymbol1=211&searchName1=%EB%B0%B0%EC%B6%94&searchSymbol2=&searchName2=\n"
     ]
    },
    {
     "name": "stderr",
     "output_type": "stream",
     "text": [
      " 40%|████      | 40/100 [07:57<11:44, 11.75s/it]"
     ]
    },
    {
     "name": "stdout",
     "output_type": "stream",
     "text": [
      "\n",
      "제목: 소매가격 > 소비정보 - 농산물유통 종합 ...\n",
      "링크: https://www.nongnet.or.kr/front/M000000262/somaeInfo/somae.do?searchDate=2025%EB%85%84%2001%EC%9B%94%2007%EC%9D%BC&searchSymbol1=211&searchName1=%EB%B0%B0%EC%B6%94&searchSymbol2=&searchName2=\n"
     ]
    },
    {
     "name": "stderr",
     "output_type": "stream",
     "text": [
      " 41%|████      | 41/100 [08:09<11:38, 11.85s/it]"
     ]
    },
    {
     "name": "stdout",
     "output_type": "stream",
     "text": [
      "\n",
      "제목: 소매가격 > 소비정보 - 농산물유통 종합 ...\n",
      "링크: https://www.nongnet.or.kr/front/M000000262/somaeInfo/somae.do?searchDate=2025%EB%85%84%2001%EC%9B%94%2007%EC%9D%BC&searchSymbol1=211&searchName1=%EB%B0%B0%EC%B6%94&searchSymbol2=&searchName2=\n"
     ]
    },
    {
     "name": "stderr",
     "output_type": "stream",
     "text": [
      " 42%|████▏     | 42/100 [08:21<11:41, 12.09s/it]"
     ]
    },
    {
     "name": "stdout",
     "output_type": "stream",
     "text": [
      "\n",
      "제목: 소매가격 > 소비정보 - 농산물유통 종합 ...\n",
      "링크: https://www.nongnet.or.kr/front/M000000262/somaeInfo/somae.do?searchDate=2025%EB%85%84%2001%EC%9B%94%2007%EC%9D%BC&searchSymbol1=211&searchName1=%EB%B0%B0%EC%B6%94&searchSymbol2=&searchName2=\n"
     ]
    },
    {
     "name": "stderr",
     "output_type": "stream",
     "text": [
      " 43%|████▎     | 43/100 [08:34<11:38, 12.25s/it]"
     ]
    },
    {
     "name": "stdout",
     "output_type": "stream",
     "text": [
      "\n",
      "제목: 소매가격 > 소비정보 - 농산물유통 종합 ...\n",
      "링크: https://www.nongnet.or.kr/front/M000000262/somaeInfo/somae.do?searchDate=2025%EB%85%84%2001%EC%9B%94%2007%EC%9D%BC&searchSymbol1=211&searchName1=%EB%B0%B0%EC%B6%94&searchSymbol2=&searchName2=\n"
     ]
    },
    {
     "name": "stderr",
     "output_type": "stream",
     "text": [
      " 44%|████▍     | 44/100 [08:46<11:17, 12.10s/it]"
     ]
    },
    {
     "name": "stdout",
     "output_type": "stream",
     "text": [
      "\n",
      "제목: 소매가격 > 소비정보 - 농산물유통 종합 ...\n",
      "링크: https://www.nongnet.or.kr/front/M000000262/somaeInfo/somae.do?searchDate=2025%EB%85%84%2001%EC%9B%94%2007%EC%9D%BC&searchSymbol1=211&searchName1=%EB%B0%B0%EC%B6%94&searchSymbol2=&searchName2=\n"
     ]
    },
    {
     "name": "stderr",
     "output_type": "stream",
     "text": [
      " 45%|████▌     | 45/100 [08:57<10:57, 11.95s/it]"
     ]
    },
    {
     "name": "stdout",
     "output_type": "stream",
     "text": [
      "\n",
      "제목: 소매가격 > 소비정보 - 농산물유통 종합 ...\n",
      "링크: https://www.nongnet.or.kr/front/M000000262/somaeInfo/somae.do?searchDate=2025%EB%85%84%2001%EC%9B%94%2007%EC%9D%BC&searchSymbol1=211&searchName1=%EB%B0%B0%EC%B6%94&searchSymbol2=&searchName2=\n"
     ]
    },
    {
     "name": "stderr",
     "output_type": "stream",
     "text": [
      " 46%|████▌     | 46/100 [09:09<10:43, 11.91s/it]"
     ]
    },
    {
     "name": "stdout",
     "output_type": "stream",
     "text": [
      "\n",
      "제목: 소매가격 > 소비정보 - 농산물유통 종합 ...\n",
      "링크: https://www.nongnet.or.kr/front/M000000262/somaeInfo/somae.do?searchDate=2025%EB%85%84%2001%EC%9B%94%2007%EC%9D%BC&searchSymbol1=211&searchName1=%EB%B0%B0%EC%B6%94&searchSymbol2=&searchName2=\n"
     ]
    },
    {
     "name": "stderr",
     "output_type": "stream",
     "text": [
      " 47%|████▋     | 47/100 [09:20<10:20, 11.70s/it]"
     ]
    },
    {
     "name": "stdout",
     "output_type": "stream",
     "text": [
      "\n",
      "제목: 소매가격 > 소비정보 - 농산물유통 종합 ...\n",
      "링크: https://www.nongnet.or.kr/front/M000000262/somaeInfo/somae.do?searchDate=2025%EB%85%84%2001%EC%9B%94%2007%EC%9D%BC&searchSymbol1=211&searchName1=%EB%B0%B0%EC%B6%94&searchSymbol2=&searchName2=\n"
     ]
    },
    {
     "name": "stderr",
     "output_type": "stream",
     "text": [
      " 48%|████▊     | 48/100 [09:32<10:11, 11.76s/it]"
     ]
    },
    {
     "name": "stdout",
     "output_type": "stream",
     "text": [
      "\n",
      "제목: 소매가격 > 소비정보 - 농산물유통 종합 ...\n",
      "링크: https://www.nongnet.or.kr/front/M000000262/somaeInfo/somae.do?searchDate=2025%EB%85%84%2001%EC%9B%94%2007%EC%9D%BC&searchSymbol1=211&searchName1=%EB%B0%B0%EC%B6%94&searchSymbol2=&searchName2=\n"
     ]
    },
    {
     "name": "stderr",
     "output_type": "stream",
     "text": [
      " 49%|████▉     | 49/100 [09:44<10:02, 11.81s/it]"
     ]
    },
    {
     "name": "stdout",
     "output_type": "stream",
     "text": [
      "\n",
      "제목: 소매가격 > 소비정보 - 농산물유통 종합 ...\n",
      "링크: https://www.nongnet.or.kr/front/M000000262/somaeInfo/somae.do?searchDate=2025%EB%85%84%2001%EC%9B%94%2007%EC%9D%BC&searchSymbol1=211&searchName1=%EB%B0%B0%EC%B6%94&searchSymbol2=&searchName2=\n"
     ]
    },
    {
     "name": "stderr",
     "output_type": "stream",
     "text": [
      " 50%|█████     | 50/100 [09:55<09:40, 11.61s/it]"
     ]
    },
    {
     "name": "stdout",
     "output_type": "stream",
     "text": [
      "\n",
      "제목: 소매가격 > 소비정보 - 농산물유통 종합 ...\n",
      "링크: https://www.nongnet.or.kr/front/M000000262/somaeInfo/somae.do?searchDate=2025%EB%85%84%2001%EC%9B%94%2007%EC%9D%BC&searchSymbol1=211&searchName1=%EB%B0%B0%EC%B6%94&searchSymbol2=&searchName2=\n"
     ]
    }
   ],
   "source": [
    "from tqdm import tqdm\n",
    "for _ in tqdm(range(100)):\n",
    "    search_keyword = \"2025년 1월 중순 배추 가격 동향\"\n",
    "    results = await search_google(search_keyword)\n",
    "    print(\"\\n제목:\", results[0]['title'])\n",
    "    print(\"링크:\", results[0]['link'])"
   ]
  },
  {
   "cell_type": "code",
   "execution_count": 4,
   "metadata": {},
   "outputs": [],
   "source": [
    "import requests\n",
    "\n",
    "url = \"https://www.google.com/search?q=2025%EB%85%84+1%EC%9B%94+%EC%A4%91%EC%88%9C+%EB%B0%B0%EC%B6%94+%EA%B0%80%EA%B2%A9+%EB%8F%99%ED%96%A5&sca_esv=3baac282e3bcd052&sxsrf=ADLYWIIz36jxuFM5uAuo3cIi8FohhZ4xMw%3A1737176495838&source=hp&ei=rzWLZ5zuMO7q1e8P_pu26AI&iflsig=AL9hbdgAAAAAZ4tDv1RmFbuBI1aeVjl1-RRws2dgub69&ved=0ahUKEwjcgcffvv6KAxVudfUHHf6NDS0Q4dUDCBk&uact=5&oq=2025%EB%85%84+1%EC%9B%94+%EC%A4%91%EC%88%9C+%EB%B0%B0%EC%B6%94+%EA%B0%80%EA%B2%A9+%EB%8F%99%ED%96%A5&gs_lp=Egdnd3Mtd2l6IigyMDI164WEIDHsm5Qg7KSR7IicIOuwsOy2lCDqsIDqsqkg64-Z7ZalMgQQIxgnMggQABiABBiiBDIIEAAYgAQYogQyCBAAGIAEGKIEMggQABiABBiiBEi3AlCVAViVAXABeACQAQCYAZMBoAGTAaoBAzAuMbgBA8gBAPgBAvgBAZgCAqACnwGoAgrCAgcQIxgnGOoCmAMK8QX_E4DQkuKZIpIHAzEuMaAH8gQ&sclient=gws-wiz\"\n",
    "headers = {\"User-Agent\": \"Mozilla/5.0 (Windows NT 10.0; Win64; x64) AppleWebKit/537.36 (KHTML, like Gecko) Chrome/114.0.0.0 Safari/537.36\"}\n",
    "response = requests.get(url, headers=headers)"
   ]
  },
  {
   "cell_type": "code",
   "execution_count": 5,
   "metadata": {},
   "outputs": [],
   "source": [
    "soup = BeautifulSoup(response.text, \"html.parser\")"
   ]
  },
  {
   "cell_type": "code",
   "execution_count": 6,
   "metadata": {},
   "outputs": [
    {
     "data": {
      "text/plain": [
       "<!DOCTYPE html>\n",
       "<html lang=\"ko\"><head><title>Google Search</title><style>body{background-color:var(--xhUGwc)}</style></head><body><noscript><style>table,div,span,p{display:none}</style><meta content=\"0;url=/httpservice/retry/enablejs?sei=izmLZ6rTAsbf1e8PzKvLiQQ\" http-equiv=\"refresh\"/><div style=\"display:block\">몇 초 안에 이동하지 않는 경우 <a href=\"/httpservice/retry/enablejs?sei=izmLZ6rTAsbf1e8PzKvLiQQ\">여기</a>를 클릭하세요.</div></noscript><script nonce=\"Vj7mnMI8caSgIoDeOEC72w\">//# sourceMappingURL=data:application/json;charset=utf-8;base64,eyJ2ZXJzaW9uIjogMywic291cmNlcyI6WyIiXSwic291cmNlc0NvbnRlbnQiOlsiICJdLCJuYW1lcyI6WyJjbG9zdXJlRHluYW1pY0J1dHRvbiJdLCJtYXBwaW5ncyI6IkFBQUE7QUFBQTtBQUFBO0FBQUE7QUFBQTtBQUFBO0FBQUEifQ==\n",
       "(function(){function p(b){return b}var M=function(b){return p.call(this,b)},Z=function(b,G,L,d,I,H,W,C,z,r,g,a){for(g=(a=60,73);;)try{if(a==6)break;else if(a==d)a=w.console?G:32;else{if(a==32)return g=73,z;if(a==69)a=C&&C.createPolicy?64:b;else if(a==60)z=W,C=w.trustedTypes,a=69;else if(a==64)g=25,z=C.createPolicy(H,{createHTML:M,createScript:M,createScriptURL:M}),a=32;else{if(a==b)return z;a==L?(g=73,a=d):a==G&&(w.console[I](r.message),a=32)}}}catch(x){if(g==73)throw x;g==25&&(r=x,a=L)}},w=this||self;(0,eval)(function(b,G){return(G=Z(30,90,97,9,\"error\",\"ks\",null))&&b.eval(G.createScript(\"1\"))===1?function(L){return G.createScript(L)}:function(L){return\"\"+L}}(w)(Array(Math.random()*7824|0).join(\"\\n\")+['//# sourceMappingURL=data:application/json;charset=utf-8;base64,eyJ2ZXJzaW9uIjogMywic291cmNlcyI6WyIiXSwic291cmNlc0NvbnRlbnQiOlsiICJdLCJuYW1lcyI6WyJjbG9zdXJlRHluYW1pY0J1dHRvbiJdLCJtYXBwaW5ncyI6IkFBQUE7QUFBQTtBQUFBO0FBQUE7QUFBQTtBQUFBO0FBQUEifQ==',\n",
       "'(function(){/*',\n",
       "'',\n",
       "' Copyright Google LLC',\n",
       "' SPDX-License-Identifier: Apache-2.0',\n",
       "'*/',\n",
       "'var f=function(g,G,a,L,b,p,z,M){for(z=60;z!=6;)if(z==60)z=69;else if(z==69)z=g+6>>3==1?9:64;else if(z==25)z=(g^64)>>4?97:65;else if(z==64)z=(g+2&15)==3?90:32;else if(z==65)typeof a.className==G?a.className=L:a.setAttribute&&a.setAttribute(\"class\",L),z=97;else if(z==90)this.AZ=P.document||document,z=32;else if(z==30)z=((g^63)&23)==2?87:25;else if(z==32)z=(g|56)==g?80:30;else if(z==87)a.c4&&a.c4.forEach(G,void 0),z=25;else{if(z==97)return M;z==9?(this.src=G,this.sN=0,this.L={},z=64):z==80&&(p=a3(95,3,1,L,a),(b=p>=G)&&Array.prototype.splice.call(L,p,1),M=b,z=30)}},de=function(g,G,a,L,b,p,z,M,C){for(C=19;C!=94;)if(C==96)be.call(this,a,L||G7.ed(),b),C=25;else if(C==99)C=z==\"mouseover\"?41:17;else if(C==18)this.relatedTarget=b,C=64;else if(C==4)ge.call(this,a?a.type:\"\"),this.relatedTarget=this.currentTarget=this.target=null,this.button=this.screenY=this.screenX=this.clientY=this.clientX=this.offsetY=this.offsetX=0,this.key=\"\",this.charCode=this.keyCode=0,this.metaKey=this.shiftKey=this.altKey=this.ctrlKey=false,this.state=null,this.pointerId=0,this.pointerType=\"\",this.timeStamp=0,this.hZ=null,C=81;else if(C==77)C=(G+4&15)==3?70:35;else if(C==81)C=a?83:89;else if(C==17)C=z==\"mouseout\"?30:18;else if(C==91)C=b?18:99;else if(C==57)this.offsetX=a.offsetX,this.offsetY=a.offsetY,this.clientX=a.clientX!==void 0?a.clientX:a.pageX,this.clientY=a.clientY!==void 0?a.clientY:a.pageY,this.screenX=a.screenX||0,this.screenY=a.screenY||0,C=g;else if(C==g)this.button=a.button,this.keyCode=a.keyCode||0,this.key=a.key||\"\",this.charCode=a.charCode||(z==\"keypress\"?a.keyCode:0),this.ctrlKey=a.ctrlKey,this.altKey=a.altKey,this.shiftKey=a.shiftKey,this.metaKey=a.metaKey,this.pointerId=a.pointerId||0,this.pointerType=a.pointerType,this.state=a.state,this.timeStamp=a.timeStamp,this.hZ=a,a.defaultPrevented&&z7.Y.preventDefault.call(this),C=89;else if(C==83)z=this.type=a.type,p=a.changedTouches&&a.changedTouches.length?a.changedTouches[0]:null,this.target=a.target||a.srcElement,this.currentTarget=L,b=a.relatedTarget,C=91;else if(C==30)b=a.toElement,C=18;else if(C==70)this[this+\"\"]=this,M=Promise.resolve(),C=35;else if(C==19)C=77;else if(C==64)C=p?43:57;else if(C==35)C=(G&42)==G?96:25;else if(C==42)pX.call(this),this.o=new MH(this),this.rq=this,this.xJ=null,C=7;else{if(C==89)return M;C==25?C=G-9<<1<G&&(G-1^13)>=G?42:7:C==7?C=((G|5)&8)<6&&(G^3)>>4>=3?4:89:C==43?(this.clientX=p.clientX!==void 0?p.clientX:p.pageX,this.clientY=p.clientY!==void 0?p.clientY:p.pageY,this.screenX=p.screenX||0,this.screenY=p.screenY||0,C=g):C==41&&(b=a.fromElement,C=18)}},we=function(g,G,a,L,b,p,z){for(z=55;z!=g;)if(z==22)z=G-6>>4?98:62;else if(z==10)p=this.n===0?0:Math.sqrt(this.v4/this.n),z=70;else if(z==70)z=(G|16)==G?91:21;else if(z==62)p=typeof b.className==a?b.className:b.getAttribute&&b.getAttribute(L)||\"\",z=98;else{if(z==54)return p;z==98?z=((G|7)&11)==3?10:70:z==40?(this[this+\"\"]=this,z=54):z==21?z=(G^76)<39&&G<<1>=28?40:54:z==91?(L=a[re],p=L instanceof MH?L:null,z=21):z==55&&(z=22)}},e=function(g,G,a,L,b,p,z,M,C,d,I,x,w){return((g&((g-7|((g-3^((g>>1&23)==3&&(G.R?w=$N(G.V,G):(b=I3(24,8,true,G),-1-~(b|128)-(b&-129)-(~b&128)&&(b^=128,a=I3(24,2,true,G),b=(L=b<<2,-2*~(L|a)+(L^a)+2*(~L^a))),w=b)),27))<g&&(g+8&40)>=g&&(w=(p=b[L]<<24|b[-2*~(L&1)+-2+(L&-2)+(~L&1)]<<16|b[2*(L&2)+(L&-3)+(~L&2)]<<a,z=b[-2-2*~(L|G)-(L^G)],-~p+2*(~p&z)+(p|~z))),23))<g&&(g-5^20)>=g&&(C=H9,d=z&7,L=[67,47,-34,47,55,5,L,-90,-100,96],M=W9[p.H](p.Ym),M[p.H]=function(D){I=(d+=6+7*z,D),d&=7},M.concat=function(D,r,H,W){return I=(D=(r=(W=b%16+G,-170*b*b*I-W*I+d+a*b*b*W)+34*I*I+(C()|0)*W-3264*I-1598*b*I+L[H=d+43,6-(H^7)-(~H|7)]*b*W,L[r]),void 0),L[(d+37&7)+((z|2)-(z&-3)-(~z&2))]=D,L[d+(2-~z+-3-(z&-3))]=47,D},w=M),90))==g&&(L=W9[a.H](a.RY),L[a.H]=function(){return G},L.concat=function(D){G=D},w=L),g-8>>3||(L=Zt(24,a,8),-1-~(L|128)-(L^128)&&(L=127-(~L^127)-G*(~L&127)+(~L|127)|Zt(24,a,8)<<7),w=L),g&58)==g&&(w=x=function(){for(var D=80;D!=46;)if(D==28)D=b.D?91:30;else if(D==61){var r=KX(\"load\",H,25,b);D=1}else{if(D==1)return r;if(D==80)D=b.h==b?28:46;else if(D==91)var H=[NH,L,p,void 0,M,(D=98,C),arguments];else if(D==33)D=z==1?24:61;else if(D==98)D=z==a?92:33;else if(D==30)M&&C&&M.removeEventListener(C,x,P9),D=46;else if(D==92)T(b,74,0,H),r=R(37,0,G,b,G),D=1;else if(D==24){var W=!b.l.length;D=(T(b,10,0,H),W&&R(69,0,G,b,G),1)}}}),w},fX=function(g,G,a,L,b,p,z,M,C,d){for(C=35;C!=80;)if(C==65)Dt(22,G,L),C=55;else if(C==59)C=(g>>1&13)==4?29:17;else if(C==53)C=((g|4)&15)==4?44:61;else{if(C==49)return d;if(C==51)C=typeof a!==\"function\"?25:17;else if(C==85)C=g+6>=17&&g-7<31?34:49;else if(C==37){a:{for(M=G;M<b.length;++M)if(z=b[M],!z.P4&&z.listener==a&&z.capture==!!L&&z.JZ==p){d=M;break a}d=-1}C=53}else if(C==61)C=g+4&13?85:27;else{if(C==25)throw Error(\"Invalid decorator function \"+a);if(C==29)C=G?51:96;else if(C==35)C=59;else if(C==17)C=(g^35)&5?53:37;else if(C==44)C=61;else if(C==73)delete a.L[b],a.sN--,C=49;else if(C==27)C=G.P4?16:72;else if(C==68)C=b in a.L&&f(56,0,L,a.L[b])?65:49;else if(C==34)b=L.type,C=68;else{if(C==96)throw Error(\"Invalid class name \"+G);C==50?(d=p,C=85):C==72?(z=new z7(a,this),L=G.listener,b=G.JZ||G.src,G.pu&&A7(13,null,7,0,G),p=L.call(b,z),C=50):C==55?C=a.L[b].length==0?73:49:C==16&&(p=true,C=50)}}}},T7=function(g,G,a,L,b,p){for(p=g;p!=25;){if(p==90)return b;p==48?(b=W9[L](W9.prototype,{console:a,call:a,replace:a,propertyIsEnumerable:a,document:a,parent:a,floor:a,stack:a,pop:a,prototype:a,length:a,splice:a}),p=90):p==95?p=(G>>2&g)<g&&G+3>=19?60:54:p==60?(b=a&&a.parentNode?a.parentNode.removeChild(a):null,p=54):p==54?p=(G&77)==G?48:90:p==g&&(p=95)}},R3=function(g,G,a,L,b,p,z,M,C,d,I,x){for(I=18;I!=60;)if(I==14)p=R3(41,58,p),b&&b[nX]?b.o.add(String(C),p,false,R(17,L,M)?!!M.capture:!!M,z):yX(9,C,b,z,false,null,p,M,false),I=98;else if(I==80)C={},ej=(C[L]=false,C.autocomplete=\"none\",C.dropeffect=\"none\",C.haspopup=false,C.live=\"off\",C.multiline=false,C.multiselectable=false,C.orientation=\"vertical\",C.readonly=false,C.relevant=\"additions text\",C.required=false,C.sort=\"none\",C.busy=false,C.disabled=false,C[a]=false,C.invalid=\"false\",C),I=10;else if(I==34)I=(G&57)==G?17:43;else if(I==84)I=(G>>1&15)==2?96:98;else if(I==57)I=ej?10:80;else if(I==76)typeof a===\"function\"?x=a:(a[ue]||(a[ue]=function(w){return a.handleEvent(w)}),x=a[ue]),I=74;else if(I==g)I=Array.isArray(C)?55:14;else if(I==91)R3(41,5,0,null,b,p,z,M,C[d]),I=19;else{if(I==74)return x;I==61?I=d<C.length?91:98:I==79?(b.setAttribute(d,p),I=84):I==18?I=34:I==10?(M=ej,z in M?b.setAttribute(d,M[z]):b.removeAttribute(d),I=84):I==55?(d=a,I=30):I==98?I=(G|56)==G?76:74:I==30?I=61:I==97?(Array.isArray(p)&&(p=p.join(\" \")),d=\"aria-\"+z,I=7):I==66?(J7(19,26,L,true,C,M,b,z,p),I=98):I==96?I=M&&M.once?66:g:I==19?(d++,I=61):I==7?I=p===\"\"||p==void 0?57:79:I==43?I=(G|6)>>4>=1&&G-8<21?97:84:I==17&&(x=Math.floor(this.fu+(this.P()-this.on)),I=43)}},mJ=function(g,G,a,L,b,p,z,M,C){for(C=7;C!=50;)if(C==5)G.classList?Array.prototype.forEach.call(L,function(d){mJ(21,\" \",3,0,\"string\",G,d)}):f(66,\"string\",G,Array.prototype.filter.call(B9(32,19,\"string\",G),function(d){return!(a3(95,34,1,L,d)>=0)}).join(\" \")),C=1;else if(C==1)C=(a-6^9)>=a&&(a-8^g)<a?12:60;else if(C==23)p.classList?p.classList.remove(z):A7(13,b,5,L,z,p)&&f(67,b,p,Array.prototype.filter.call(B9(32,17,b,p),function(d){return d!=z}).join(G)),C=54;else if(C==36)C=a-8<<1<a&&(a+1^17)>=a?23:54;else if(C==7)C=36;else if(C==54)C=(a|32)==a?5:1;else if(C==12)Sj.call(this),G||kN||(kN=new FD),this.c4=null,this.km=false,this.m8=void 0,this.mc=this.W4=this.DE=null,this.kJ=false,this.i=null,C=60;else if(C==60)return M},B9=function(g,G,a,L,b,p,z,M,C,d,I){for(I=78;I!=99;)if(I==50)I=(G-3|39)<G&&G-9<<1>=G?10:82;else if(I==67)I=G-8>>4?50:52;else if(I==7)I=46;else if(I==33)C=b.length,M=typeof b===\"string\"?b.split(L):b,z=a,I=7;else if(I==14)z in M&&p.call(void 0,M[z],z,b),I=g;else if(I==52)d=L.classList?L.classList:we(53,8,a,\"class\",L).match(/\\\\S+/g)||[],I=50;else if(I==46)I=z<C?14:8;else if(I==g)z++,I=46;else if(I==44)I=67;else if(I==10)this.type=a,this.currentTarget=this.target=L,this.defaultPrevented=this.YJ=false,I=82;else if(I==82)I=(G+5&8)<G&&(G-6|13)>=G?33:8;else if(I==78)I=15;else{if(I==8)return d;I==15&&(I=(G|1)>>4?67:44)}},T=function(g,G,a,L,b,p,z,M,C,d,I,x,w,D,r){for(D=(w=6,68);;)try{if(w==97)break;else if(w==16)D=68,w=46;else if(w==2)w=(G^52)&7?34:1;else if(w==60)L+=String.fromCharCode.apply(null,a.slice(g,g+8192)),w=84;else if(w==84)g+=8192,w=93;else if(w==66)w=13;else if(w==6)w=12;else if(w==0)w=13;else if(w==80)I=d,w=64;else if(w==24)b=void 0,w=92;else if(w==98)L=\"\",g=0,w=20;else if(w==92)I=b,w=34;else if(w==83)g.l.splice(a,a,L),w=42;else if(w==46)w=p&&z.g?59:0;else if(w==42)w=(G|48)==G?89:2;else if(w==1)p=window.btoa,w=43;else if(w==13)w=z.l.length?85:80;else if(w==49)b=p(L).replace(/\\\\+/g,\"-\").replace(/\\\\//g,\"_\").replace(/=/g,\"\"),w=92;else if(w==93)w=g<a.length?60:49;else if(w==59)C=z.g,C(function(){R(36,b,L,z,L)}),w=80;else if(w==85)z.g=null,M=z.l.pop(),w=31;else if(w==43)w=p?98:24;else{if(w==15)return I;if(w==34)w=(G^91)<31&&(G-3&15)>=13?35:15;else if(w==12)w=G-4>>3==1?66:64;else if(w==5)D=68,k(41,\"~\",z,x),w=16;else if(w==89)r=function(){},g=void 0,b=v9(a,function(H,W){for(W=10;W!=97;)W==10?W=r?67:97:W==67&&(L&&ie(L),g=H,r(),r=void 0,W=97)},!!L),p=b[1],z=b[0],I={top:function(H,W,N,K,A,U,n){for(U=9;U!=81;)if(U==63)A=r,r=function(){A(),ie(n)},U=81;else{if(U==18)return K=z(N),H&&H(K),K;U==24?U=g?34:63:U==34?(n(),U=81):U==9?(n=function(){g(function(B){ie(function(){H(B)})},N)},U=10):U==10&&(U=W?24:18)}},pe:function(H){p&&p(H)}},w=2;else if(w==64)w=(G-6&15)==4?83:42;else if(w==31)D=45,d=KX(g,M,a,z),w=16;else if(w==20)w=93;else if(w==35){for(b in M=a,g.L){for(p=g.L[b],z=a;z<p.length;z++)++M,Dt(25,L,p[z]);delete (g.sN--,g).L[b]}w=15}}}catch(H){if(D==68)throw H;D==45&&(x=H,w=5)}},VX=function(g,G,a,L,b,p,z,M,C){for(C=27;C!=39;)if(C==0)C=(g<<1&8)<6&&g+5>>4>=3?29:84;else if(C==33)C=g+3>>3==1?80:9;else if(C==80){if(L=a.length,L>G){for(p=Array(L),b=G;b<L;b++)p[b]=a[b];z=p}else z=[];C=9}else if(C==27)C=33;else if(C==29)this.h=G,C=84;else if(C==9)C=(g&90)==g?58:0;else{if(C==84)return z;C==58&&(M=function(){},M.prototype=L.prototype,a.Y=L.prototype,a.prototype=new M,a.prototype.constructor=a,a.U6=function(d,I,x){for(var w=92;w!=97;)if(w==51)w=71;else if(w==64)D[r-G]=arguments[r],w=96;else if(w==96)r++,w=71;else if(w==92)var D=Array(arguments.length-(w=51,G)),r=G;else{if(w==4)return L.prototype[I].apply(d,D);w==71&&(w=r<arguments.length?64:4)}},C=0)}},R=function(g,G,a,L,b,p,z,M,C,d,I){for(I=91;I!=84;)if(I==28)d=a in sj?sj[a]:sj[a]=G+a,I=96;else if(I==50)d=Math.floor(this.P()),I=3;else{if(I==3)return d;if(I==40)I=(g>>1&15)==2?36:30;else if(I==91)I=40;else if(I==96)I=(g|16)==g?52:88;else if(I==52)L=typeof a,d=L==\"object\"&&a!=G||L==\"function\",I=88;else if(I==30)I=(g|40)==g?28:96;else if(I==36){if(L.l.length){((L.zg&&\":TQR:TQR:\"(),L).zg=true,L).aY=b;try{z=L.P(),L.Xp=G,L.an=z,L.In=G,L.on=z,M=T(\"load\",13,25,true,0,b,L),p=a?0:10,C=L.P()-L.on,L.fu+=C,L.VY&&L.VY(C-L.B,L.F,L.U,L.In),L.F=false,L.U=false,L.B=G,C<p||L.Fp--<=G||(C=Math.floor(C),L.QY.push(C<=254?C:254))}finally{L.zg=false}d=M}I=30}else I==88&&(I=g>>1&14?3:50)}},yX=function(g,G,a,L,b,p,z,M,C,d,I,x,w,D,r){for(r=25;r!=11;){if(r==38)throw Error(\"Invalid event type\");if(r==53)I=c9(20,73),w.proxy=I,I.src=a,I.listener=w,r=30;else if(r==62)r=77;else if(r==9)r=w.proxy?47:53;else if(r==25)r=91;else if(r==78)r=z&&z[nX]?66:80;else if(r==47)r=g-4<<2>=g&&(g-5^28)<g?14:15;else if(r==24)d=b,r=62;else if(r==20)qH++,r=47;else if(r==55)d=R(20,p,M)?!!M.capture:!!M,(x=we(53,26,a))||(a[re]=x=new MH(a)),w=x.add(G,z,C,d,L),r=9;else{if(r==15)return D;if(r==26)throw Error(\"addEventListener and attachEvent are unavailable.\");r==69?(I=R(19,p,G)?!!G.capture:!!G,a=R3(41,59,a),r=78):r==19?r=G?55:38:r==46?(a.attachEvent(R(41,\"on\",G.toString()),I),r=20):r==91?r=(g^15)>>3?47:19:r==14?r=Array.isArray(M)?24:69:r==83?(a.addListener(I),r=20):r==63?(d++,r=77):r==30?r=a.addEventListener?0:17:r==27?((C=x.qN(I,a,L,M))&&A7(13,null,8,0,C),r=15):r==17?r=a.attachEvent?46:32:r==58?r=x?27:15:r==66?(z.o.remove(String(M),a,I,L),r=15):r==0?(QX||(M=d),M===void 0&&(M=b),a.addEventListener(G.toString(),I,M),r=20):r==77?r=d<M.length?98:15:r==98?(yX(17,G,a,L,0,null,z,M[d]),r=63):r==32?r=a.addListener&&a.removeListener?83:26:r==80?r=z?92:15:r==92&&(x=we(53,25,z),r=58)}}},A7=function(g,G,a,L,b,p,z,M,C,d,I,x){for(x=93;x!=6;)if(x==85)z=b.proxy,M=b.type,p.removeEventListener?p.removeEventListener(M,z,b.capture):p.detachEvent?p.detachEvent(R(40,\"on\",M),z):p.addListener&&p.removeListener&&p.removeListener(z),qH--,C=we(53,24,p),x=25;else if(x==32)x=(a|9)>>3==3?52:75;else if(x==24)x=C.sN==L?g:32;else if(x==59)x=p&&p[nX]?47:85;else if(x==46)M=p.classList.contains(b),x=96;else if(x==97)Dt(23,G,b),x=32;else if(x==84)I=(d=le[G.substring(0,3)+\"_\"])?d(G.substring(3),L,b,p,z,M,C):c9(20,18,L,G),x=62;else if(x==60)x=a-7>>4?32:90;else if(x==52)I=G,x=75;else if(x==12)p=b.src,x=59;else if(x==94)fX(21,G,C,b),x=24;else if(x==62)x=(a>>1&15)==2?61:63;else{if(x==63)return I;x==25?x=C?94:97:x==61?x=p.classList?46:86:x==93?x=60:x==g?(C.src=G,p[re]=G,x=32):x==75?x=a>>2&11?62:84:x==86?(z=B9(32,18,G,p),M=a3(95,66,1,z,b)>=L,x=96):x==47?(fX(18,G,p.o,b),x=32):x==96?(I=M,x=63):x==90&&(x=typeof b!==\"number\"&&b&&!b.P4?12:32)}},Ej=function(g,G,a,L,b,p,z){for(z=g;z!=43;)if(z==71)z=(a-4^G)<a&&(a+8^20)>=a?45:20;else if(z==45)this.n++,b=L-this.T,this.T+=b/this.n,this.v4+=b*(L-this.T),z=20;else if(z==g)z=71;else if(z==20)z=a+9>>2<a&&(a+8&30)>=a?98:33;else{if(z==33)return p;z==98&&(this.N=this.N,this.by=this.by,z=33)}},Dt=function(g,G,a,L,b,p,z,M,C,d,I,x,w,D,r,H){for(H=32;H!=74;)if(H==26)d-=8,C.push((z=L>>d,-(z|0)-2*~(z|255)+(~z^255)+(z|-256))),H=11;else if(H==62)d=0,C=[],p=0,H=4;else if(H==34)H=(g>>2&15)==1?15:83;else if(H==65)H=z?46:34;else if(H==83)H=(g|16)==g?60:55;else{if(H==55)return r;if(H==4)H=40;else if(H==92)p++,H=40;else if(H==15){if(d=L.o.L[String(p)]){for(z=(d=d.concat(),I=true,0);z<d.length;++z)(C=d[z])&&!C.P4&&C.capture==a&&(x=C.JZ||C.src,M=C.listener,C.pu&&fX(15,G,L.o,C),I=M.call(x,b)!==false&&I);r=I&&!b.defaultPrevented}else r=true;H=83}else if(H==31)H=84;else if(H==80)H=g<<1&15?37:62;else if(H==60)a.P4=true,a.listener=G,a.proxy=G,a.src=G,a.JZ=G,H=55;else if(H==84)H=d>7?26:92;else if(H==11)H=84;else if(H==75)d+=a,L=(b=L<<a,M=G[p],(b&M)+~b-~M+2*(b&~M)),H=31;else if(H==32)H=80;else if(H==40)H=p<G.length?75:47;else if(H==47)r=C,H=37;else if(H==37)H=g-6>>4?34:65;else if(H==46){a:{for(D=(M=p.split(L),jj),w=a;w<M.length-G;w++){if(!(I=M[w],I in D))break a;D=D[I]}(x=(C=M[M.length-G],D[C]),d=z(x),d!=x)&&d!=b&&Oj(D,C,{configurable:true,writable:true,value:d})}H=34}}},GZ=function(g,G,a,L,b,p,z,M,C,d){if((L|24)==L)if(M=XD(\"call\",\"number\",b)===\"array\"?b:[b],this.s)G(this.s);else try{z=!this.l.length,p=[],T(this,42,0,[at,p,M]),T(this,26,0,[b_,G,p]),a&&!z||R(68,0,g,this,a)}catch(I){k(73,\"~\",this,I),G(this.s)}if((L&49)==L){for(z=(C=e(86,a),0);b>0;b--)z=(p=z<<G,M=Zt(24,a,8),-1-~M+(p&~M));F(a,C,z)}return d},pa=function(g,G,a,L,b,p,z,M,C,d,I,x,w){for(w=87;w!=94;)if(w==93)w=a-8>>4?79:32;else if(w==99)w=(C=g)?26:4;else if(w==80)p=(b=Object.getPrototypeOf(p.prototype))&&b.constructor,w=34;else if(w==19)w=36;else if(w==36)w=p?49:71;else if(w==1)w=(z=La[M])?37:80;else if(w==0){if(p.h=((p.u+=(d=(C=(z=(L||p.Xp++,p.tZ>0&&p.zg)&&p.aY&&p.Rn<=1&&!p.R&&!p.g&&(!L||p.Lz-b>1)&&document.hidden==G,p.Xp==4))||z?p.P():p.an,M=d-p.an,M>>14>0),p).v&&(p.v^=(p.u+1>>2)*(M<<2)),p.u+1>>2!=0||p.h),C||z)p.Xp=0,p.an=d;w=(z?(p.tZ>p.In&&(p.In=p.tZ),d-p.on<p.tZ-(g?255:L?5:2)?x=G:(p.Lz=b,I=v(L?407:135,p),F(p,135,p.C),p.l.push([gb,I,L?b+1:b,p.F,p.U]),p.g=ie,x=true)):x=G,6)}else if(w==26)this.O=C,w=93;else if(w==49)M=Ca(68,p,17),w=1;else if(w==67)w=this.j.length<50?21:82;else if(w==4)p=this.constructor,w=19;else if(w==40)zZ.call(this,L),w=99;else if(w==87)w=2;else if(w==71)C=z?typeof z.ed===\"function\"?z.ed():new z:null,w=26;else{if(w==79)return x;w==37?w=71:w==2?w=(a^40)>>4>=1&&a-3>>4<1?0:6:w==6?w=a+7&7?93:40:w==82?(g=Math.floor(Math.random()*this.n),g<50&&(this.j[g]=G),w=79):w==32?(this.n++,w=67):w==21?(this.j.push(G),w=79):w==34&&(w=36)}},c9=function(g,G,a,L,b,p,z,M,C,d,I){for(I=5;I!=22;)if(I==46)I=G-5<<1>=G&&(G-9|43)<G?51:23;else if(I==44)C=function(x){return a.call(C.src,C.listener,x)},a=M8,d=C,I=19;else if(I==56)a(function(x){x(L)}),d=[function(){return L},function(){}],I=38;else if(I==52)I=G<<2&13?g:34;else if(I==34){a:{switch(M){case 1:d=z?\"disable\":\"enable\";break a;case p:d=z?\"highlight\":\"unhighlight\";break a;case b:d=z?\"activate\":\"deactivate\";break a;case a:d=z?\"select\":\"unselect\";break a;case 16:d=z?\"check\":\"uncheck\";break a;case 32:d=z?\"focus\":\"blur\";break a;case L:d=z?\"open\":\"close\";break a}throw Error(\"Invalid component state\");}I=g}else if(I==54)this.listener=p,this.proxy=null,this.src=a,this.type=L,this.capture=!!b,this.JZ=z,this.key=++db,this.pu=this.P4=false,I=46;else if(I==5)I=52;else if(I==23)I=(G|72)==G?44:19;else{if(I==19)return d;I==51?(a.MN=void 0,a.ed=function(){return a.MN?a.MN:a.MN=new a},I=23):I==g?I=(G+5^12)>=G&&(G+5^6)<G?56:38:I==38&&(I=G-2>>4?46:54)}},a3=function(g,G,a,L,b,p,z,M,C,d){for(C=67;C!=23;)if(C==66)C=62;else if(C==1)C=(G^37)>>3==2?66:62;else if(C==16)C=(G|2)>>3==2?6:1;else if(C==94){a:if(typeof L===\"string\")d=typeof b!==\"string\"||b.length!=a?-1:L.indexOf(b,0);else{for(p=0;p<L.length;p++)if(p in L&&L[p]===b){d=p;break a}d=-1}C=19}else if(C==g)b.Ku(function(I){p=I},a,L),d=p,C=57;else if(C==67)C=14;else if(C==14)C=(G&45)==G?77:16;else if(C==6){a:{for(z in b)if(p.call(void 0,b[z],z,b)){d=a;break a}d=L}C=1}else if(C==62)C=(G-1&15)<4&&(G<<2&13)>=7?94:19;else{if(C==57)return d;C==19?C=(G-2^28)<G&&(G+3^17)>=G?g:57:C==77&&(z=typeof p,M=z!=a?z:p?Array.isArray(p)?\"array\":z:\"null\",d=M==L||M==a&&typeof p.length==b,C=16)}},Ca=function(g,G,a,L,b,p,z,M,C){for(M=80;M!=5;)if(M==81)M=(a-4|29)>=a&&(a-5|13)<a?52:36;else if(M==80)M=81;else if(M==36)M=(a|8)>>4?12:95;else{if(M==12)return C;if(M==48)Array.prototype.forEach.call(L,function(d,I,x){for(x=8;x!=87;)x==24?(I=we(53,9,\"string\",\"class\",G),f(g,\"string\",G,I+(I.length>0?\" \"+d:d)),x=87):x==8?x=G.classList?34:49:x==49?x=A7(13,\"string\",36,0,d,G)?87:24:x==34&&(G.classList.add(d),x=87)}),M=12;else if(M==52)C=Object.prototype.hasOwnProperty.call(G,rb)&&G[rb]||(G[rb]=++ot),M=36;else if(M==95)M=G.classList?48:9;else if(M==9){for(p in b=(Array.prototype.forEach.call(B9(32,16,(z={},\"string\"),G),function(d){z[d]=true}),Array.prototype.forEach.call(L,function(d){z[d]=true}),\"\"),z)b+=b.length>0?\" \"+p:p;M=(f(64,\"string\",G,b),12)}}},J7=function(g,G,a,L,b,p,z,M,C,d,I,x){for(x=90;x!=5;)if(x==12)x=(G|6)>>3==1?50:61;else if(x==58)d=0,x=86;else if(x==13)x=3;else if(x==85)x=((G^16)&8)<1&&(G|4)>=g?13:3;else if(x==86)x=56;else if(x==43)C=R3(41,60,C),z&&z[nX]?z.o.add(String(b),C,L,R(18,a,p)?!!p.capture:!!p,M):yX(8,b,z,M,false,null,C,p,L),x=12;else if(x==98)J7(19,6,null,true,b[d],p,z,M,C),x=26;else if(x==90)x=85;else if(x==50)b=a,I=function(){return b<L.length?{done:false,value:L[b++]}:{done:true}},x=61;else if(x==56)x=d<b.length?98:12;else{if(x==61)return I;x==3?x=G-6&3?12:91:x==26?(d++,x=56):x==91&&(x=Array.isArray(b)?58:43)}},c=function(g,G,a,L,b,p,z,M,C,d,I){for(d=56;d!=68;)if(d==56)d=45;else if(d==11)d=L+9>=24&&L-9<25?86:26;else if(d==86)b=G,b^=b<<13,b^=b>>17,b=(p=b<<5,(b&~p)-(~b^p)+(~b|p)),(b&=a)||(b=1),I=g^b,d=26;else if(d==61)d=(L|8)>>4<1&&(L^32)>>3>=2?49:11;else if(d==45)d=(L&46)==L?94:61;else{if(d==26)return I;d==50?d=75:d==7?(C+=g.charCodeAt(M),C+=C<<10,C^=C>>6,d=51):d==75?d=M<g.length?7:20:d==94?(M=C=0,d=50):d==49?(F(G,g,a),a[xa]=2796,d=11):d==51?(M++,d=75):d==20&&(C+=C<<3,C^=C>>11,b=C+(C<<15)>>>0,z=new Number((p=(1<<G)-1,-2*~p+~(b|p)+(b&~p)+(b|~p))),z[0]=(b>>>G)%a,I=z,d=61)}},k=function(g,G,a,L,b,p,z,M,C,d){for(d=77;d!=80;)if(d==77)d=65;else if(d==64)a.s=((a.s?a.s+G:\"E:\")+L.message+\":\"+L.stack).slice(0,2048),d=1;else if(d==0)d=(g|24)==g?19:15;else if(d==65)d=((g^51)&7)==2?64:1;else if(d==99)this.n===0?C=[0,0]:(this.j.sort(function(I,x){return I-x}),C=[this.n,this.j[this.j.length>>1]]),d=0;else if(d==68)d=(g-4&7)==1?99:0;else if(d==19)C=!!(b.nu&a)&&!!(b.W&a)!=L&&(!(p=b.Hb,(p|0)+(~p^a)-(p|~a))||b.dispatchEvent(c9(20,20,8,G,4,2,L,a)))&&!b.N,d=15;else if(d==1)d=(g&87)==g?16:68;else{if(d==15)return C;if(d==16){a:{for(M=(z=[G==typeof globalThis&&globalThis,b,G==typeof window&&window,G==typeof self&&self,G==typeof global&&global],a);M<z.length;++M)if((p=z[M])&&p[L]==Math){C=p;break a}throw Error(\"Cannot find global object\");}d=68}}},wb=function(g,G){return mJ.call(this,21,g,32,G)},WL=function(g,G,a,L,b,p,z,M,C){if(!L.s){L.Rn++;try{for(C=(p=void 0,L.C),M=0;--G;)try{if(b=void 0,L.R)p=$N(L.R,L);else{if(M=v(a,L),M>=C)break;p=(b=(F(L,407,M),e(7,L)),v(b,L))}pa(false,false,7,false,(p&&(z=p[$a],(z|2048)- -2+(z^2048)+2*(~z^2048))?p(L,G):It(0,[HL,21,b],336,L),G),L)}catch(d){v(5,L)?It(22,d,336,L):F(L,5,d)}if(!G){if(L.eQ){WL(33,231458256666,(L.Rn--,135),L);return}It(0,[HL,33],336,L)}}catch(d){try{It(22,d,336,L)}catch(I){k(g,\"~\",L,I)}}L.Rn--}},Zx=function(g,G,a,L,b,p,z,M,C,d){for(C=(d=(M=0,b[g]|0),b[z]|0);M<15;M++)a=a>>>8|a<<p,C=C>>>8|C<<p,a+=L|0,a^=d+1876,L=L<<z|L>>>29,C+=d|0,d=d<<z|d>>>29,C^=M+1876,d^=C,L^=a;return[L>>>p&G,L>>>16&G,L>>>8&G,L>>>0&G,a>>>p&G,a>>>16&G,a>>>8&G,a>>>0&G]},Ka=function(g,G,a,L,b,p){b.Gg.length>a?It(p,[HL,36],G,b):(b.Gg.push(b.D.slice()),b.D[g]=void 0,F(b,g,L))},N8=function(){return a3.call(this,95,48)},Dx=function(g,G,a,L,b,p,z,M,C,d){for(b=(p=e(87,(z=(d=e(86,(C=a[PL]||{},a)),C.nz=e(87,a),C.Z=[],a.h==a)?(M=Zt(24,a,G),g+2*(M^g)+(~M^g)-2*(~M&g)):1,a)),L);b<z;b++)C.Z.push(e(87,a));for((C.wp=v(d,a),C).Pb=v(p,a);z--;)C.Z[z]=v(C.Z[z],a);return C},KX=function(g,G,a,L,b,p,z,M,C,d,I,x){if(d=G[0],d==at)L.Fp=a,L.U=true,L.S(G);else if(d==b_){x=G[1];try{z=L.s||L.S(G)}catch(w){k(9,\"~\",L,w),z=L.s}x((I=L.P(),z)),L.B+=L.P()-I}else if(d==gb)G[3]&&(L.F=true),G[4]&&(L.U=true),L.S(G);else if(d==UK)L.F=true,L.S(G);else if(d==Ab){try{for(M=0;M<L.iy.length;M++)try{b=L.iy[M],b[0][b[1]](b[2])}catch(w){}}catch(w){}((0,G[1])(function(w,D){L.Ku(w,true,D)},(L.iy=[],C=L.P(),function(w){(T(L,90,0,(w=!L.l.length,[$a])),w)&&R(5,0,false,L,true)}),function(w){return L.Tg(w)},function(w,D){return L.oY(w,D)}),L).B+=L.P()-C}else{if(d==NH)return p=G[2],F(L,231,G[6]),F(L,80,p),L.S(G);d==$a?(L.S(G),L.Lu=[],L.QY=[],L.D=null):d==xa&&P.document.readyState===\"loading\"&&(L.g=function(w,D){function r(H){for(H=31;H!=44;)H==98?(D=true,P.document.removeEventListener(\"DOMContentLoaded\",r,P9),P.removeEventListener(g,r,P9),w(),H=44):H==31&&(H=D?44:98)}P.document.addEventListener(\"DOMContentLoaded\",(D=false,r),P9),P.addEventListener(g,r,P9)})}},v=function(g,G,a){if(a=G.D[g],a===void 0)throw[HL,30,g];if(a.value)return a.create();return(a.create(g*5*g+47*g+96),a).prototype},Sj=function(){return de.call(this,90,3)},fa=function(g,G,a,L,b){return Ca.call(this,68,g,3,G,a,L,b)},Rt=function(g,G,a,L,b,p,z,M,C,d,I,x){for(x=(d=58,a);;)try{if(d==13)break;else if(d==L)d=P.console?G:52;else{if(d==4)return C;if(d==G)P.console[z](I.message),d=52;else{if(d==52)return x=a,C;d==77?(x=a,d=L):d==g?d=M&&M.createPolicy?15:4:d==15?(x=13,C=M.createPolicy(p,{createHTML:TZ,createScript:TZ,createScriptURL:TZ}),d=52):d==58&&(C=b,M=P.trustedTypes,d=g)}}}catch(w){if(x==a)throw w;x==13&&(I=w,d=77)}},na=function(){return B9.call(this,32,3)},eq=function(g,G){for(var a=57;a!=84;)if(a==15)L++,a=47;else if(a==33)p++,a=45;else if(a==79)a=47;else if(a==4)a=45;else if(a==57)var L=(a=79,1);else if(a==45)a=p<yB.length?16:15;else if(a==47)a=L<arguments.length?24:84;else if(a==24){var b=arguments[L];for(z in b)g[z]=b[z];var p=(a=4,0)}else if(a==16){var z=yB[p];a=(Object.prototype.hasOwnProperty.call(b,z)&&(g[z]=b[z]),33)}},Oj=typeof Object.defineProperties==\"function\"?Object.defineProperty:function(g,G,a,L){for(L=19;L!=97;)if(L==19)L=g==Array.prototype||g==Object.prototype?87:98;else{if(L==87)return g;if(L==98)return g[G]=a.value,g}},v9=function(g,G,a,L,b,p,z,M){return A7.call(this,13,g,3,G,a,L,b,p,z,M)},hb=function(g,G,a,L,b,p){return v(80,(F((WL(33,L,135,((p=v(135,G),G).Lu&&p<G.C?(F(G,135,G.C),Ka(135,336,a,b,G,g)):F(G,135,b),G)),G),135,p),G))},M8=function(g,G,a,L,b,p){return fX.call(this,46,g,G,a,L,b,p)},u_=function(g,G,a,L,b,p,z,M,C,d,I,x){for(x=39;x!=9;)if(x==36)x=93;else if(x==87)I(d),x=61;else if(x==22)d=z[C],x=12;else if(x==48){a:{if(d&&typeof d.length==g){if(R(21,null,d)){M=typeof d.item==\"function\"||typeof d.item==b;break a}if(typeof d===\"function\"){M=typeof d.item==\"function\";break a}}M=G}x=(B9(32,24,a,\"\",M?VX(5,a,d):d,I),61)}else x==61?(C++,x=93):x==12?x=!a3(95,5,\"object\",\"array\",g,d)||R(16,null,d)&&d.nodeType>a?87:48:x==93?x=C<z.length?22:9:x==39&&(I=function(w){w&&p.appendChild(typeof w===\"string\"?L.createTextNode(w):w)},C=1,x=36)},l=function(g,G,a,L,b,p,z,M,C){if(G.h==G)for(z=v(g,G),g==336||g==398||g==357?(b=function(d,I,x,w,D,r,H,W){for(H=(W=21,56);;)try{if(W==70)break;else if(W==22)W=z.li!=D?0:77;else if(W==0)w=(D<<3)-4,x=[0,0,M[1],M[2]],z.li=D,W=24;else if(W==24)H=81,z.Jz=Zx(2,255,e(25,3,8,(w&4)-1-~(w|4),z),e(27,3,8,w,z),x,24,3),W=77;else if(W==77)z.push(z.Jz[I&7]^d),W=70;else if(W==21)I=z.length,D=2*(I&4)+2*~(I|4)+(I^4)-2*(~I|4)>>3,W=22;else if(W==18)throw H=56,r;}catch(N){if(H==56)throw N;H==81&&(r=N,W=18)}},M=v(489,G)):b=function(d){z.push(d)},L&&b((L|255)-~(L&255)+~(L|255)),p=a.length,C=0;C<p;C++)b(a[C])},zZ=function(g){return mJ.call(this,21,g,24)},BL=function(g,G,a,L){(L=e((a=e(7,G),87),G),l)(L,G,t(v(a,G),g))},F=function(g,G,a){if(G==135||G==407)g.D[G]?g.D[G].concat(a):g.D[G]=e(64,a,g);else{if(g.D_&&G!=464)return;G==245||G==336||G==49||G==357||G==328||G==129||G==294||G==489||G==398||G==498?g.D[G]||(g.D[G]=e(5,1,5,a,G,g,150)):g.D[G]=e(37,1,5,a,G,g,81)}G==464&&(g.v=I3(24,32,false,g),g.G=void 0)},t=function(g,G,a,L,b){for(b=(G|0)-(a=[],1);b>=0;b--)a[(G|0)-1-(b|0)]=(L=g>>b*8,255-~L+~(L|255));return a},z7=function(g,G,a,L,b){return de.call(this,90,48,g,G,a,L,b)},Sq=function(){return J7.call(this,19,16)},MH=function(g){return f.call(this,3,g)},ka=function(g,G,a,L,b,p,z,M){try{L=g[(2*(G|2)+2*(~G^2)-(G|-3)-(~G|2))%3],g[G]=(b=(z=g[G],p=g[((G|0)+1)%3],(z&p)- -1+~(z|p)+2*(z&~p))-(L|0),M=G==1?L<<a:L>>>a,1-(~b^M)+2*(~b&M)+2*(b|~M))}catch(C){throw C;}},Zt=function(g,G,a){return G.R?$N(G.V,G):I3(g,a,true,G)},FD=function(){return f.call(this,17)},FJ=function(g,G){function a(){this.T=this.v4=this.n=0}return[(a.prototype.EN=function(L,b){return Ej.call(this,79,15,3,L,b)},a.prototype.y7=function(){return we.call(this,53,3)},G=new a,g=new a,function(L){(G.EN(L),g).EN(L)}),function(L){return g=(L=[G.y7(),g.y7(),G.T,g.T],new a),L}]},G7=function(){return fX.call(this,48)},E,i_=function(g,G,a,L,b,p,z){l((p=(a=(L=(z=G&(b=G&4,3),e)(22,g),e(86,g)),v)(L,g),b&&(p=vL(\"\\\\n\",\"\"+p)),z&&l(a,g,t(p.length,2)),a),g,p)},O=function(g,G,a,L,b,p,z){z=this;try{VB(a,L,p,G,this,b,g)}catch(M){k(49,\"~\",this,M),g(function(C){C(z.s)})}},sK=function(g,G,a,L,b,p,z,M){(G.push((L=(b=g[0]<<24,z=g[1]<<16,(z|0)+~z-~(b|z))|g[2]<<8,M=g[3],-(L&M)+-2-~L-~M)),G).push((p=g[4]<<24,a=g[5]<<16,(p|0)-(p&~a)+(p^a))|g[6]<<8|g[7]),G.push(g[8]<<24|g[9]<<16|g[10]<<8|g[11])},vL=function(g,G,a,L,b,p,z,M,C,d,I,x,w,D){for(d=(a=G.replace(/\\\\r\\\\n/g,g),0),x=[],D=0;D<a.length;D++)w=a.charCodeAt(D),w<128?x[d++]=w:(w<2048?x[d++]=(z=w>>6,-(z&192)-2*~(z|192)+(z^192)+2*(~z^192)):((w&64512)==55296&&D+1<a.length&&(I=a.charCodeAt(D+1),64513+(I&-64513)+(~I^64512))==56320?(w=65536+((w&1023)<<10)+(b=a.charCodeAt(++D),(b|1023)-2*~(b&1023)+2*~(b|1023)+(b^1023)),x[d++]=w>>18|240,x[d++]=w>>12&63|128):x[d++]=(C=w>>12,223-(~C|224)),x[d++]=(p=(L=w>>6,63-~L+~(L|63)),127-(~p^128)-(~p&128))),x[d++]=(M=w&63,127-(~M|128)));return x},ge=function(g,G){return B9.call(this,32,48,g,G)},VB=function(g,G,a,L,b,p,z,M,C,d,I,x,w,D){for(M=(b.RY=(b.Ym=T7(8,(b.O6=(b.Q7=cL,b)[b.SQ=q8,b_],8),{get:function(){return this.concat()}},b.H),W9[b.H](b.Ym,{value:{value:{}}})),[]),C=0;C<260;C++)M[C]=String.fromCharCode(C);if(b.In=(b.D=[],b.Gg=[],b.iy=[],(b.Rn=0,b).s=((b.J=void 0,b.U=((b.B=0,b).Fp=25,false),b.IY=[],b).Kz=0,(b.fu=(b.g=null,w=window.performance||{},b.F=false,b.cb=function(r){return VX.call(this,43,r)},0),b).QY=[],b.uy=void 0,b.zg=(b.R=(b.G=void 0,void 0),false),b.aY=(b.Az=[],false),(b.VY=L,b.h=(b.v=void 0,b),b).V7=p,b.Lz=8001,b.on=0,b.Xp=void 0,b.gp=false,b.tZ=0,b.D_=false,b.C=0,b.u=1,(b.l=[],b).V=void 0,b.an=0,void 0),b.Lu=[],0),b.zQ=w.timeOrigin||(w.timing||{}).navigationStart||0,g&&g.length==2&&(b.IY=g[0],b.Az=g[1]),G)try{b.J=JSON.parse(G)}catch(r){b.J={}}R(5,(T(b,(T(b,(T(b,(c(346,b,(F(b,398,(F(b,489,(c(474,b,(F(b,(c(267,b,function(r,H,W,N){F((H=e(86,(N=Zt(24,r,(W=e(7,r),8)),r)),r),H,v(W,r)>>>N)},((F(b,80,(F(b,(c(128,b,(c(379,(F(b,(c(24,b,function(r,H,W,N,K){F(r,(H=v((W=v((N=e(87,(K=e(23,r),r)),N),r),K),r),N),W+H)},(c(335,b,(c(176,b,(c(8,(c((c(380,(c(29,b,function(r,H,W,N,K,A,U){for(U=16;U!=48;)U==11?(r.G=void 0,U=10):U==16?(H=e(23,r),N=e(86,r),A=e(22,r),U=36):U==75?(r.v=I3(24,32,false,r),r.G=void 0,U=48):U==10?U=W==2?75:48:U==21?U=H==464?11:48:U==36?U=r.h==r?87:48:U==87&&(K=v(A,r),W=v(N,r),v(H,r)[W]=K,U=21)},(c(358,(c(329,b,function(r,H,W){(H=v((W=e(87,r),W),r.h),H[0]).removeEventListener(H[1],H[2],P9)},(c(242,b,(F(b,20,((F(b,(c(469,b,(F(b,336,(c(273,(F(b,(c((c(74,b,(F(b,245,(c((c(139,b,function(r,H,W,N,K,A){F((H=v((W=v((K=e(86,(A=e(87,(N=e(22,r),r)),r)),A),r),N),r),r),K,H[W])},(c(210,b,(b.jQ=(c(493,b,((c(393,b,(c(226,(F(b,(F(b,(b.fz=(F(b,357,(F(b,(F(b,407,(((b.laantf=(b.cpnqjn=(b.kuydqs=[],b.bgodnd=0,\"\"),[]),b.J&&b.J.a)&&((x=b.J.b)&&(b.bgodnd=x),(D=b.J.c)&&(b.cpnqjn=D),(I=b.J.d)&&(b.kuydqs=I),(d=b.J.e)&&(b.laantf=d)),F)(b,135,0),0)),c(63,b,function(r){BL(1,r)},5),12),0),l_(4))),0),419),P),294),[]),b),function(r,H,W,N,K,A,U,n,B,u,S,q,Y,Q,h){for(h=32;h!=25;)if(h==10)h=N<K?28:25;else if(h==81)h=r.h==r?14:25;else if(h==88)B=e(23,r),U=e(7,r),Q=e(22,r),A=e(71,r),Y=v(Q,r),u=v(B,r),W=v(A,r),n=v(U,r),h=87;else if(h==14)Y=Y>0?Y:1,N=0,K=u.length,h=49;else if(h==28)n(u.slice(N,(N|0)+(Y|0)),W),h=55;else if(h==49)h=10;else if(h==87)h=XD(\"call\",\"number\",u)==\"object\"?78:81;else if(h==78){for(S in q=[],u)q.push(S);h=81,u=q}else h==55?(N+=Y,h=10):h==32&&(h=pa(true,false,6,true,H,r)?25:88)},9),function(r,H,W,N,K,A){F((A=(K=(H=(W=e(71,r),e(7,r)),e(86,r)),N=v(H,r),v(W,r)),r),K,A in N|0)}),11),b).gq=0,function(r){i_(r,4)}),7),0),function(r,H,W,N){F((N=e(22,(W=e(71,(H=e(87,r),r)),r)),r),N,v(H,r)||v(W,r))}),7),11)),161),b,function(r){i_(r,3)},3),[154,0,0])),function(r,H,W){F(r,(H=e(22,(W=e(87,r),r)),H),\"\"+v(W,r))}),5),472),b,function(r,H,W,N,K,A,U,n,B,u,S,q,Y,Q,h,o3,Uj,y,CX){for(y=88;y!=93;)y==39?(S++,y=59):y==63?(S=0,y=75):y==7?(q++,y=52):y==69?(B++,y=1):y==1?y=B<Q?49:73:y==49?(N=CX(1),W.push(N),H+=N?0:1,y=69):y==81?(o3=U,K=[],y=98):y==13?y=52:y==16?(W[q]||(Uj[q]=CX(Y)),y=7):y==73?(Y=((H|0)-1).toString(2).length,Uj=[],q=0,y=13):y==12?(K.push(v(e(71,r),r)),y=47):y==47?y=76:y==4?y=1:y==54?(W[S]&&(Uj[S]=e(86,r)),y=39):y==88?(CX=function(V,X){for(;u<V;)h|=Zt(24,r,8)<<u,u+=8;return h>>=(X=h&(1<<V)-(u-=V,1),V),X},A=e(7,r),h=u=0,U=(n=CX(3),-2*~n+(n^1)+2*(~n|1)),Q=CX(5),B=0,W=[],H=0,y=4):y==51?(c(A,r,function(V,X,xN,m,h7,J){for(J=64;J!=55;)J==62?(h7.push(e(22,V)),J=38):J==40?(V.R=e(66,K.slice(),V),V.V=e(72,X,V),J=55):J==64?(m=0,h7=[],X=[],J=3):J==29?J=W[m]?96:83:J==38?J=48:J==14?J=m<Q?27:40:J==83?J=48:J==3?J=14:J==89?(xN=h7[xN],J=96):J==48?J=xN>=h7.length?62:89:J==27?(xN=Uj[m],J=29):J==20?(m++,J=14):J==96&&(X.push(xN),J=20)},3),y=93):y==52?y=q<Q?16:63:y==98?y=76:y==75?y=59:y==76?y=o3--?12:51:y==59&&(y=S<Q?54:81)},11),5),140),b),function(r,H,W,N,K){for(K=54;K!=94;)K==93?(W=e(22,r),N[W]=r.D[W],K=53):K==19?K=H>0?93:46:K==72?K=19:K==11?K=N?5:55:K==5?(H=Zt(24,r,8),K=72):K==54?(N=r.Gg.pop(),K=11):K==46?(N[328]=r.D[328],N[498]=r.D[498],r.D=N,K=94):K==55?(F(r,135,r.C),K=94):K==53&&(H--,K=19)},13),l_(4))),function(r,H,W,N,K,A){for(A=27;A!=6;)A==96?(F(r,W,K),A=6):A==39?(H++,A=81):A==5?(K.push(Zt(24,r,8)),A=39):A==27?(W=e(23,r),N=e(11,2,r),K=[],H=0,A=1):A==81?A=H<N?5:96:A==1&&(A=81)}),11),193),0),F)(b,49,[]),c(104,b,function(r,H,W,N,K,A,U,n,B,u,S){for(S=20;S!=14;)S==45?(H=e(40,false,2,K,r,W,1,U,N),U.addEventListener(N,H,P9),v(510,r).push(function(){U.removeEventListener(N,H,P9)}),F(r,12,[U,N,H]),S=14):S==7?S=U!==0?45:14:S==20&&(A=e(22,r),B=e(23,r),u=e(7,r),n=e(71,r),K=v(u,r),U=v(A,r.h),W=v(n,r),N=v(B,r),S=7)},13),b)),function(r,H,W,N,K){for(K=86;K!=27;)K==86?K=pa(false,false,5,true,H,r)?27:56:K==56&&(W=e(71,r),N=e(86,r),F(r,N,function(A){return eval(A)}(QB(v(W,r.h)))),K=27)}),11),5)),b),function(r,H,W,N,K){F(r,(H=XD(\"call\",(W=(K=e(86,r),N=e(23,r),v)(K,r),\"number\"),W),N),H)},9),5)),F(b,510,[]),b),function(r,H,W,N,K,A,U,n){F((H=(A=(N=e(23,(n=e(7,(W=e((U=e(22,r),71),r),r)),r)),K=v(W,r),v(n,r)),v(N,r)),r),U,e(42,false,2,K,r,A,H))},13),271),b,function(r){BL(4,r)},3),b),function(r,H,W,N,K,A){for(A=8;A!=84;)A==8?A=pa(false,false,3,true,H,r)?84:93:A==69?A=r.h==r||N==r.cb&&W==r?80:84:A==93?(K=Dx(1,8,r,0),N=K.wp,W=K.Pb,A=69):A==80&&(F(r,K.nz,N.apply(W,K.Z)),r.an=r.P(),A=84)},7),function(r,H,W,N,K,A){F((H=(A=(W=(K=e(7,r),e(7,r)),e(23,r)),N=v(K,r),v)(W,r),r),A,+(N==H))}),7),function(r,H){(H=v(e(71,r),r),Ka)(135,336,104,H,r.h,0)}),7),5)),328),[]),b),function(r){GZ(true,8,r,17,4)},3),function(r,H,W,N){(W=e(23,r),N=e(23,r),H=v(N,r),v)(W,r)!=0&&F(r,135,H)}),9),129),[]),{})),new tb(\"Submit\")).dispose(),3)),498),[2048]),function(){}),9),[0,0,0])),l_(4))),function(r,H,W,N,K,A,U,n,B,u){for(u=64;u!=46;)u==38?(A=Dx(1,8,r.h,0),U=A.Z,W=U.length,B=A.nz,n=A.Pb,K=A.wp,N=W==0?new n[K]:W==1?new n[K](U[0]):W==2?new n[K](U[0],U[1]):W==3?new n[K](U[0],U[1],U[2]):W==4?new n[K](U[0],U[1],U[2],U[3]):2(),F(r,B,N),u=46):u==64&&(u=pa(false,false,3,true,H,r)?46:38)}),13),c(54,b,function(r,H,W,N,K,A,U,n){for(n=21;n!=16;)n==21?(K=e(71,r),A=e(9,2,r),N=\"\",U=v(186,r),W=U.length,H=0,n=82):n==24?n=34:n==34?n=A--?1:2:n==82?n=34:n==2?(F(r,K,N),n=16):n==1&&(H=((H|0)+(e(12,2,r)|0))%W,N+=M[U[H]],n=24)},9),10),0,[xa]),42),0,[UK,a]),26),0,[Ab,z]),0),true,b,true)},$N=function(g,G,a){return(a=g.create().shift(),G).R.create().length||G.V.create().length||(G.R=void 0,G.V=void 0),a},pX=function(){return Ej.call(this,79,15,5)},TZ=function(g){return A7.call(this,13,g,23)},tb=function(g,G,a){return de.call(this,90,10,g,G,a)},Ya=function(g,G,a,L,b){if(g.length==3){for(L=0;L<3;L++)G[L]+=g[L];for(a=[13,8,13,12,16,5,3,10,(b=0,15)];b<9;b++)G[3](G,b%3,a[b])}},EK=function(g,G,a,L,b){return c9.call(this,20,3,L,g,a,b,G)},XD=function(g,G,a,L,b){if((b=typeof a,b)==\"object\")if(a){if(a instanceof Array)return\"array\";if(a instanceof Object)return b;if((L=Object.prototype.toString.call(a),L)==\"[object Window]\")return\"object\";if(L==\"[object Array]\"||typeof a.length==G&&typeof a.splice!=\"undefined\"&&typeof a.propertyIsEnumerable!=\"undefined\"&&!a.propertyIsEnumerable(\"splice\"))return\"array\";if(L==\"[object Function]\"||typeof a.call!=\"undefined\"&&typeof a.propertyIsEnumerable!=\"undefined\"&&!a.propertyIsEnumerable(g))return\"function\"}else return\"null\";else if(b==\"function\"&&typeof a.call==\"undefined\")return\"object\";return b},It=function(g,G,a,L,b,p,z,M,C,d,I,x,w){if(!L.D_&&(b=void 0,G&&G[0]===HL&&(g=G[1],b=G[2],G=void 0),C=v(328,L),C.length==0&&(M=v(407,L)>>3,C.push(g,(z=M>>8,255-(~z&255)),M&255),b!=void 0&&C.push((b|255)- -1+(~b^255))),p=\"\",G&&(G.message&&(p+=G.message),G.stack&&(p+=\":\"+G.stack)),d=v(498,L),d[0]>3)){(w=(p=p.slice(0,(d[0]|0)-3),d[0]-=(p.length|0)+3,p=vL(\"\\\\n\",p),L.h),L).h=L;try{L.gp?(x=(x=v(129,L))&&x[x.length-1]||95,(I=v(294,L))&&I[I.length-1]==x||l(294,L,[510-~(x&255)- -1+-512])):l(129,L,[95]),l(a,L,t(p.length,2).concat(p),51)}finally{L.h=w}}},I3=function(g,G,a,L,b,p,z,M,C,d,I,x,w,D,r,H,W){if((r=v(135,L),r)>=L.C)throw[HL,31];for(W=r,H=(C=0,L.O6.length),M=G;M>0;)w=W>>3,I=W%8,D=L.Lu[w],z=8-(I|0),d=z<M?z:M,a&&(x=L,x.G!=W>>6&&(x.G=W>>6,b=v(464,x),x.uy=Zx(2,255,x.G,x.v,[0,0,b[1],b[2]],g,3)),D^=L.uy[w&H]),C|=(D>>8-(I|0)-(d|0)&(1<<d)-1)<<(M|0)-(d|0),W+=d,M-=d;return F(L,135,(r|(p=C,0))+(G|0)),p},jq=function(g,G,a,L,b,p){return T.call(this,a,48,g,G,L,b,p)},be=function(g,G,a,L,b,p,z,M){return pa.call(this,G,g,25,a,L,b,p,z,M)},OK=function(g){return T7.call(this,8,16,g)},l_=function(g,G,a){for(a=37;a!=36;)if(a==11)a=g--?43:28;else if(a==43)G.push(Math.random()*255|0),a=32;else if(a==32)a=11;else if(a==3)a=11;else if(a==37)G=[],a=3;else if(a==28)return G},XJ=function(g,G){function a(){this.j=(this.n=0,[])}return[function(L){(G.jd(L),g).jd(L)},(g=(G=((a.prototype.jd=function(L,b){return pa.call(this,b,L,19)},a).prototype.hz=function(){return k.call(this,13)},new a),new a),function(L){return g=(L=G.hz().concat(g.hz()),new a),L})]},jj=k(3,\"object\",0,\"Math\",this),P=(Dt(9,1,0,\".\",null,\"Symbol\",function(g,G,a,L,b,p){for(p=7;p!=33;)if(p==3)p=g?2:46;else if(p==7)L=function(z,M){(this.s6=z,Oj)(this,\"description\",{configurable:true,writable:true,value:M})},b=function(z,M){for(M=3;M!=22;)if(M==3)M=this instanceof b?47:12;else{if(M==12)return new L(a+(z||\"\")+\"_\"+G++,z);if(M==47)throw new TypeError(\"Symbol is not a constructor\");}},p=3;else{if(p==2)return g;if(p==46)return L.prototype.toString=function(){return this.s6},a=\"jscomp_symbol_\"+(Math.random()*1E9>>>0)+\"_\",G=0,b}}),this)||self,rb=\"closure_uid_\"+(Math.random()*1E9>>>0),kN,ot=0,QX=function(g,G,a,L,b,p){for(p=(b=10,46);;)try{if(b==90)break;else{if(b==4)return p=46,a;if(b==35)return false;b==65?(p=59,g=function(){},P.addEventListener(\"test\",g,G),P.removeEventListener(\"test\",g,G),b=4):b==46?(p=46,b=4):b==96?(a=false,G=Object.defineProperty({},\"passive\",{get:function(){a=true}}),b=65):b==10&&(b=P.addEventListener&&Object.defineProperty?96:35)}}catch(z){if(p==46)throw z;p==59&&(L=z,b=46)}}(),nX=(((((pX.prototype[pX.prototype.dispose=(pX.prototype.N=false,function(g){for(g=33;g!=62;)g==33?g=this.N?62:86:g==86&&(this.N=true,this.I(),g=62)}),ge.prototype.stopPropagation=function(){this.YJ=true},Symbol.dispose]=(ge.prototype.preventDefault=function(){this.defaultPrevented=true},function(){this.dispose()}),pX.prototype).I=function(g){for(g=53;g!=20;)g==59?g=33:g==33?g=this.by.length?24:20:g==24?(this.by.shift()(),g=36):g==36?g=33:g==53&&(g=this.by?59:20)},VX)(24,2,z7,ge),z7.prototype).stopPropagation=function(){(z7.Y.stopPropagation.call(this),this).hZ.stopPropagation?this.hZ.stopPropagation():this.hZ.cancelBubble=true},z7.prototype).preventDefault=function(g){g=(z7.Y.preventDefault.call(this),this.hZ),g.preventDefault?g.preventDefault():g.returnValue=false},\"closure_listenable_\")+(Math.random()*1E6|0),db=0,yB=\"constructor hasOwnProperty isPrototypeOf propertyIsEnumerable toLocaleString toString valueOf\".split(\" \"),re=(MH.prototype.add=((MH.prototype.qN=function(g,G,a,L,b,p){return(p=this.L[L.toString()],b=-1,p&&(b=fX(3,0,G,g,p,a)),b)>-1?p[b]:null},MH.prototype.hasListener=function(g,G,a,L,b){return a3(95,(b=(a=(L=G!==void 0,g!==void 0))?g.toString():\"\",16),true,false,this.L,function(p,z,M){for(M=82;M!=52;){if(M==97)return true;if(M==48)M=39;else if(M==82)z=0,M=48;else if(M==39)M=z<p.length?91:70;else{if(M==70)return false;M==91?M=a&&p[z].type!=b||L&&p[z].capture!=G?81:97:M==81&&(++z,M=39)}}})},MH.prototype).remove=function(g,G,a,L,b,p,z,M){for(M=34;M!=20;){if(M==81)return true;if(M==34)b=g.toString(),M=22;else if(M==33)p=this.L[b],z=fX(43,0,G,a,p,L),M=88;else if(M==22)M=b in this.L?33:87;else if(M==25)Dt(26,null,p[z]),Array.prototype.splice.call(p,z,1),M=29;else if(M==88)M=z>-1?25:86;else if(M==29)M=p.length==0?36:81;else{if(M==87||M==86)return false;M==36&&(delete this.L[b],this.sN--,M=81)}}},function(g,G,a,L,b,p,z,M,C,d){for(d=25;d!=39;)if(d==25)M=g.toString(),p=this.L[M],d=80;else if(d==29)z=fX(49,0,G,L,p,b),d=79;else if(d==83)C.pu=false,d=44;else if(d==49)d=a?44:83;else if(d==79)d=z>-1?12:77;else{if(d==44)return C;d==77?(C=new EK(M,b,!!L,this.src,G),C.pu=a,p.push(C),d=44):d==80?d=p?29:92:d==92?(p=this.L[M]=[],this.sN++,d=29):d==12&&(C=p[z],d=49)}}),\"closure_lm_\")+(Math.random()*1E6|0),sj={},qH=0,ue=\"__closure_events_fn_\"+(Math.random()*1E9>>>0);((((((E=((VX(26,2,Sj,pX),Sj).prototype[nX]=true,Sj).prototype,E).B4=function(g){this.xJ=g},E).addEventListener=function(g,G,a,L){R3(41,36,0,null,this,G,L,a,g)},E).removeEventListener=function(g,G,a,L){yX(18,a,G,L,0,null,this,g)},E).dispatchEvent=function(g,G,a,L,b,p,z,M,C,d,I,x){for(x=44;x!=69;)if(x==91)b=b.xJ,x=35;else if(x==31)x=M instanceof ge?12:92;else if(x==2)x=typeof M===\"string\"?55:31;else if(x==10)p.push(b),x=91;else if(x==35)x=b?10:81;else if(x==96)x=89;else if(x==89)x=!M.YJ&&C>=0?61:63;else if(x==63)x=M.YJ?40:19;else if(x==62)d=M.currentTarget=I[C],a=Dt(70,null,false,d,M,G)&&a,x=43;else if(x==94)p=[],x=58;else if(x==38)a=true,x=14;else if(x==61)d=M.currentTarget=I[C],a=Dt(5,null,true,d,M,G)&&a,x=57;else if(x==71)x=b?94:81;else if(x==43)C++,x=86;else if(x==55)M=new ge(M,L),x=38;else if(x==86)x=!M.YJ&&C<I.length?62:45;else if(x==92)z=M,M=new ge(G,L),eq(M,z),x=38;else if(x==54)C=I.length-1,x=96;else if(x==11)x=86;else if(x==58)x=35;else if(x==14)x=I?54:63;else if(x==12)M.target=M.target||L,x=38;else{if(x==45)return a;x==44?(b=this.xJ,x=71):x==19?(d=M.currentTarget=L,a=Dt(69,null,true,d,M,G)&&a,M.YJ||(a=Dt(68,null,false,d,M,G)&&a),x=40):x==57?(C--,x=89):x==59?(C=0,x=11):x==81?(L=this.rq,M=g,G=M.type||M,I=p,x=2):x==40&&(x=I?59:45)}},E).I=function(){this.xJ=((Sj.Y.I.call(this),this).o&&T(this.o,65,0,null),null)},E.qN=function(g,G,a,L){return this.o.qN(g,G,a,String(L))},E).hasListener=function(g,G){return this.o.hasListener(g!==void 0?String(g):void 0,G)};var ej;(((E=(VX(24,2,(((c9(20,(\"ARTICLE SECTION NAV ASIDE H1 H2 H3 H4 H5 H6 HEADER FOOTER ADDRESS P HR PRE BLOCKQUOTE OL UL LH LI DL DT DD FIGURE FIGCAPTION MAIN DIV EM STRONG SMALL S CITE Q DFN ABBR RUBY RB RT RTC RP DATA TIME CODE VAR SAMP KBD SUB SUP I B U MARK BDI BDO SPAN BR WBR NOBR INS DEL PICTURE PARAM TRACK MAP TABLE CAPTION COLGROUP COL TBODY THEAD TFOOT TR TD TH SELECT DATALIST OPTGROUP OPTION OUTPUT PROGRESS METER FIELDSET LEGEND DETAILS SUMMARY MENU DIALOG SLOT CANVAS FONT CENTER ACRONYM BASEFONT BIG DIR HGROUP STRIKE TT\".split(\" \").concat([\"BUTTON\",\"INPUT\"]),E=FD.prototype,E.K=function(g){return typeof g===\"string\"?this.AZ.getElementById(g):g},E.getElementsByTagName=function(g,G){return(G||this.AZ).getElementsByTagName(String(g))},E.createElement=function(g,G,a){return(G=String((a=this.AZ,g)),a).contentType===\"application/xhtml+xml\"&&(G=G.toLowerCase()),a.createElement(G)},E.createTextNode=function(g){return this.AZ.createTextNode(String(g))},E.appendChild=function(g,G){g.appendChild(G)},E.append=function(g,G){u_(\"number\",false,0,g.nodeType==9?g:g.ownerDocument||g.document,\"string\",g,arguments)},E.canHaveChildren=function(g,G){for(G=92;G!=60;){if(G==86)return false;if(G==92)G=g.nodeType!=1?86:17;else if(G==17){switch(g.tagName){case \"APPLET\":case \"AREA\":case \"BASE\":case \"BR\":case \"COL\":case \"COMMAND\":case \"EMBED\":case \"FRAME\":case \"HR\":case \"IMG\":case \"INPUT\":case \"IFRAME\":case \"ISINDEX\":case \"KEYGEN\":case \"LINK\":case \"NOFRAMES\":case \"NOSCRIPT\":case \"META\":case \"OBJECT\":case \"PARAM\":case \"SCRIPT\":case \"SOURCE\":case \"STYLE\":case \"TRACK\":case \"WBR\":return false}return true}}},E.removeNode=OK,E.contains=function(g,G,a,L){for(L=14;L!=92;)if(L==33)L=typeof g.compareDocumentPosition!=\"undefined\"?91:47;else{if(L==71)return g==G||g.contains(G);if(L==47)L=83;else{if(L==38)return G==g;if(L==77)return false;if(L==19)G=G.parentNode,L=66;else if(L==0)L=g.contains&&G.nodeType==1?71:33;else if(L==66)L=83;else{if(L==91)return g==G||!!(a=g.compareDocumentPosition(G),(a|0)-1-(a^16)-(a|-17));L==14?L=g&&G?0:77:L==83&&(L=G&&g!=G?19:38)}}}},54),na),na.prototype).xm=\"\",na).prototype.Xx=0,zZ),Sj),zZ.prototype),E.bi=na.ed(),E.K=function(){return this.i},E).getParent=function(){return this.DE},E.B4=function(g,G){for(G=73;G!=65;){if(G==33)throw Error(\"Method not supported\");G==69?(zZ.Y.B4.call(this,g),G=65):G==73&&(G=this.DE&&this.DE!=g?33:69)}},E).yY=function(){this.kJ=!((f(21,function(g){g.kJ&&g.yY()},this),this).m8&&T(this.m8,64,0,null),1)},E.I=function(g){for(g=19;g!=38;)g==67?g=this.m8?85:1:g==85?(this.m8.dispose(),delete this.m8,g=1):g==19?(this.kJ&&this.yY(),g=67):g==1&&(f(29,function(G){G.dispose()},this),!this.km&&this.i&&OK(this.i),this.DE=this.W4=this.i=this.c4=null,zZ.Y.I.call(this),g=38)},E).removeChild=function(g,G,a,L,b,p,z,M,C,d,I,x,w){for(w=56;w!=82;){if(w==43)throw Error(\"Unable to set parent component\");if(w==33)throw Error(\"Child is not in parent component\");if(w==64)z=g,w=70;else if(w==61)p=x,w=28;else if(w==17)w=G?79:64;else if(w==53)w=p&&g?42:25;else if(w==70)w=z==null?43:30;else if(w==22)w=typeof g===\"string\"?16:78;else if(w==25)w=g?52:33;else{if(w==52)return g;w==9?(I=null,w=80):w==16?(x=g,w=61):w==68?(x=M,w=61):w==80?(g=I,w=53):w==79?(g.yY(),g.i&&OK(g.i),w=64):w==41?(L=g.bi,d=g,C=L.xm+\":\"+(L.Xx++).toString(36),M=d.mc=C,w=68):w==56?w=g?22:25:w==42?(a=this.W4,p in a&&delete a[p],f(58,0,g,this.c4),w=17):w==30?(z.DE=null,zZ.Y.B4.call(z,null),w=25):w==27?(b=this.W4,I=(b!==null&&p in b?b[p]:void 0)||null,w=80):w==78?w=(M=g.mc)?68:41:w==28&&(w=this.W4&&p?27:9)}}};var aH,bs=(((E=(c9(20,51,N8),N8.prototype),E.Cu=function(g,G,a,L,b,p,z,M,C){for(C=37,M=80;;)try{if(C==11)break;else C==59?(b=a,C=88):C==38?(M=80,C=65):C==68?C=g.W&32?54:96:C==74?(b.tabIndex=0,C=11):C==63?C=p!=G?59:11:C==88?C=G?74:13:C==65?(M=80,C=68):C==37?C=g.nu&32&&(a=g.ON())?8:11:C==13?(b.tabIndex=-1,b.removeAttribute(\"tabIndex\"),C=11):C==50?(L=a.tabIndex,p=typeof L===\"number\"&&L>=0&&L<32768,C=63):C==8?C=!G&&g.W&32?40:96:C==96?C=(p=a.hasAttribute(\"tabindex\"))?50:63:C==54?(g.ZE&4&&g.nu&4&&g.setActive(false),g.ZE&32&&g.nu&32&&k(26,64,32,false,g)&&g.X(32,false),C=96):C==40&&(M=42,a.blur(),C=65)}catch(d){if(M==80)throw d;M==42&&(z=d,C=38)}},E).NN=function(){return\"goog-control\"},E.X=function(g,G,a,L,b,p,z){for(z=38;z!=33;)z==36?z=this.UN?71:14:z==5?z=p?36:33:z==14?(L=this.NN(),L.replace(/\\\\xa0|\\\\s/g,\" \"),this.UN={1:L+\"-disabled\",2:L+\"-hover\",4:L+\"-active\",8:L+\"-selected\",16:L+\"-checked\",32:L+\"-focused\",64:L+\"-open\"},z=71):z==71?((b=this.UN[G])&&this.rp(b,g,a),this.H4(p,G,a),z=33):z==38&&(p=g.K(),z=5)},E.rp=function(g,G,a,L){(L=G.K?G.K():G)&&(a?fa:wb)(L,[g])},E).ON=function(g){return g.K()},{button:\"pressed\",checkbox:\"checked\",menuitem:\"selected\",menuitemcheckbox:\"checked\",menuitemradio:\"checked\",radio:\"checked\",tab:\"selected\",treeitem:\"selected\"}),La=(((c9(20,(VX(16,2,(E.H4=function(g,G,a,L,b,p,z,M){((L=(b=(aH||(aH={1:\"disabled\",8:\"selected\",16:\"checked\",64:\"expanded\"}),aH[G]),g.getAttribute(\"role\")||null))?(M=bs[L]||b,z=b==\"checked\"||b==\"selected\"?M:b):z=b,p=z)&&R3(41,19,\"hidden\",\"atomic\",g,a,p)},Sq),N8),55),Sq),Sq).prototype.H4=function(g,G,a){switch(G){case 8:case 16:R3(41,18,\"hidden\",\"atomic\",g,a,\"pressed\");break;default:case 64:case 1:Sq.Y.H4.call(this,g,G,a)}},Sq).prototype.NN=function(){return\"goog-button\"},{});if(((((((((((((VX(18,2,be,zZ),E=be.prototype,E).yY=function(){((be.Y.yY.call(this),this.ly)&&this.ly.detach(),this.isVisible()&&this.isEnabled())&&this.O.Cu(this,false)},E).ZE=255,E.I=function(g){for(g=6;g!=69;)g==74?(this.ly.dispose(),delete this.ly,g=1):g==6?(be.Y.I.call(this),g=86):g==86?g=this.ly?74:1:g==1&&(delete this.O,this.A=null,g=69)},E).rp=function(g,G,a){for(a=53;a!=23;)a==53?a=g?86:42:a==77?(this.A=null,a=88):a==86?a=G?11:23:a==41?a=this.A.length==0?77:88:a==11?(this.A?a3(95,35,1,this.A,G)>=0||this.A.push(G):this.A=[G],this.O.rp(G,this,true),a=23):a==42?a=G&&this.A&&f(57,0,G,this.A)?41:23:a==88&&(this.O.rp(G,this,false),a=23)},E).W=0,E.A=null,E.Hb=0,E).nu=39,E).qJ=true,E).ON=function(){return this.O.ON(this)},E).isVisible=function(){return this.qJ},E.isEnabled=function(){return!(this.W&1)},E).isActive=function(){return!!(this.W&4)},E).setActive=function(g){k(27,64,4,g,this)&&this.X(4,g)},E).getState=function(){return this.W},E.X=function(g,G,a,L,b,p,z){for(z=6;z!=36;)z==0?(this.isVisible()&&this.O.Cu(this,b),this.X(1,!b,true),z=36):z==32?z=this.nu&g&&G!=!!(this.W&g)?57:36:z==14?(this.setActive(false),k(28,64,2,false,this)&&this.X(2,false),z=0):z==6?z=a||g!=1?32:20:z==20?(b=!G,p=this.getParent(),z=27):z==93?z=b?0:14:z==27?z=p&&typeof p.isEnabled==\"function\"&&!p.isEnabled()||!k(24,64,1,!b,this)?36:93:z==57&&(this.O.X(this,g,G),this.W=G?this.W|g:(L=this.W,(L|0)-~(L&~g)+~L),z=36)},typeof be)!==\"function\")throw Error(\"Invalid component class \"+be);if(typeof N8!==\"function\")throw Error(\"Invalid renderer class \"+N8);var GG=Ca(68,be,16);fX(8,\"goog-button\",((VX(16,(((c9(20,(VX(18,2,(fX((La[GG]=N8,40),\"goog-control\",function(){return new be(null)}),G7),Sq),53),G7),G7.prototype).H4=function(){},G7.prototype).Cu=function(){},G7.prototype.X=function(g,G,a,L,b){for(b=12;b!=22;)b==34?(L.disabled=a,b=22):b==81?b=L&&G==1?34:22:b==12&&(G7.Y.X.call(this,g,G,a),L=g.K(),b=81)},2),tb,be),tb.prototype).I=function(){delete (tb.Y.I.call(this),delete this.wq,this).ui},function(){return new tb(null)}));var le,ie=P.requestIdleCallback?function(g){requestIdleCallback(function(){g()},{timeout:4})}:P.setImmediate?function(g){setImmediate(g)}:function(g){setTimeout(g,0)},P9={passive:true,capture:true},PL=String.fromCharCode(105,110,116,101,103,67,104,101,99,107,66,121,112,97,115,115),$a=[],HL={},at=[],Ab=[],b_=[],gb=(O.prototype.E6=(O.prototype.Sd=\"toString\",O.prototype.Z_=void 0,void 0),[]),NH=(O.prototype.eQ=false,[]),xa=[],UK=[],W9=(E=(((sK,l_,ka,function(){})(Ya),function(){})(XJ),FJ,O.prototype),E.Wb=function(){return R.call(this,3)},HL.constructor),H9=((E.P=(E.ii=0,E.vb=function(g,G,a,L,b,p,z,M){return c.call(this,g,G,a,34,L,b,p,z,M)},(E.TQ=function(g,G,a,L,b,p,z,M,C){return Dt.call(this,32,g,G,a,L,b,p,z,M,C)},(E.GQ=function(){return R3.call(this,41,8)},window).performance||{}).now?function(){return this.zQ+window.performance.now()}:function(){return+new Date}),O.prototype).H=(E.MJ=function(g,G,a,L,b){return c.call(this,g,G,a,16,L,b)},E.Ku=function(g,G,a,L,b,p){return GZ.call(this,true,g,G,24,a,L,b,p)},\"create\"),void 0);(E=O.prototype,E).S=function(g,G){return g=(H9=(G={},function(){return G==g?96:111}),{}),function(a,L,b,p,z,M,C,d,I,x,w,D,r,H,W,N,K,A,U,n,B,u,S,q,Y,Q,h,o3,Uj,y,CX,V,X,xN,m,h7,J,Jb,t7,mG,LX,Z){for(m=(LX=undefined,Z=29,92),J=false;;)try{if(Z==31)break;else if(Z==95){if(Y=(x=v(510,this),typeof Symbol!=\"undefined\"&&Symbol.iterator)&&x[Symbol.iterator])CX=Y.call(x);else if(typeof x.length==\"number\")CX={next:J7(19,8,0,x)};else throw Error(String(x)+\" is not an iterable or ArrayLike\");Z=(H=(I=CX,I.next()),44)}else if(Z==35)o3=r.charCodeAt(u),Z=85;else{if(Z==30)return t7;if(Z==5)Z=W==$a?95:26;else if(Z==1)m=32,r=atob(Uj),u=0,z=[],h=0,Z=81;else if(Z==43)Z=LX!==undefined?26:61;else if(Z==60)x.length=0,Z=26;else if(Z==42)U=a[2],d=t((v(245,this).length|0)+2,2),p=this.h,this.h=this,Z=58;else if(Z==98)Z=W==UK?53:15;else if(Z==61)m=39,w=l_(2).concat(v(245,this)),w[1]=(K=w[0],(K|0)-(K&60)-1-(K|-61)),w[3]=(C=w[1],xN=d[0],(C|0)+~C-(~C^xN)),w[4]=w[1]^d[1],L=this.pz(w),Z=14;else if(Z==36)m=39,It(17,mG,336,this),LX=31,Z=26;else if(Z==32)m=39,W=a[0],Z=98;else if(Z==26)m=92,G=M,Z=64;else if(Z==85)Z=o3>255?65:52;else if(Z==79)b=0,L=\"\",Z=78;else if(Z==17)hb(0,this,104,a[2],a[1]),Z=26;else if(Z==54)m=39,Z=77;else if(Z==37)m=26,B(),Z=77;else if(Z==80)t7=hb(0,this,104,8001,a[1]),LX=48,Z=26;else if(Z==65)z[h++]=o3&255,o3>>=8,Z=52;else if(Z==86)b++,Z=0;else if(Z==7)Z=W==NH?80:5;else if(Z==14)Z=L?92:79;else if(Z==77)H=I.next(),Z=90;else if(Z==28)a[1].push(v(498,this)[0],v(398,this).length,v(294,this).length,v(357,this).length,v(336,this).length,v(245,this).length,v(49,this).length,v(129,this).length),F(this,80,a[2]),this.D[0]&&hb(0,this,104,8001,v(0,this)),Z=26;else if(Z==90)Z=H.done?60:84;else{if(Z==48)return t7;if(Z==58)m=48,X=v(328,this),X.length>0&&l(245,this,t(X.length,2).concat(X),48),l(245,this,t(this.u+1>>1,1),87),l(245,this,t(this[b_].length,1)),A=this.gp?v(294,this):v(129,this),A.length>0&&l(357,this,t(A.length,2).concat(A),64),q=v(357,this),q.length>4&&l(245,this,t(q.length,2).concat(q),65),N=0,N-=(D=v(245,this).length,-2*~(D&5)+-2+(D^5)),N+=(y=v(193,this),2047-~y+~(y|2047)),n=v(336,this),n.length>4&&(N-=(V=n.length,(V|3)-~V+(~V|3))),N>0&&l(245,this,t(N,2).concat(l_(N)),53),n.length>4&&l(245,this,t(n.length,2).concat(n),166),Z=94;else if(Z==15)Z=W==at?28:96;else if(Z==94)m=39,this.h=p,Z=43;else if(Z==81)Z=3;else if(Z==74)m=39,WL(33,8001,135,this),Z=26;else if(Z==13)Q=w[b][this.Sd](16),Q.length==1&&(Q=\"0\"+Q),L+=Q,Z=86;else if(Z==78)Z=0;else if(Z==64)LX!==undefined?(Z=LX,LX=undefined):Z=31;else if(Z==52)z[h++]=o3,Z=76;else if(Z==8)this.Lu=z,this.C=this.Lu.length<<3,F(this,464,[0,0,0]),Z=74;else if(Z==44)Z=90;else if(Z==57)S=L,v(498,this)[0]=U.shift(),v(398,this).length=U.shift(),v(294,this).length=U.shift(),v(357,this).length=U.shift(),v(336,this).length=U.shift(),v(245,this).length=U.shift(),v(49,this).length=U.shift(),v(129,this).length=U.shift(),t7=S,LX=30,Z=26;else if(Z==0)Z=b<w.length?13:57;else if(Z==53)Uj=a[1],Z=1;else if(Z==96)Z=W==b_?42:51;else if(Z==84)B=H.value,Z=37;else if(Z==29)M=G,G=g,Z=32;else if(Z==76)u++,Z=3;else if(Z==51)Z=W==gb?17:7;else if(Z==92)L=\"*\"+L,Z=57;else if(Z==3)Z=u<r.length?35:8;else if(Z==41)throw Jb;}}}catch(YN){if((Jb=YN,m)==92)throw YN;m==48?(LX=41,Z=94):m==26?(h7=YN,Z=54):m==39?(LX=41,Z=26):m==32&&(mG=YN,Z=36)}}}();var q8,cL=((E.Cz=(E.oY=(O.prototype[Ab]=[0,0,1,1,0,1,1],E.Tg=function(){return we.call(this,53,72)},E.pz=function(g,G,a,L,b){return T.call(this,a,20,g,G,L,b)},function(){return de.call(this,90,15)}),0),E).Fx=0,/./),Lq=UK.pop.bind(O.prototype[at]),QB=(q8=(cL[O.prototype.Sd]=Lq,T7(8,5,{get:Lq},O.prototype.H)),O.prototype.Bb=void 0,function(g,G){return(G=Rt(38,53,29,68,null,\"ks\",\"error\"))&&g.eval(G.createScript(\"1\"))===1?function(a){return G.createScript(a)}:function(a){return\"\"+a}}(P));(le=P.knitsail||(P.knitsail={}),le.m>40||(le.m=41,le.ks=jq,le.a=v9),le).AUY_=function(g,G,a,L,b,p,z,M){return[function(C){return a3(95,29,false,C,M)},(M=new O(G,b,p,z,L,g),function(C){M.Tg(C)})]};}).call(this);'].join('\\n')));}).call(this);</script><script nonce=\"Vj7mnMI8caSgIoDeOEC72w\">(function(){var r='1';var ce=30;var p='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';var g='knitsail';var eid='izmLZ6rTAsbf1e8PzKvLiQQ';var ss_cgi=false;var sp='';(function(){var f=function(a){var b=0;return function(){return b<a.length?{done:!1,value:a[b++]}:{done:!0}}},l=function(a){var b=typeof Symbol!=\"undefined\"&&Symbol.iterator&&a[Symbol.iterator];if(b)return b.call(a);if(typeof a.length==\"number\")return{next:f(a)};throw Error(\"a`\"+String(a));};\n",
       "var m=this||self;var t=function(){var a=location.href;this.i=this.j=\"\";var b=a.indexOf(\"#\");b>0&&(this.j=a.substring(b),a=a.substring(0,b));b=a.indexOf(\"?\");b>0&&(this.i=\"&\"+a.substring(b+1),a=a.substring(0,b));this.A=a},x=function(a,b,c){u(a,b);a.i=a.i+\"&\"+b+\"=\"+c},u=function(a,b){a.i=a.i.replace(new RegExp(\"&\"+b+\"=([^&]+)\",\"g\"),\"\")};t.prototype.toString=function(){return\"\"+this.A+(this.i?\"?\"+this.i.substring(1):\"\")+this.j};var y=m.JSON.parse,z=m.JSON.stringify;function A(a,b,c,h,d,k){d=d===void 0?\"m\":d;k=k===void 0?!0:k;var C=!1;try{if(d!=\"x\"){var v=a==\"s\"?window.sessionStorage:window.localStorage,e=v.getItem(\"_c;;i\");if(e){var n=e.indexOf(\"_\");var q=n<0?null:y(e.substr(n+1))}else q=null;e=q||0;var w=\"p:*|l:9007199254740991_\"+z(e+1);v.setItem(\"_c;;i\",w);var D=e;w=b;e=c;q=d;n=D;var M=z(h);v.setItem(w+\";;\"+e,\"p:\"+q+\"|l:\"+(n+\"_\")+M);C=!0}}catch(R){}k&&(m.mPPkxd||(m.mPPkxd=[]),m.mPPkxd.push([C,arguments,D]))};\n",
       "var B=function(a){this.i=a};B.prototype.toString=function(){return this.i};var E=function(a){this.v=a};function F(a){return new E(function(b){return b.substr(0,a.length+1).toLowerCase()===a+\":\"})}var G=[F(\"data\"),F(\"http\"),F(\"https\"),F(\"mailto\"),F(\"ftp\"),new E(function(a){return/^[^:]*([/?#]|$)/.test(a)})],H=/^\\s*(?!javascript:)(?:[\\w+.-]+:|[^:/?#]*(?:[/?#]|$))/i;function I(){var a=m[g];if(a){a=l((0,a.a)(p,function(){},!1)).next().value;var b=location.href.match(/(\\?|&)q=([^&]+)/);return a([{q:b!==null?b[2]:\"\"}])}J(Error(\"c\"))}\n",
       "function K(a){var b=new Date;b.setSeconds(b.getSeconds()+(Number(ce)||300));var c=\"SG_SS=\"+a,h=document.cookie.length+c.length;if(r){h<4093&&!ss_cgi&&(document.cookie=c+(\"; expires=\"+b.toUTCString()));var d,k;((d=performance)==null?0:(k=d.timing)==null?0:k.navigationStart)&&A(\"s\",\"sg_pns\",eid,String(performance.timing.navigationStart));ss_cgi||document.cookie.indexOf(\"SG_SS=\")<0?L(a):N(O())}}function O(){var a=eid,b=new t;u(b,\"sg_ss\");x(b,\"sei\",a);return b.toString()}\n",
       "function L(a){var b=eid,c=new t;x(c,\"sg_ss\",encodeURIComponent(a));x(c,\"sei\",b);N(c.toString())}function P(a){if(window.prs){var b=O();window.prs(b,a).catch(function(){L(a)})}else L(a)}function N(a){window.prs?window.prs(a).catch(function(){Q(a)}):Q(a)}\n",
       "function Q(a){if(window.pr)window.pr(a);else{a:{var b=b===void 0?G:b;if(a instanceof B)b=a;else{for(var c=0;c<b.length;++c){var h=b[c];if(h instanceof E&&h.v(a)){b=new B(a);break a}}b=void 0}}a=location;if(b instanceof B)if(b instanceof B)b=b.i;else throw Error(\"b\");else b=H.test(b)?b:void 0;b!==void 0&&a.replace(b)}}function J(a){navigator.sendBeacon(\"/gen_204?cad=sg_b_e&e=\"+a,\"\")};navigator||(m.navigator={});typeof navigator.sendBeacon!==\"function\"&&(navigator.sendBeacon=function(a){(new Image).src=a});window.onerror=function(a,b,c,h,d){navigator.sendBeacon(\"/gen_204?emsg=\"+(d instanceof Error?d.message:a)+\"&srcpg=sgs&jsr=1&jsel=3\")};(function(){try{var a;window.sgs&&sp&&(a=window.sgs(sp));var b=I();b&&(a?a.then(function(c){r&&P(c)}).catch(function(){K(b)}).catch(J):K(b))}catch(c){J(c)}})();}).call(this);})();</script><script nonce=\"Vj7mnMI8caSgIoDeOEC72w\">(function(){var cssId='java-com-google-gws-common-impl-searchguard-jslayout__broken-text';function sw(){document.getElementById(cssId).setAttribute('style','');navigator.sendBeacon(`/gen_204?cad=sg_trbl&ei=${data.event_id}`,'');}\n",
       "setTimeout(sw,2000);})();</script><div id=\"java-com-google-gws-common-impl-searchguard-jslayout__broken-text\" style=\"display:none\">If you're having trouble accessing Google Search, please<a href=\"/search?q=2025%EB%85%84+1%EC%9B%94+%EC%A4%91%EC%88%9C+%EB%B0%B0%EC%B6%94+%EA%B0%80%EA%B2%A9+%EB%8F%99%ED%96%A5&amp;sca_esv=3baac282e3bcd052&amp;emsg=SG_REL&amp;sei=izmLZ6rTAsbf1e8PzKvLiQQ\">click here</a>, or send<a href=\"https://support.google.com/websearch\">feedback</a>.</div></body></html>"
      ]
     },
     "execution_count": 6,
     "metadata": {},
     "output_type": "execute_result"
    }
   ],
   "source": [
    "soup"
   ]
  },
  {
   "cell_type": "code",
   "execution_count": null,
   "metadata": {},
   "outputs": [],
   "source": [
    "search_keyword = \"2025년 1월 중순 배추 가격 동향\"\n",
    "results = google_search_scrape(search_keyword, SEARCH_RESULT_COUNT=6)\n",
    "print(f\"{RED}검색어 : {search_keyword}\\n검색결과 : {len(results)}\\n{RESET}\")\n",
    "main_context = ''\n",
    "suffix_context = ''\n",
    "for idx, result in enumerate(results):\n",
    "    link = result.get(\"link\")\n",
    "    date = result.get(\"date\")\n",
    "    try:\n",
    "        desc, detailed_content = extract_content(link)\n",
    "    except:\n",
    "        pass\n",
    "    try:\n",
    "        if \"Enable JavaScript and cookies\" in detailed_content:\n",
    "            continue\n",
    "    except:\n",
    "        continue\n",
    "    main_context += f\"제목 : {result.get('title')}\\n링크 : {link}\\n설명 : {desc}\\n내용 : {detailed_content}\\n\\n\"    \n",
    "    suffix_context += f\"\"\"\n",
    "📌 참고내용 [{idx+1}]\n",
    "제목 : {result.get('title')}\n",
    "링크 : {link}\n",
    "설명 : {desc}\n",
    "날짜 : {date}\n",
    "\"\"\""
   ]
  }
 ],
 "metadata": {
  "kernelspec": {
   "display_name": "minerva",
   "language": "python",
   "name": "minerva"
  },
  "language_info": {
   "codemirror_mode": {
    "name": "ipython",
    "version": 3
   },
   "file_extension": ".py",
   "mimetype": "text/x-python",
   "name": "python",
   "nbconvert_exporter": "python",
   "pygments_lexer": "ipython3",
   "version": "3.11.11"
  }
 },
 "nbformat": 4,
 "nbformat_minor": 2
}
