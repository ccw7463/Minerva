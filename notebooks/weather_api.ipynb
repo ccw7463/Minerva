{
 "cells": [
  {
   "cell_type": "markdown",
   "metadata": {},
   "source": [
    "참고 : https://www.data.go.kr/data/15084084/openapi.do"
   ]
  },
  {
   "cell_type": "code",
   "execution_count": 1,
   "metadata": {},
   "outputs": [
    {
     "name": "stderr",
     "output_type": "stream",
     "text": [
      "USER_AGENT environment variable not set, consider setting it to identify your requests.\n"
     ]
    }
   ],
   "source": [
    "from modules.__init__ import *"
   ]
  },
  {
   "cell_type": "markdown",
   "metadata": {},
   "source": [
    "\n",
    "'''\n",
    "category: 예보 항목\n",
    "- TMN : 최저 기온 - 오전 6시\n",
    "- TMX : 최고 기온 - 오후 3시\n",
    "- SKY : 하늘 상태\n",
    "- PTY : 강수 형태\n",
    "'''"
   ]
  },
  {
   "cell_type": "code",
   "execution_count": 7,
   "metadata": {},
   "outputs": [],
   "source": [
    "import pandas as pd\n",
    "from datetime import datetime, timedelta\n",
    "import pytz\n",
    "from tqdm import tqdm\n",
    "load_dotenv()\n",
    "SERVICE_KEY = os.environ.get(\"WEATHER_DECODING_API_KEY\")"
   ]
  },
  {
   "cell_type": "code",
   "execution_count": 8,
   "metadata": {},
   "outputs": [],
   "source": [
    "position_df = pd.read_excel(\"position.xlsx\")\n",
    "position_df = position_df[position_df['2단계'].isna()][[\"1단계\",\"격자 X\",\"격자 Y\"]]\n",
    "position_df = position_df[position_df[\"1단계\"].str.contains(\"특별시|광역시|경기도|제주|강원\")]"
   ]
  },
  {
   "cell_type": "code",
   "execution_count": 64,
   "metadata": {},
   "outputs": [],
   "source": [
    "class WeatherAPI:\n",
    "    def __init__(self, \n",
    "                 service_key:str,\n",
    "                 position_df:pd.DataFrame,\n",
    "                 predict_type:str=\"단기예보조회\"):\n",
    "        self.service_key = service_key\n",
    "        self.predict_type_dict = {\n",
    "            \"초단기실황조회\":\"getUltraSrtNcst\",\n",
    "            \"초단기예보조회\":\"getUltraSrtFcst\",\n",
    "            \"단기예보조회\":\"getVilageFcst\",\n",
    "            \"예보버전조회\":\"getFcstVersion\",\n",
    "        }\n",
    "        self.endpoinrt_url = f\"http://apis.data.go.kr/1360000/VilageFcstInfoService_2.0/{self.predict_type_dict[predict_type]}\"\n",
    "        print(\"endpoinrt_url :\",self.endpoinrt_url)\n",
    "        self.request_params = {\n",
    "            \"serviceKey\":self.service_key,\n",
    "            \"dataType\":\"JSON\", # default 값 : XML\n",
    "            \"numOfRows\":'10',\n",
    "            \"pageNo\":'3',\n",
    "        }\n",
    "        self.position_df = position_df\n",
    "        self._set_date_params()\n",
    "        \n",
    "    def _set_date_params(self):\n",
    "        korea_timezone = pytz.timezone('Asia/Seoul')\n",
    "        current_time = datetime.now(korea_timezone)+timedelta(days=-1)\n",
    "        self.formatted_date = current_time.strftime('%Y%m%d')\n",
    "        self.request_params[\"base_date\"] = self.formatted_date\n",
    "        \n",
    "        \n",
    "    def get_weather_data(self, \n",
    "                         category:str, \n",
    "                         fcst_time:str):\n",
    "        \n",
    "        # 이병신같은새끼 0600 값이 디폴트라해놓고, 날씨정보없을때가 많네 개병신같은거\n",
    "        self.request_params[\"base_time\"] = fcst_time\n",
    "        for _, row in tqdm(self.position_df.iterrows()):\n",
    "            self.request_params[\"nx\"] = row[\"격자 X\"]\n",
    "            self.request_params[\"ny\"] = row[\"격자 Y\"]\n",
    "            print(self.request_params)\n",
    "            try:\n",
    "                response = requests.get(self.endpoinrt_url, params=self.request_params)\n",
    "                data = response.json()\n",
    "                print(data)\n",
    "                items = data['response']['body']['items']['item']\n",
    "                found = next(filter(lambda x: x['category'] == category and x['fcstTime'] == fcst_time, items), None)\n",
    "\n",
    "                if (found):\n",
    "                    return found['fcstValue']\n",
    "                else:\n",
    "                    return None\n",
    "            except Exception as e:\n",
    "                print(f\"에러발생 : {e}\")\n",
    "                return None"
   ]
  },
  {
   "cell_type": "code",
   "execution_count": 65,
   "metadata": {},
   "outputs": [
    {
     "name": "stdout",
     "output_type": "stream",
     "text": [
      "endpoinrt_url : http://apis.data.go.kr/1360000/VilageFcstInfoService_2.0/getVilageFcst\n"
     ]
    },
    {
     "name": "stderr",
     "output_type": "stream",
     "text": [
      "0it [00:00, ?it/s]"
     ]
    },
    {
     "name": "stdout",
     "output_type": "stream",
     "text": [
      "{'serviceKey': '9hl2k5vn0vx2isYGtOWt05rZeKDnzUszpaI8sdVFYmHUsOUVg0gi9YRhcc7E9U3f8U5UMrxb/yiZfYu50vT8sg==', 'dataType': 'JSON', 'numOfRows': '10', 'pageNo': '3', 'base_date': '20250110', 'nx': 60, 'ny': 127}\n",
      "{'response': {'header': {'resultCode': '01', 'resultMsg': 'APPLICATION_ERROR'}}}\n",
      "에러발생 : 'body'\n"
     ]
    },
    {
     "name": "stderr",
     "output_type": "stream",
     "text": [
      "\n"
     ]
    }
   ],
   "source": [
    "weather_api = WeatherAPI(service_key=SERVICE_KEY, \n",
    "                         position_df=position_df)\n",
    "sky = weather_api.get_weather_data(\"TMP\", \"0700\")\n",
    "# precipitation = weather_api.get_weather_data(\"PTY\", \"0500\")\n",
    "# lowest_temp_of_today = weather_api.get_weather_data(\"TMN\", \"0600\")\n",
    "# highest_temp_of_today = weather_api.get_weather_data(\"TMX\", \"1500\")"
   ]
  },
  {
   "cell_type": "code",
   "execution_count": 34,
   "metadata": {},
   "outputs": [
    {
     "name": "stdout",
     "output_type": "stream",
     "text": [
      "base_date : 20250111\n",
      "params : {'serviceKey': '9hl2k5vn0vx2isYGtOWt05rZeKDnzUszpaI8sdVFYmHUsOUVg0gi9YRhcc7E9U3f8U5UMrxb/yiZfYu50vT8sg==', 'numOfRows': '10', 'dataType': 'JSON', 'base_time': '0200', 'nx': '62', 'ny': '125', 'base_date': '20250111', 'pageNo': '3'}\n",
      "response : <Response [200]>\n",
      "base_date : 20250111\n",
      "params : {'serviceKey': '9hl2k5vn0vx2isYGtOWt05rZeKDnzUszpaI8sdVFYmHUsOUVg0gi9YRhcc7E9U3f8U5UMrxb/yiZfYu50vT8sg==', 'numOfRows': '10', 'dataType': 'JSON', 'base_time': '0200', 'nx': '62', 'ny': '125', 'base_date': '20250111', 'pageNo': '4'}\n",
      "response : <Response [200]>\n",
      "base_date : 20250111\n",
      "params : {'serviceKey': '9hl2k5vn0vx2isYGtOWt05rZeKDnzUszpaI8sdVFYmHUsOUVg0gi9YRhcc7E9U3f8U5UMrxb/yiZfYu50vT8sg==', 'numOfRows': '10', 'dataType': 'JSON', 'base_time': '0200', 'nx': '62', 'ny': '125', 'base_date': '20250111', 'pageNo': '5'}\n",
      "response : <Response [200]>\n",
      "base_date : 20250111\n",
      "params : {'serviceKey': '9hl2k5vn0vx2isYGtOWt05rZeKDnzUszpaI8sdVFYmHUsOUVg0gi9YRhcc7E9U3f8U5UMrxb/yiZfYu50vT8sg==', 'numOfRows': '10', 'dataType': 'JSON', 'base_time': '0200', 'nx': '62', 'ny': '125', 'base_date': '20250111', 'pageNo': '16'}\n",
      "response : <Response [200]>\n"
     ]
    }
   ],
   "source": [
    "# import os\n",
    "\n",
    "# from dotenv import load_dotenv\n",
    "\n",
    "# load_dotenv()\n",
    "\n",
    "# SERVICE_KEY = os.environ.get(\"WEATHER_DECODING_API_KEY\")\n",
    "\n",
    "# api_url = \"http://apis.data.go.kr/1360000/VilageFcstInfoService_2.0/getVilageFcst\"\n",
    "\n",
    "# # 관측 위치 : 서울특별시 강남구 개포2동\n",
    "# # 당일 새벽 2시에 발표된 예보를 기준으로 최저기온, 최고기온 정보를 가져옵니다.\n",
    "# params = {\n",
    "#     'serviceKey': SERVICE_KEY,\n",
    "#     'numOfRows': '10',\n",
    "#     'dataType': 'JSON',\n",
    "#     'base_time': '0200',\n",
    "#     'nx': '62',\n",
    "#     'ny': '125',\n",
    "# }\n",
    "\n",
    "# '''\n",
    "# category: 예보 항목\n",
    "# - TMN : 최저 기온 - 오전 6시\n",
    "# - TMX : 최고 기온 - 오후 3시\n",
    "# - SKY : 하늘 상태\n",
    "# - PTY : 강수 형태\n",
    "# '''\n",
    "# def fetch_data_from_kma(current_time_kst, page_no, category, fcst_time):\n",
    "#     try:\n",
    "#         date_format = \"YYYYMMDD\"\n",
    "#         base_date = current_time_kst.format(date_format)\n",
    "#         print(\"base_date :\",base_date)\n",
    "#         params['base_date'] = base_date\n",
    "#         params['pageNo'] = page_no\n",
    "#         print(\"params :\",params)\n",
    "#         response = requests.get(api_url, params=params)\n",
    "#         print(\"response :\",response)\n",
    "#         response.raise_for_status()\n",
    "#         data = response.json()\n",
    "\n",
    "#         items = data['response']['body']['items']['item']\n",
    "#         found = next(filter(lambda x: x['category'] == category and x['fcstTime'] == fcst_time, items), None)\n",
    "\n",
    "#         if (found):\n",
    "#             return found['fcstValue']\n",
    "#         else:\n",
    "#             return None\n",
    "\n",
    "#     except requests.exceptions.HTTPError as errh:\n",
    "#         print(f\"HTTP Error: {errh}\")\n",
    "#     except requests.exceptions.ConnectionError as errc:\n",
    "#         print(f\"Error Connecting: {errc}\")\n",
    "#     except requests.exceptions.Timeout as errt:\n",
    "#         print(f\"Timeout Error: {errt}\")\n",
    "#     except requests.exceptions.RequestException as err:\n",
    "#         print(f\"Something went wrong: {err}\")\n",
    "\n",
    "#     return None\n",
    "\n",
    "# # main.py\n",
    "\n",
    "# import arrow\n",
    "# current_time_kst = arrow.now('Asia/Seoul')\n",
    "# date_format = \"YYYY년 MM월 DD일 dddd\"\n",
    "# date_of_today = current_time_kst.format(date_format, locale=\"ko_kr\")\n",
    "\n",
    "# # 날씨 정보\n",
    "# weather_msg = \"\"\n",
    "# sky = fetch_data_from_kma(current_time_kst, '3', 'SKY', '0500')\n",
    "# precipitation = fetch_data_from_kma(current_time_kst, '4', 'PTY', '0500')\n",
    "# lowest_temp_of_today = fetch_data_from_kma(current_time_kst, '5', 'TMN', '0600')\n",
    "# highest_temp_of_today = fetch_data_from_kma(current_time_kst, '16', 'TMX', '1500')\n",
    "\n",
    "#     # if (sky == None or precipitation == None or\n",
    "#     #     lowest_temp_of_today == None or highest_temp_of_today == None):\n",
    "#     #     weather_msg = \"날씨 정보를 가져오지 못했습니다. 😢\"\n",
    "#     # else:\n",
    "#     #     weather_of_today = f\"{STATUS_OF_SKY[sky]} (강수: {STATUS_OF_PRECIPITATION[precipitation]})\"\n",
    "#     #     weather_msg = (\n",
    "#     #         f\"🌏 현재 날씨: {weather_of_today}\\n\"\n",
    "#     #         f\"🔼 최고 기온: {highest_temp_of_today}°C\\n\"\n",
    "#     #         f\"🔽 최저 기온: {lowest_temp_of_today}°C\\n\"\n",
    "#     #         f\"🔎 관측 지점: 서울 강남구 개포2동\"\n",
    "#         # )"
   ]
  },
  {
   "cell_type": "code",
   "execution_count": 35,
   "metadata": {},
   "outputs": [
    {
     "data": {
      "text/plain": [
       "<Arrow [2025-01-11T01:21:25.790723+09:00]>"
      ]
     },
     "execution_count": 35,
     "metadata": {},
     "output_type": "execute_result"
    }
   ],
   "source": [
    "current_time_kst"
   ]
  },
  {
   "cell_type": "code",
   "execution_count": 33,
   "metadata": {},
   "outputs": [
    {
     "data": {
      "text/plain": [
       "'0'"
      ]
     },
     "execution_count": 33,
     "metadata": {},
     "output_type": "execute_result"
    }
   ],
   "source": [
    "precipitation"
   ]
  },
  {
   "cell_type": "code",
   "execution_count": 29,
   "metadata": {},
   "outputs": [
    {
     "data": {
      "text/plain": [
       "'-7.0'"
      ]
     },
     "execution_count": 29,
     "metadata": {},
     "output_type": "execute_result"
    }
   ],
   "source": [
    "lowest_temp_of_today"
   ]
  }
 ],
 "metadata": {
  "kernelspec": {
   "display_name": "kakaoChatAgent",
   "language": "python",
   "name": "kakaochatagent"
  },
  "language_info": {
   "codemirror_mode": {
    "name": "ipython",
    "version": 3
   },
   "file_extension": ".py",
   "mimetype": "text/x-python",
   "name": "python",
   "nbconvert_exporter": "python",
   "pygments_lexer": "ipython3",
   "version": "3.11.11"
  }
 },
 "nbformat": 4,
 "nbformat_minor": 2
}
