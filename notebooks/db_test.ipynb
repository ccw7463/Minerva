{
 "cells": [
  {
   "cell_type": "code",
   "execution_count": 1,
   "metadata": {},
   "outputs": [
    {
     "name": "stderr",
     "output_type": "stream",
     "text": [
      "USER_AGENT environment variable not set, consider setting it to identify your requests.\n"
     ]
    }
   ],
   "source": [
    "import json\n",
    "from loguru import logger\n",
    "from importlib.resources import files\n",
    "import os\n",
    "from modules.db import UserData\n",
    "with open(\"request_sample.json\", \"r\") as f:\n",
    "    request_data = json.load(f)"
   ]
  },
  {
   "cell_type": "code",
   "execution_count": 2,
   "metadata": {},
   "outputs": [],
   "source": [
    "user_data = UserData()"
   ]
  },
  {
   "cell_type": "code",
   "execution_count": 5,
   "metadata": {},
   "outputs": [
    {
     "name": "stderr",
     "output_type": "stream",
     "text": [
      "\u001b[32m2025-01-11 23:16:54.454\u001b[0m | \u001b[1mINFO    \u001b[0m | \u001b[36mmodules.db\u001b[0m:\u001b[36m_get_or_create_user\u001b[0m:\u001b[36m76\u001b[0m - \u001b[1m기존 사용자 데이터를 찾았습니다: ('77061f78403ebec73a263872bf2ba9173bc641d84f08d928f49c5abbfbe62edf4e', '이름:최창우', '이모지를 사용해서 답변하는것을 선호함')\u001b[0m\n"
     ]
    }
   ],
   "source": [
    "user_id = request_data['userRequest']['user']['id']\n",
    "user_info = user_data.process_request(user_id)"
   ]
  },
  {
   "cell_type": "code",
   "execution_count": 4,
   "metadata": {},
   "outputs": [
    {
     "name": "stderr",
     "output_type": "stream",
     "text": [
      "\u001b[32m2025-01-11 23:16:50.514\u001b[0m | \u001b[1mINFO    \u001b[0m | \u001b[36mmodules.db\u001b[0m:\u001b[36mupdate_user_info\u001b[0m:\u001b[36m45\u001b[0m - \u001b[1mpersonal_info 정보 업데이트 완료. 사용자 id : 77061f78403ebec73a263872bf2ba9173bc641d84f08d928f49c5abbfbe62edf4e\u001b[0m\n",
      "\u001b[32m2025-01-11 23:16:50.531\u001b[0m | \u001b[1mINFO    \u001b[0m | \u001b[36mmodules.db\u001b[0m:\u001b[36mupdate_user_info\u001b[0m:\u001b[36m45\u001b[0m - \u001b[1mpersonal_preference 정보 업데이트 완료. 사용자 id : 77061f78403ebec73a263872bf2ba9173bc641d84f08d928f49c5abbfbe62edf4e\u001b[0m\n"
     ]
    }
   ],
   "source": [
    "user_data.update_user_info(user_id, \"personal_info\", \"이름:최창우\")\n",
    "user_data.update_user_info(user_id, \"personal_preference\", \"이모지를 사용해서 답변하는것을 선호함\")"
   ]
  }
 ],
 "metadata": {
  "kernelspec": {
   "display_name": "kakaoChatAgent",
   "language": "python",
   "name": "kakaochatagent"
  },
  "language_info": {
   "codemirror_mode": {
    "name": "ipython",
    "version": 3
   },
   "file_extension": ".py",
   "mimetype": "text/x-python",
   "name": "python",
   "nbconvert_exporter": "python",
   "pygments_lexer": "ipython3",
   "version": "3.11.11"
  }
 },
 "nbformat": 4,
 "nbformat_minor": 2
}
