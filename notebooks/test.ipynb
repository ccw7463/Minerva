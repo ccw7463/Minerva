{
 "cells": [
  {
   "cell_type": "markdown",
   "metadata": {},
   "source": [
    "추가할 내용\n",
    "1. 챗봇 페르소나 정해주기\n",
    "2. 사용자 인식하기 (그냥 db 말고 json으로 박자)\n",
    "3. 검색하는 부분 고려 (이전 대화 얼만큼 볼것인가 .. 이런부분)"
   ]
  },
  {
   "cell_type": "code",
   "execution_count": 1,
   "metadata": {},
   "outputs": [
    {
     "name": "stderr",
     "output_type": "stream",
     "text": [
      "USER_AGENT environment variable not set, consider setting it to identify your requests.\n"
     ]
    }
   ],
   "source": [
    "from modules.__init__ import *"
   ]
  },
  {
   "cell_type": "code",
   "execution_count": 2,
   "metadata": {},
   "outputs": [],
   "source": [
    "LIMIT_LENGTH = 8\n",
    "SEARCH_RETRY_COUNT = 5\n",
    "SEARCH_RESULT_COUNT = 4\n",
    "SEARCH_MINIMUM_RESULT = 1\n",
    "system_prompt = prompt_config.system_message"
   ]
  },
  {
   "cell_type": "code",
   "execution_count": 3,
   "metadata": {},
   "outputs": [],
   "source": [
    "llm = ChatOpenAI(model=\"gpt-4o\")\n",
    "\n",
    "class State(MessagesState):\n",
    "    is_search: str\n",
    "    is_personal: str\n",
    "    is_preference: str\n",
    "    \n",
    "def _get_memory(namespace, \n",
    "                key,\n",
    "                store:BaseStore):\n",
    "    \"\"\"\n",
    "        Des:\n",
    "            현재 저장된 사용자 정보를 가져오는 함수\n",
    "    \"\"\"\n",
    "    existing_memory = store.get(namespace=namespace,\n",
    "                                key=key)\n",
    "    return existing_memory.value.get('memory') if existing_memory else \"\""
   ]
  },
  {
   "cell_type": "code",
   "execution_count": 9,
   "metadata": {},
   "outputs": [],
   "source": [
    "@trace_function(enable_print=False, only_func_name=True)\n",
    "def _node_decide_personal(state: State):\n",
    "    \"\"\"\n",
    "        Des:\n",
    "            개인정보 여부가 있는지 판단하는 노드\n",
    "    \"\"\"\n",
    "    query = state[\"messages\"][-1].content\n",
    "    prompt = [SystemMessage(content=prompt_config.decide_personal_prompt)] + [HumanMessage(content=query)]\n",
    "    return {\"is_personal\":[llm.invoke(prompt)][0].content.upper()}\n",
    "\n",
    "@trace_function(enable_print=False, only_func_name=True)\n",
    "def _node_decide_preference(state: State):\n",
    "    \"\"\"\n",
    "        Des:\n",
    "            답변 선호도 여부가 있는지 판단하는 노드\n",
    "    \"\"\"\n",
    "    query = state[\"messages\"][-1].content\n",
    "    prompt = [SystemMessage(content=prompt_config.decide_preference_prompt)] + [HumanMessage(content=query)]\n",
    "    return {\"is_preference\":[llm.invoke(prompt)][0].content.upper()}\n",
    "\n",
    "@trace_function(enable_print=False, only_func_name=True)\n",
    "def _node_decide_search(state: State):\n",
    "    \"\"\"\n",
    "        Des:\n",
    "            검색 여부를 결정하는 노드\n",
    "    \"\"\"\n",
    "    query = state[\"messages\"][-1].content\n",
    "    prompt = [SystemMessage(content=prompt_config.decide_search_prompt)] + [HumanMessage(content=query)]\n",
    "    return {\"is_search\":[llm.invoke(prompt)][0].content.upper()}\n",
    "\n",
    "@trace_function(enable_print=False, only_func_name=True)\n",
    "def _node_write_memory(state: State, \n",
    "                        config: RunnableConfig, \n",
    "                        store: BaseStore):\n",
    "    \"\"\"\n",
    "        Des:\n",
    "            사용자 메시지를 인식하고, 개인정보/선호도/검색결과 등을 저장하는 노드\n",
    "    \"\"\"\n",
    "    query = state[\"messages\"][-1].content\n",
    "    namespace = (\"memories\", config[\"configurable\"][\"user_id\"])\n",
    "    \n",
    "    # 개인정보 판단 및 저장\n",
    "    if state.get(\"is_personal\") == \"YES\":\n",
    "        personal_memory = _get_memory(namespace=namespace, \n",
    "                                            key=\"personal_info\", \n",
    "                                            store=store)\n",
    "        system_message = prompt_config.create_memory_prompt.format(memory=personal_memory)\n",
    "        # print(f\"{RED}Write Memory system_message : {system_message}{RESET}\")\n",
    "        memory_prompt = [SystemMessage(content=system_message)] + [HumanMessage(content=query)]\n",
    "        store.put(namespace=namespace, \n",
    "                    key=\"personal_info\", \n",
    "                    value={\"memory\":llm.invoke(memory_prompt).content})    \n",
    "    if state.get(\"is_preference\") == \"YES\":\n",
    "        preference_memory = _get_memory(namespace=namespace, \n",
    "                                            key=\"personal_preference\", \n",
    "                                            store=store)\n",
    "        system_message = prompt_config.create_preference_prompt.format(preference=preference_memory)\n",
    "        # print(f\"{RED}Create Preference system_message : {system_message}{RESET}\")\n",
    "        preference_prompt = [SystemMessage(content=system_message)] + [HumanMessage(content=query)]\n",
    "        store.put(namespace=namespace, \n",
    "                    key=\"personal_preference\", \n",
    "                    value={\"memory\":llm.invoke(preference_prompt).content})\n",
    "\n",
    "    if state.get(\"is_search\") == \"YES\":\n",
    "        main_context, suffix_context = web_search(query)\n",
    "        store.put(namespace=namespace, \n",
    "                    key=\"main_context\", \n",
    "                    value={\"memory\":main_context})\n",
    "        store.put(namespace=namespace, \n",
    "                    key=\"suffix_context\", \n",
    "                    value={\"memory\":suffix_context})\n",
    "        \n",
    "        \n",
    "@trace_function(enable_print=False, only_func_name=True)\n",
    "def web_search(query):\n",
    "    prompt = prompt_config.generate_search_info.format(query=query)\n",
    "    search_info = llm.invoke(prompt).content\n",
    "    for _ in range(SEARCH_RETRY_COUNT):\n",
    "        results = google_search_scrape(search_info, num_results=SEARCH_RESULT_COUNT)\n",
    "        if len(results) >= SEARCH_MINIMUM_RESULT:\n",
    "            break\n",
    "    print(f\"{RED}검색어 : {search_info}\\n검색결과 : {len(results)}\\n{RESET}\")\n",
    "    main_context = ''\n",
    "    suffix_context = ''\n",
    "    for idx, result in enumerate(results):\n",
    "        link = result.get(\"link\")\n",
    "        try:\n",
    "            desc, detailed_content = extract_content(link)\n",
    "        except:\n",
    "            pass\n",
    "        try:\n",
    "            if \"Enable JavaScript and cookies\" in detailed_content: # TODO 동적페이지 처리방식 필요\n",
    "                continue\n",
    "        except:\n",
    "            continue\n",
    "        main_context += f\"제목 : {result.get('title')}\\n링크 : {link}\\n설명 : {desc}\\n내용 : {detailed_content}\\n\\n\"    \n",
    "        suffix_context += f\"\"\"\n",
    "📌 참고내용 [{idx+1}]\n",
    "제목 : {result.get('title')}\n",
    "링크 : {link}\n",
    "설명 : {desc}\n",
    "\"\"\"\n",
    "    return main_context, suffix_context\n",
    "    \n",
    "@trace_function(enable_print=False, only_func_name=True)\n",
    "def _node_answer(state: State, \n",
    "                 config: RunnableConfig,\n",
    "                 store: BaseStore):\n",
    "    \"\"\"\n",
    "        Des:\n",
    "            사용자 메시지를 인식하고, 답변을 생성하는 노드\n",
    "    \"\"\"\n",
    "    namespace = (\"memories\", config[\"configurable\"][\"user_id\"])\n",
    "    personal_memory = _get_memory(namespace=namespace, \n",
    "                                  key=\"personal_info\", \n",
    "                                  store=store)\n",
    "    personal_preference = _get_memory(namespace=namespace, \n",
    "                                            key=\"personal_preference\", \n",
    "                                            store=store)\n",
    "\n",
    "    if state.get(\"is_search\") == \"YES\":\n",
    "        main_context = _get_memory(namespace=namespace, \n",
    "                                key=\"main_context\", \n",
    "                                store=store)\n",
    "        suffix_context = _get_memory(namespace=namespace, \n",
    "                                    key=\"suffix_context\", \n",
    "                                    store=store)\n",
    "        system_message = prompt_config.answer_prompt.format(memory=personal_memory,\n",
    "                                                            preference=personal_preference)\n",
    "        user_prompt = prompt_config.answer_with_context.format(context=main_context,\n",
    "                                                               query=state['messages'][-1].content)\n",
    "        prompt = [SystemMessage(content=system_prompt+system_message)] + [HumanMessage(content=user_prompt)]\n",
    "        print(f\"{BLUE}Answer with Search prompt : {prompt[0].content}{RESET}\")\n",
    "        return {\"messages\": llm.invoke(prompt).content + \"\\n\" + suffix_context}\n",
    "    else:    \n",
    "        system_message = prompt_config.answer_prompt.format(memory=personal_memory,\n",
    "                                                            preference=personal_preference)\n",
    "        prompt = [SystemMessage(content=system_prompt+system_message)] + state[\"messages\"]\n",
    "        print(f\"{BLUE}Answer prompt : {prompt[0].content}{RESET}\")\n",
    "        return {\"messages\": llm.invoke(prompt)}\n",
    "\n",
    "@trace_function(enable_print=False, only_func_name=True)\n",
    "def _node_optimize_memory(state: State):\n",
    "    \"\"\"\n",
    "        Des:\n",
    "            메모리 최적화 함수\n",
    "    \"\"\"\n",
    "    if len(state[\"messages\"]) > LIMIT_LENGTH:\n",
    "        delete_messages = [RemoveMessage(id=m.id) for m in state[\"messages\"][:LIMIT_LENGTH//2]]\n",
    "        return {\"messages\": delete_messages}\n",
    "    else:\n",
    "        return {\"messages\": state[\"messages\"]}"
   ]
  },
  {
   "cell_type": "code",
   "execution_count": 5,
   "metadata": {},
   "outputs": [
    {
     "data": {
      "image/png": "[encoded data removed]",
      "text/plain": [
       "<IPython.core.display.Image object>"
      ]
     },
     "metadata": {},
     "output_type": "display_data"
    }
   ],
   "source": [
    "from IPython.display import Image, display\n",
    "builder = StateGraph(State)\n",
    "builder.add_node(\"_node_decide_personal\", _node_decide_personal)\n",
    "builder.add_node(\"_node_decide_preference\", _node_decide_preference)\n",
    "builder.add_node(\"_node_decide_search\", _node_decide_search)\n",
    "builder.add_node(\"_node_write_memory\", _node_write_memory)\n",
    "builder.add_node(\"_node_answer\", _node_answer)\n",
    "builder.add_node(\"_node_optimize_memory\", _node_optimize_memory)\n",
    "builder.add_edge(START, \"_node_decide_personal\")\n",
    "builder.add_edge(START, \"_node_decide_preference\")\n",
    "builder.add_edge(START, \"_node_decide_search\")\n",
    "builder.add_edge([\"_node_decide_personal\", \"_node_decide_preference\", \"_node_decide_search\"], \"_node_write_memory\")\n",
    "builder.add_edge(\"_node_write_memory\", \"_node_answer\")\n",
    "builder.add_edge(\"_node_answer\", \"_node_optimize_memory\")\n",
    "builder.add_edge(\"_node_optimize_memory\", END)\n",
    "graph = builder.compile()\n",
    "display(Image(graph.get_graph().draw_mermaid_png()))"
   ]
  },
  {
   "cell_type": "code",
   "execution_count": 6,
   "metadata": {},
   "outputs": [],
   "source": [
    "ShortTermMemory = MemorySaver()\n",
    "LongTermMemory = InMemoryStore()\n",
    "graph = builder.compile(checkpointer=ShortTermMemory,\n",
    "                                store=LongTermMemory)"
   ]
  },
  {
   "cell_type": "code",
   "execution_count": 10,
   "metadata": {},
   "outputs": [
    {
     "name": "stdout",
     "output_type": "stream",
     "text": [
      "\u001b[91m검색어 : \"2025년 1월 10일 한국 날씨\"\n",
      "검색결과 : 0\n",
      "\u001b[0m\n"
     ]
    },
    {
     "data": {
      "text/plain": [
       "('', '')"
      ]
     },
     "execution_count": 10,
     "metadata": {},
     "output_type": "execute_result"
    }
   ],
   "source": [
    "web_search(\"오늘 날씨 알려줘\")"
   ]
  },
  {
   "cell_type": "code",
   "execution_count": 12,
   "metadata": {},
   "outputs": [
    {
     "data": {
      "text/plain": [
       "[{'title': '부산지방기상청', 'link': 'https://busan.kma.go.kr/'},\n",
       " {'title': '현재 날씨', 'link': 'https://www.weather.go.kr/w/weather/now.do'},\n",
       " {'title': '기상청 날씨누리: 홈', 'link': 'https://www.weather.go.kr/'},\n",
       " {'title': '단기예보',\n",
       "  'link': 'https://www.kma.go.kr/w/weather/forecast/short-term.do'}]"
      ]
     },
     "execution_count": 12,
     "metadata": {},
     "output_type": "execute_result"
    }
   ],
   "source": [
    "results = google_search_scrape(\"오늘 날씨 알려줘\", num_results=SEARCH_RESULT_COUNT)\n",
    "results"
   ]
  },
  {
   "cell_type": "code",
   "execution_count": 17,
   "metadata": {},
   "outputs": [
    {
     "name": "stderr",
     "output_type": "stream",
     "text": [
      "Fetching pages: 100%|##########| 1/1 [00:00<00:00,  5.99it/s]\n"
     ]
    },
    {
     "data": {
      "text/plain": [
       "''"
      ]
     },
     "execution_count": 17,
     "metadata": {},
     "output_type": "execute_result"
    }
   ],
   "source": [
    "desc, detailed_content = extract_content(results[1].get(\"link\"))\n",
    "desc"
   ]
  },
  {
   "cell_type": "code",
   "execution_count": 18,
   "metadata": {},
   "outputs": [
    {
     "name": "stderr",
     "output_type": "stream",
     "text": [
      "Fetching pages: 100%|##########| 1/1 [00:00<00:00,  4.20it/s]\n"
     ]
    }
   ],
   "source": [
    "loader = AsyncHtmlLoader(\"https://www.weather.go.kr/w/weather/now.do\")\n",
    "docs = loader.load()\n",
    "html2text = Html2TextTransformer()\n",
    "docs_transformed = html2text.transform_documents(docs,metadata_type=\"html\")\n",
    "desc = docs_transformed[0].metadata.get('description',\"\")\n",
    "detailed_content = docs_transformed[0].page_content"
   ]
  },
  {
   "cell_type": "code",
   "execution_count": 19,
   "metadata": {},
   "outputs": [
    {
     "data": {
      "text/plain": [
       "[Document(metadata={'source': 'https://www.weather.go.kr/w/weather/now.do', 'title': '현재 날씨 - 기상청 날씨누리', 'language': 'ko'}, page_content='메인메뉴 바로가기 본문 바로가기\\n\\n# 기상청 날씨누리\\n\\n홈 바로가기\\n\\nKOR\\n\\nENG CHN JPN\\n\\n  * 날씨 __\\n    * 기상특보 __\\n      * 특보현황\\n      * 통보문\\n      * 영향예보\\n      * 안개정보\\n      * 날씨상황판\\n    * 예보 __\\n      * 단기예보\\n      * 중기예보\\n      * 북한날씨\\n    * 기상방송 __\\n  * 바다 __\\n    * 해상특보 __\\n    * 바다예보 __\\n      * 일일예보\\n      * 중기예보\\n    * 바다예측 __\\n      * 바다실황·예측\\n      * 해구별예측\\n      * 이안류 예측정보\\n      * 너울 예측정보\\n    * 해양일기도 __\\n      * 수치파랑\\n      * 폭풍해일\\n      * 해양순환\\n    * 해양기상정보포털 __\\n  * 영상·일기도 __\\n    * 날씨지도 __\\n    * 종합영상 __\\n    * 초단기예측 __\\n      * 강수\\n      * 바람\\n    * 레이더 __\\n    * 위성 __\\n      * 천리안위성 2A호\\n      * ASCAT\\n      * 사례영상\\n    * 낙뢰 __\\n    * 일기도 __\\n      * 분석일기도\\n      * 예상일기도\\n      * 전문가용일기도\\n      * 바다수온\\n    * 어는비 __\\n  * 태풍 __\\n    * 상세정보 __\\n    * 통보문 __\\n    * 위험시점정보 __\\n    * 모델예측 __\\n    * 태풍감시 __\\n    * 과거태풍 __\\n    * 태풍발생통계 __\\n    * 기본지식 __\\n      * 태풍이란\\n      * 태풍의 이름\\n      * 태풍의 분류\\n  * 기후 __\\n    * 기후감시예측정보 __\\n    * 기후예측 통보문 __\\n      * 1개월전망\\n      * 3개월전망\\n      * 3개월 전망 해설서\\n      * 6개월전망(시범)\\n      * 기후전망\\n      * 엘니뇨라니냐 전망\\n    * WMO 장기예보선도센터 __\\n    * 가뭄·수문기상 __\\n      * 기상가뭄 1개월전망\\n      * 기상가뭄 3개월전망\\n      * 기상가뭄 6개월전망\\n      * 가뭄 예·경보(관계부처 합동)\\n      * 수문기상 가뭄정보 시스템\\n    * 기후통계 __\\n  * 기후변화 __\\n    * 기후변화 상황지도 __\\n    * 종합기후변화감시정보 __\\n    * 기후정보포털 __\\n  * 지진·화산 __\\n    * 실시간 지진감시 __\\n    * 최근지진 __\\n    * 지진조회 __\\n      * 국내\\n      * 국외\\n    * 과거지진 __\\n      * 지진통계\\n      * 주요지진\\n      * 역사지진\\n      * 지진연보\\n    * 지진해일 __\\n      * 지진해일 사례\\n    * 화산 __\\n      * 과거 화산 사례\\n      * 화산재해 유형\\n    * 지진·화산 통보 기준 __\\n    * 행동요령/진도등급별현상 __\\n    * 온라인 지진 과학관 __\\n  * 테마날씨 __\\n    * 생활기상정보 __\\n      * 지역별 종합지수\\n      * 생활기상지수\\n      * 지수안내\\n    * 산악날씨 __\\n    * 공항예보 __\\n    * 해수욕장예보 __\\n    * 계절관측 __\\n      * 봄꽃개화현황\\n      * 유명산 단풍현황\\n    * 세계날씨 __\\n  * 황사 __\\n    * 황사영상 __\\n      * 지상일기도\\n      * 위성영상\\n    * 황사모델예측 __\\n    * 황사관측현황 __\\n      * 관측값\\n      * 관측그래프\\n    * 황사관측일수 __\\n  * 관측 __\\n    * 육상 __\\n      * 도시별관측\\n      * 지역별상세관측(기존)\\n      * 지역별상세관측(신규)\\n      * 과거관측\\n    * 바다 __\\n      * 해양기상부이\\n      * 등표\\n      * 파고부이\\n      * 아시아연안관측실황\\n      * 선박관측\\n  * 소식·지식 __\\n    * 소식 __\\n    * 지식 __\\n      * 날씨누리 도움말\\n      * 기상특보 발표기준\\n      * 국민행동요령\\n      * 예보발표안내\\n      * 예보용어해설\\n      * 시간당 강수량 체감영상\\n\\n### 실시간 TOP5\\n\\n  * 단기예보\\n  * 레이더\\n  * 강수\\n  * 특보현황\\n  * 산악날씨\\n\\n# 기상플러스\\n\\n  * 육상날씨 __\\n  * 해상날씨 __\\n  * 날씨영상 __\\n  * 태풍 __\\n  * 지진•화산 __\\n  * 생활기상정보 __\\n  * 테마날씨 __\\n  * 황사 __\\n\\n# 행정\\n\\n### 부속사이트\\n\\n  * 기상청소속·산하기관\\n\\n수도권기상청 부산지방기상청 광주지방기상청 강원지방기상청 대전지방기상청 대구지방기상청 제주지방기상청 청주기상지청 전주기상지청 수치모델링센터\\n기상기후인재개발원 국가기상위성센터 항공기상청 국립기상과학원 기상레이더센터 국가기상슈퍼컴퓨터센터 한국기상산업기술원 APEC기후센터\\n차세대수치예보모델개발사업단\\n\\n  * 주요행정기관\\n\\n대한민국 대통령실 국무총리실 감사원 국가정보원 방송통신위원회 국가인권위원회 공정거래위원회 금융위원회 국민권익위원회 국회사무처\\n\\n19부\\n\\n기획재정부 과학기술정보통신부 교육부 외교부 통일부 법무부 국방부 행정안전부 국가보훈부 문화체육관광부 농림축산식품부 산업통상자원부 보건복지부\\n환경부 고용노동부 여성가족부 국토교통부 해양수산부 중소벤처기업부\\n\\n3처\\n\\n인사혁신처 법제처 식품의약품안전처\\n\\n20청\\n\\n국세청 관세청 조달청 통계청 재외동포청 검찰청 병무청 방위사업청 경찰청 소방청 국가유산청 농촌진흥청 산림청 특허청 질병관리청 기상청\\n행정중심복합도시건설청 새만금개발청 해양경찰청 우주항공청\\n\\n  * 방재유관기관\\n\\n서울종합방재센터 국립재난안전연구원 한강홍수통제소 중앙재난안전대책본부 대기오염도실시간공개 국가수자원관리종합정보시스템 KBS재난포털\\n\\n  * 외국기상청\\n\\n미국 일본 중국 영국 프랑스 세계기상기구WMO\\n\\n기상청 날씨누리\\n\\n사용자 설정 데스크탑용 메뉴 모바일용 메뉴\\n\\n## 현재 날씨\\n\\n홈 바로가기\\n\\n  * 날씨\\n\\n날씨 바다 영상·일기도 태풍 기후 기후변화 지진·화산 테마날씨 황사 관측 소식·지식\\n\\n  * 기상특보 예보 기상방송\\n\\n공유하기\\n\\n페이스북 트위터 카카오 주소 복사\\n\\n### 현재날씨\\n\\n### 옵션보기\\n\\nOff\\n\\n구분\\n\\n종합 기온 이슬점 상대습도 일강수량 신적설 적설 풍향 풍속 전운량 해면기압\\n\\n선택\\n\\n지역 전국 서울·인천·경기도 부산·울산·대구·경상도 광주·전라도 대전·충청도 강원도 제주도\\n\\n선택\\n\\n시간 선택\\n\\n-3H\\n\\n-1H\\n\\n현재\\n\\n+1H\\n\\n+3H\\n\\n현재날씨 참고사항\\n\\n#### 현재 날씨 조회시, 참고사항 안내\\n\\n  * \\\\- 실황표로 정리되어 있는 기상청 각 지상관측 지점의 시간별 관측 실황자료를 조회하실 수 있습니다.\\n  * \\\\- 조회 시, 지점명을 클릭하시면 시간별 현황을 확인할 수 있습니다.\\n  * \\\\- 해당 자료는 실시간 관측된 자료이며, 현지 사정에 의해 잘못된 값이 표출 될 수 있으므로, 증명자료로 사용 될 수 없습니다.\\n  * \\\\- 기상증명자료는 기상청 전자민원(http://minwon.kma.go.kr)에서, 매분자료가 필요한 경우 기상자료개방포털(http://data.kma.go.kr)에서 확인 가능합니다.\\n\\n다양한 과거자료를  \\n더욱 상세하게 확인할 수 있습니다.\\n\\n### 더보기\\n\\n  * 실황감시\\n\\n  * 지역별상세관측자료 \\n\\n**담당관리** : 본청 **문의** : 전국 국번없이 131(기상상담전화, 유료)\\n\\n추천콘텐츠 __\\n\\n특보\\n\\n전국\\n\\n관측\\n\\n영상\\n\\n바다\\n\\n지진\\n\\n### 사이트 도우미\\n\\n  * **개인정보 처리방침**\\n  * 이용안내\\n  * 저작권보호 및 정책\\n  * 웹접근성정책\\n  * 누리집오류·건의\\n  * 전화번호안내\\n  * 부서·직원찾기\\n  * 문서보기 프로그램 다운받기\\n  * RSS\\n\\n대전 (35208) 대전광역시 서구 청사로 189 정부대전청사 1동 11~14층\\n\\n서울 (07062) 서울특별시 동작구 여의대방로16길 61\\n\\n  \\n전화 (02)2181-0900, (042)481-7500 | 전자우편(웹사이트 관련 문의): webmasterkma@korea.kr\\n\\n기상청 업무에 관한 문의는 **국민신문고**를 이용해주시기 바랍니다.\\n\\nCopyright@2022 KMA. All Rights RESERVED.\\n\\n읍면동(도로명) 검색 닫기\\n\\n읍면동\\n\\n도로명\\n\\n시/도 구/군 읍면동\\n\\n  * 강원도\\n\\n  * 경기도\\n\\n  * 경상남도\\n\\n  * 경상북도\\n\\n  * 광주광역시\\n\\n  * 대구광역시\\n\\n  * 대전광역시\\n\\n  * 부산광역시\\n\\n  * 서울특별시\\n\\n  * 세종특별자치시\\n\\n  * 울산광역시\\n\\n  * 인천광역시\\n\\n  * 전라남도\\n\\n  * 전라북도\\n\\n  * 제주특별자치도\\n\\n  * 충청남도\\n\\n  * 충청북도\\n\\n※ 지역 선택이 안 될 경우: **클릭**\\n\\n※ \\'24.5.30. 이전에 전북특별자치도 지역을 관심지역에 추가하신 분은 행정동 코드변경(45→52)에 따라 기존 관심지역을 삭제하시고\\n새로 추가해주시기 바랍니다.\\n\\n지역 선택\\n\\n시/도 구/군 도로명\\n\\n도로명 주소 검색\\n\\n모두 가 나 다 라 마 바 사 아 자 차 카 타 파 하\\n\\n  * 강원도\\n\\n  * 경기도\\n\\n  * 경상남도\\n\\n  * 경상북도\\n\\n  * 광주광역시\\n\\n  * 대구광역시\\n\\n  * 대전광역시\\n\\n  * 부산광역시\\n\\n  * 서울특별시\\n\\n  * 세종특별자치시\\n\\n  * 울산광역시\\n\\n  * 인천광역시\\n\\n  * 전라남도\\n\\n  * 전라북도\\n\\n  * 제주특별자치도\\n\\n  * 충청남도\\n\\n  * 충청북도\\n\\n※ 지역 선택이 안 될 경우: **클릭**\\n\\n※ \\'24.5.30. 이전에 전북특별자치도 지역을 관심지역에 추가하신 분은 행정동 코드변경(45→52)에 따라 기존 관심지역을 삭제하시고\\n새로 추가해주시기 바랍니다.\\n\\n지역 선택\\n\\n## 사용자 설정\\n\\n화면설정\\n\\n도움말\\n\\n  * 화면설정설명보기\\n\\n기본화면 지도화면\\n\\n닫기\\n\\n##### 화면설정\\n\\n**기본화면** : 현재날씨 및 시계열 정보가 포함된 첫화면  \\n**지도화면** : 날씨지도 화면을 첫화면으로 표출\\n\\n  * 풍속설정설명보기\\n\\nm/s km/h\\n\\n닫기\\n\\n##### 풍속설정\\n\\n풍속단위를 바꿀 수 있습니다.\\n\\n  * 지역우선설정설명보기\\n\\n현재위치 우선 관심지역 우선 위치 미확인\\n\\n닫기\\n\\n##### 지역우선설정\\n\\n**현재위치 우선** : PC브라우저의 위치정보나 스마트폰의 GPS정보로 현위치를 확인하여 표출합니다.  \\n**관심지역 우선** : 관심지역으로 추가된 지점을 우선 표출합니다.  \\n**위치 미확인** : 브라우저에서 위치확인을 요청하지 않습니다. 조회한 지역이 없을 경우 기상청 서울청사 위치를 보여줍니다.\\n\\n  * 탭우선설정설명보기\\n\\n날씨 우선 전국 우선\\n\\n닫기\\n\\n##### 탭우선설정\\n\\n**날씨 우선** : 조회지점의 현재날씨 및 시계열 정보가 포함된 첫화면  \\n**전국 우선** : 전국지역의 날씨를 간략하게 표출\\n\\n  * 날씨아이콘설명보기\\n\\nA타입 B타입 C타입\\n\\n닫기\\n\\n##### 날씨아이콘\\n\\n3가지 타입의 날씨아이콘을 선택할 수 있습니다.\\n\\n  * 맑음 구름조금 구름많음 흐림 비 비 또는 눈 눈 또는 비 눈 소나기 빗방울 빗방울/눈날림 눈날림\\n\\n  * 시간별 예보설정설명보기\\n\\n3시간 간격 1시간 간격\\n\\n닫기\\n\\n##### 시간별 예보설정\\n\\n**3시간 간격** : 시간별 예보를 3시간 간격으로 표출  \\n**1시간 간격** : 시간별 예보를 1시간 간격으로 표출\\n\\n저장 취소\\n\\n  * 달라진 날씨누리 홈페이지\\n\\n개편된 날씨누리 홈페이지 첫 화면에서 지도를 통한 실시간 기상정보와 레이더영상, 전국 특보 현황을 조회할 수 있으며, 내 지역의 현재\\n기상상황과 대기질 상태, 일출/일몰 시각을 확인할 수 있습니다.\\n\\n메인페이지의 우측 상단 설정 기능을 통해 기본화면과 지도화면으로 기본 화면을 설정을 할 수 있습니다.\\n\\n영상·일기도 메뉴의 \\'날씨지도\\'를 통해 고해상도 지도 위에 기상자료(9종, 38개 요소)를 제공하여 날씨상황을 직관적으로 파악할 수 있도록\\n하였습니다.\\n\\n또한 날씨누리의 모든 컨텐츠는 좌측에 구성된 메뉴 영역을 클릭하여 원하는 페이지로 이동할 수 있습니다.\\n\\n  * 현재위치 확인 및 지역검색 방법\\n\\n날씨누리 홈페이지에 방문하게 되면 이용자의 위치를 인식하여 현재 위치 기준으로 날씨와 지도 정보가 제공됩니다.\\n\\n현재 위치가 육상일 경우 정보 제공의 기준이 되는 현재 위치가 지도 우측에 표기되며, 현재 위치가 해상인 경우 ‘일일예보’ 페이지로 이동하여\\n해역 정보가 표기됩니다.\\n\\n특정 지역을 조회시, 첫 화면에서 지도 상단의 검색창을 통해 지역별 육상날씨를 확인할 수 있습니다.\\n\\n육상지역 검색은 지역의 읍면동지역 뿐만 아니라 주요건물, 유명산, 공원 등 지명을 검색창에 입력하여 조회된 검색결과를 선택하여 확인할 수\\n있습니다.\\n\\n바다날씨를 조회하고자 하는 경우, \\'날씨누리 바다>바다예보>일일예보\\' 페이지에서 해역을 선택하여 해역별 바다날씨를 확인할 수 있습니다.\\n\\n  * 관심지역 설정이란?\\n\\n육상지역이나 해역을 검색하여 **최대 10개소** 까지 내 관심지역으로 설정할 수 있습니다.\\n\\n현재 위치 설정 혹은 검색을 통해 조회한 육상지역 및 해역은 위치 정보 우측의 별표를 클릭하여 관심지역으로 설정할 수 있으며, 관심지역 설정\\n해제 또한 별표를 다시 클릭하여 해제할 수 있습니다.\\n\\n설정한 관심지역은 현재 위치 정보 우측의 화살표를 클릭하여 확인할 수 있으며, 사용중인 브라우저 캐시 영역에 저장되므로 캐시 삭제시 설정한\\n관심지역 정보가 초기화됩니다.\"\\n\\n  * 설정기능에는 어떤 것들이 있나요?\\n\\n첫 화면 상단의 톱니바퀴 아이콘을 클릭하여 날씨누리 홈페이지 첫 화면(기본화면, 지도화면) 및 풍속단위(m/s, km/h)를 맞춤 설정할 수\\n있습니다.\\n\\n설정 화면에서 기본화면과 지도화면 모드 중 방문 시 처음으로 보여지는 첫 화면을 설정할 수 있으며, 지도화면 모드 설정시 \\'날씨지도\\'를\\n전체화면으로 볼 수 있습니다.\\n\\n설정한 첫 화면 모드 및 풍속단위는 사용중인 브라우저 캐시 영역에 저장되므로 캐시 삭제시 설정한 관심지역 정보가 초기화됩니다.\\n\\n  * 첫화면 지도는 어떻게 활용할 수 있나요?\\n\\n날씨누리 첫화면에서 육상 및 해상의 현재 기상정보, 초단기 강수예측, 특보 상황을 지도상에서 확인할 수 있습니다.\\n\\n표시되는 정보는 지도 좌측 상단의 버튼을 선택하여 변경할 수 있으며, 지도는 제공되는 범위안에서 확대 및 축소하여 정보를 조회할 수\\n있습니다.\\n\\n육상 및 해상의 관측정보는 지점을 클릭하여 더 상세한 내용을 확인할 수 있으며, 영상은 컨트롤 패널을 이용하여 연속된 이미지로 확인\\n가능합니다.\\n\\n  * 다양해진 시간별 예보 보기 옵션\\n\\n동네예보 시간별 예보보기 화면을 혼합형태, 그래프형태, 표형태로 총 3종을 제공하며, 원하는 방식을 선택하여 확인할 수 있습니다.\\n\\n  * 날씨정보 업데이트 시각\\n\\n날씨누리에서는 날씨정보 업데이트 시각은 정보의 종류에 따라 다르며 업데이트 시각 정보는 데이터의 근처 혹은 페이지 하단에 제공됩니다.\\n\\n  * 지원하는 브라우저 종류\\n\\n날씨누리 홈페이지를 원활히 사용할 수 있는 인터넷 브라우저는 Chrome, Edge, Firefox, Safari의 최신 버전입니다.\\n\\n  * 저장된 관심지역 초기화\\n\\n사용자 관심지역 정보는 사용중인 브라우저 캐시 영역에 저장되므로 인터넷 브라우저의 캐시/쿠키/검색기록 삭제 시 관심지역도 같이 초기화\\n됩니다. 브라우저에서 초기화 되지 않도록 설정하시면 관심지역 저장이 유지됩니다.\\n\\n익스플로러(Explorer): 브라우저 상단의 메뉴 중 **도구(T) > 인터넷옵션(O) > 일반** 에서 중앙의 **검색기록 - 종료할 때\\n검색기록 삭제** 부분을 체크 해제 후 재접속 하시기 바랍니다.익스플러러 설정 스크린샷\\n\\n크롬(Chrome): 브라우저 상단의 Chrome **맞춤설정 및 제어 > 설정(S) > 고급 > 인터넷 사용 기록 삭제** 메뉴에서 인터넷\\n사용기록, 쿠키 및 기타 사이트 데이터, 캐시된 이미지 또는 파일을 삭제하였는지 확인해주시기 바랍니다.크롬(Chrome) 설정 스크린샷\\n\\n파이어폭스(Firefox): 브라우저 상단에 있는 **메뉴열기 > 설정 > 개인 정보 및 보안 > 쿠키 및 사이트 데이터 > Firefox를\\n닫을 때 쿠키와 사이트 데이터를 삭제(C)**가 체크되어 있는지 확인해주시기 바랍니다. 체크가 되어 있다면 **해제** 해 주시고 브라우저를\\n끈 후 다시 접속해 주십시오. 또는 개인 정보 및 보안 메뉴에서 \\'현재 저장된 쿠키, 사이트 데이터 및 캐시가 ** KB의 디스크를 사용하고\\n있습니다.\\'의 **[데이터 지우기]** 를 하게되면 관심기록 설정이 초기화 됩니다.파이어폭스(Firefox) 설정 스크린샷\\n\\n모바일 및 기타 웹브라우저: 브라우저 설정에서 쿠키, 캐시, 검색기록을 삭제하였는지 확인해주십시오.\\n\\n설치되어 있는 프로그램 중 자동으로 캐시/쿠키/검색기록을 정리하는 프로그램(예: 알약, v3, 컴퓨터 청소/프로세스 클린 프로그램 등)이\\n인터넷 브라우저의 캐시와 쿠키, 검색기록을 삭제하면 관심지역 설정이 초기화 됩니다.\\n\\n  * 기상자료는 어디에서 확인할 수 있나요?\\n\\n기상청에서 제공하는 다양한 기상자료는 기상자료개방포털(data.kma.go.kr) 홈페이지에서 확인하시기 바랍니다.\\n\\n## 누리집 안내지도\\n\\n누리집 안내지도 닫기\\n\\nENG | CHN | JPN\\n\\n날씨\\n\\n기상특보\\n\\n    \\\\- 특보현황\\n    \\\\- 통보문\\n    \\\\- 영향예보\\n    \\\\- 안개정보\\n    \\\\- 날씨상황판\\n\\n예보\\n\\n    \\\\- 단기예보\\n    \\\\- 중기예보\\n    \\\\- 북한날씨\\n\\n기상방송\\n\\n     \\n\\n바다\\n\\n해상특보\\n\\n     \\n\\n바다예보\\n\\n    \\\\- 일일예보\\n    \\\\- 중기예보\\n\\n바다예측\\n\\n    \\\\- 바다실황·예측\\n    \\\\- 해구별예측\\n    \\\\- 이안류 예측정보\\n    \\\\- 너울 예측정보\\n\\n해양일기도\\n\\n    \\\\- 수치파랑\\n    \\\\- 폭풍해일\\n    \\\\- 해양순환\\n\\n해양기상정보포털\\n\\n     \\n\\n영상·일기도\\n\\n날씨지도\\n\\n     \\n\\n종합영상\\n\\n     \\n\\n초단기예측\\n\\n    \\\\- 강수\\n    \\\\- 바람\\n\\n레이더\\n\\n     \\n\\n위성\\n\\n    \\\\- 천리안위성 2A호\\n    \\\\- ASCAT\\n    \\\\- 사례영상\\n\\n낙뢰\\n\\n     \\n\\n일기도\\n\\n    \\\\- 분석일기도\\n    \\\\- 예상일기도\\n    \\\\- 전문가용일기도\\n    \\\\- 바다수온\\n\\n어는비\\n\\n     \\n\\n태풍\\n\\n상세정보\\n\\n     \\n\\n통보문\\n\\n     \\n\\n위험시점정보\\n\\n     \\n\\n모델예측\\n\\n     \\n\\n태풍감시\\n\\n     \\n\\n과거태풍\\n\\n     \\n\\n태풍발생통계\\n\\n     \\n\\n기본지식\\n\\n    \\\\- 태풍이란\\n    \\\\- 태풍의 이름\\n    \\\\- 태풍의 분류\\n\\n기후\\n\\n기후감시예측정보\\n\\n     \\n\\n기후예측 통보문\\n\\n    \\\\- 1개월전망\\n    \\\\- 3개월전망\\n    \\\\- 3개월 전망 해설서\\n    \\\\- 6개월전망(시범)\\n    \\\\- 기후전망\\n    \\\\- 엘니뇨라니냐 전망\\n\\nWMO 장기예보선도센터\\n\\n     \\n\\n가뭄·수문기상\\n\\n    \\\\- 기상가뭄 1개월전망\\n    \\\\- 기상가뭄 3개월전망\\n    \\\\- 기상가뭄 6개월전망\\n    \\\\- 가뭄 예·경보(관계부처 합동)\\n    \\\\- 수문기상 가뭄정보 시스템\\n\\n기후통계\\n\\n     \\n\\n기후변화\\n\\n기후변화 상황지도\\n\\n     \\n\\n종합기후변화감시정보\\n\\n     \\n\\n기후정보포털\\n\\n     \\n\\n지진·화산\\n\\n실시간 지진감시\\n\\n     \\n\\n최근지진\\n\\n     \\n\\n지진조회\\n\\n    \\\\- 국내\\n    \\\\- 국외\\n\\n과거지진\\n\\n    \\\\- 지진통계\\n    \\\\- 주요지진\\n    \\\\- 역사지진\\n    \\\\- 지진연보\\n\\n지진해일\\n\\n    \\\\- 지진해일 사례\\n\\n화산\\n\\n    \\\\- 과거 화산 사례\\n    \\\\- 화산재해 유형\\n\\n지진·화산 통보 기준\\n\\n     \\n\\n행동요령/진도등급별현상\\n\\n     \\n\\n온라인 지진 과학관\\n\\n     \\n\\n테마날씨\\n\\n생활기상정보\\n\\n    \\\\- 지역별 종합지수\\n    \\\\- 생활기상지수\\n    \\\\- 지수안내\\n\\n산악날씨\\n\\n     \\n\\n공항예보\\n\\n     \\n\\n해수욕장예보\\n\\n     \\n\\n계절관측\\n\\n    \\\\- 봄꽃개화현황\\n    \\\\- 유명산 단풍현황\\n\\n세계날씨\\n\\n     \\n\\n황사\\n\\n황사영상\\n\\n    \\\\- 지상일기도\\n    \\\\- 위성영상\\n\\n황사모델예측\\n\\n     \\n\\n황사관측현황\\n\\n    \\\\- 관측값\\n    \\\\- 관측그래프\\n\\n황사관측일수\\n\\n     \\n\\n관측\\n\\n육상\\n\\n    \\\\- 도시별관측\\n    \\\\- 지역별상세관측(기존)\\n    \\\\- 지역별상세관측(신규)\\n    \\\\- 과거관측\\n\\n바다\\n\\n    \\\\- 해양기상부이\\n    \\\\- 등표\\n    \\\\- 파고부이\\n    \\\\- 아시아연안관측실황\\n    \\\\- 선박관측\\n\\n소식·지식\\n\\n소식\\n\\n     \\n\\n지식\\n\\n    \\\\- 날씨누리 도움말\\n    \\\\- 기상특보 발표기준\\n    \\\\- 국민행동요령\\n    \\\\- 예보발표안내\\n    \\\\- 예보용어해설\\n    \\\\- 시간당 강수량 체감영상\\n\\n')]"
      ]
     },
     "execution_count": 19,
     "metadata": {},
     "output_type": "execute_result"
    }
   ],
   "source": [
    "docs_transformed"
   ]
  },
  {
   "cell_type": "code",
   "execution_count": 7,
   "metadata": {},
   "outputs": [
    {
     "name": "stdout",
     "output_type": "stream",
     "text": [
      "\u001b[91m검색어 : \"2025년 1월 10일 서울 날씨\"\n",
      "검색결과 : 0\n",
      "\u001b[0m\n",
      "\u001b[94mAnswer with Search prompt : 당신의 이름은 '미네르바'이고 카카오톡에서 활동하는 챗봇입니다. 'ccw'님이 관리하고 있는 챗봇입니다. \n",
      "\n",
      "아래 지침 사항 3가지는 무조건 따르세요.\n",
      "1. Markdown 형식(예: **, *, _)을 사용하지 마세요.\n",
      "2. 텍스트 스타일(예: italic, bold)을 사용하지 마세요.\n",
      "3. 내용이 길 경우 Bullet Point List 형태로 이해하기 쉽게 출력하세요.\n",
      "당신은 사용자 요청에 대해 답변을 수행하는 유용한 챗봇입니다.\n",
      "\n",
      "아래 [사용자 정보]와 [사용자 답변 선호도]를 참고해서 답변을 수행하세요.\n",
      "\n",
      "[사용자 정보]:\n",
      "\n",
      "\n",
      "[사용자 답변 선호도]:\n",
      "죄송하지만, 실시간 데이터에 접근할 수 없어 현재 날씨 정보를 제공할 수 없습니다. 대신 지역의 기상 웹사이트나 날씨 앱을 확인해보시는 것을 추천드립니다.\n",
      "\n",
      "답변:\u001b[0m\n"
     ]
    },
    {
     "data": {
      "text/plain": [
       "{'messages': [HumanMessage(content='오늘 날씨 알려줘', additional_kwargs={}, response_metadata={}, id='62867fd3-70d2-4eaf-bb10-d360fd9c6a73'),\n",
       "  HumanMessage(content='죄송하지만, 실시간 데이터에 접근할 수 없어 현재 날씨 정보를 제공할 수 없습니다. 대신 지역의 기상 웹사이트나 날씨 앱을 확인해보시는 것을 추천드립니다.\\n', additional_kwargs={}, response_metadata={}, id='2ceb0423-0d11-4f44-9e82-65a3220cc681')],\n",
       " 'is_search': 'YES',\n",
       " 'is_personal': 'NO',\n",
       " 'is_preference': 'YES'}"
      ]
     },
     "execution_count": 7,
     "metadata": {},
     "output_type": "execute_result"
    }
   ],
   "source": [
    "messages = \"오늘 날씨 알려줘\"\n",
    "graph.invoke({\"messages\": messages}, config={\"configurable\": {\"thread_id\": \"default\",\"user_id\": \"default\"}})"
   ]
  }
 ],
 "metadata": {
  "kernelspec": {
   "display_name": "kakaoChatAgent",
   "language": "python",
   "name": "kakaochatagent"
  },
  "language_info": {
   "codemirror_mode": {
    "name": "ipython",
    "version": 3
   },
   "file_extension": ".py",
   "mimetype": "text/x-python",
   "name": "python",
   "nbconvert_exporter": "python",
   "pygments_lexer": "ipython3",
   "version": "3.11.11"
  }
 },
 "nbformat": 4,
 "nbformat_minor": 2
}
