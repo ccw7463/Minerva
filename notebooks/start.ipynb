{
 "cells": [
  {
   "cell_type": "markdown",
   "metadata": {},
   "source": [
    "추가할 내용\n",
    "1. 챗봇 페르소나 정해주기\n",
    "2. 사용자 인식하기 (그냥 db 말고 json으로 박자)\n",
    "3. 검색하는 부분 고려 (이전 대화 얼만큼 볼것인가 .. 이런부분)"
   ]
  },
  {
   "cell_type": "code",
   "execution_count": 1,
   "metadata": {},
   "outputs": [
    {
     "name": "stderr",
     "output_type": "stream",
     "text": [
      "USER_AGENT environment variable not set, consider setting it to identify your requests.\n"
     ]
    }
   ],
   "source": [
    "from modules.__init__ import *"
   ]
  },
  {
   "cell_type": "code",
   "execution_count": 2,
   "metadata": {},
   "outputs": [],
   "source": [
    "LIMIT_LENGTH = 8\n",
    "SEARCH_RETRY_COUNT = 5\n",
    "SEARCH_RESULT_COUNT = 4\n",
    "SEARCH_MINIMUM_RESULT = 1\n",
    "system_prompt = prompt_config.system_message"
   ]
  },
  {
   "cell_type": "code",
   "execution_count": 3,
   "metadata": {},
   "outputs": [],
   "source": [
    "llm = ChatOpenAI(model=\"gpt-4o\")\n",
    "\n",
    "class State(MessagesState):\n",
    "    is_search: str\n",
    "    is_personal: str\n",
    "    is_preference: str\n",
    "    \n",
    "def _get_memory(namespace, \n",
    "                key,\n",
    "                store:BaseStore):\n",
    "    \"\"\"\n",
    "        Des:\n",
    "            현재 저장된 사용자 정보를 가져오는 함수\n",
    "    \"\"\"\n",
    "    existing_memory = store.get(namespace=namespace,\n",
    "                                key=key)\n",
    "    return existing_memory.value.get('memory') if existing_memory else \"\""
   ]
  },
  {
   "cell_type": "code",
   "execution_count": 4,
   "metadata": {},
   "outputs": [],
   "source": [
    "@trace_function(enable_print=False, only_func_name=True)\n",
    "def _node_decide_personal(state: State):\n",
    "    \"\"\"\n",
    "        Des:\n",
    "            개인정보 여부가 있는지 판단하는 노드\n",
    "    \"\"\"\n",
    "    query = state[\"messages\"][-1].content\n",
    "    prompt = [SystemMessage(content=prompt_config.decide_personal_prompt)] + [HumanMessage(content=query)]\n",
    "    return {\"is_personal\":[llm.invoke(prompt)][0].content.upper()}\n",
    "\n",
    "@trace_function(enable_print=False, only_func_name=True)\n",
    "def _node_decide_preference(state: State):\n",
    "    \"\"\"\n",
    "        Des:\n",
    "            답변 선호도 여부가 있는지 판단하는 노드\n",
    "    \"\"\"\n",
    "    query = state[\"messages\"][-1].content\n",
    "    prompt = [SystemMessage(content=prompt_config.decide_preference_prompt)] + [HumanMessage(content=query)]\n",
    "    return {\"is_preference\":[llm.invoke(prompt)][0].content.upper()}\n",
    "\n",
    "@trace_function(enable_print=False, only_func_name=True)\n",
    "def _node_decide_search(state: State):\n",
    "    \"\"\"\n",
    "        Des:\n",
    "            검색 여부를 결정하는 노드\n",
    "    \"\"\"\n",
    "    query = state[\"messages\"][-1].content\n",
    "    prompt = [SystemMessage(content=prompt_config.decide_search_prompt)] + [HumanMessage(content=query)]\n",
    "    return {\"is_search\":[llm.invoke(prompt)][0].content.upper()}\n",
    "\n",
    "@trace_function(enable_print=False, only_func_name=True)\n",
    "def _node_write_memory(state: State, \n",
    "                        config: RunnableConfig, \n",
    "                        store: BaseStore):\n",
    "    \"\"\"\n",
    "        Des:\n",
    "            사용자 메시지를 인식하고, 개인정보/선호도/검색결과 등을 저장하는 노드\n",
    "    \"\"\"\n",
    "    query = state[\"messages\"][-1].content\n",
    "    namespace = (\"memories\", config[\"configurable\"][\"user_id\"])\n",
    "    \n",
    "    # 개인정보 판단 및 저장\n",
    "    if state.get(\"is_personal\") == \"YES\":\n",
    "        personal_memory = _get_memory(namespace=namespace, \n",
    "                                            key=\"personal_info\", \n",
    "                                            store=store)\n",
    "        system_message = prompt_config.create_memory_prompt.format(memory=personal_memory)\n",
    "        # print(f\"{RED}Write Memory system_message : {system_message}{RESET}\")\n",
    "        memory_prompt = [SystemMessage(content=system_message)] + [HumanMessage(content=query)]\n",
    "        store.put(namespace=namespace, \n",
    "                    key=\"personal_info\", \n",
    "                    value={\"memory\":llm.invoke(memory_prompt).content})    \n",
    "    if state.get(\"is_preference\") == \"YES\":\n",
    "        preference_memory = _get_memory(namespace=namespace, \n",
    "                                            key=\"personal_preference\", \n",
    "                                            store=store)\n",
    "        system_message = prompt_config.create_preference_prompt.format(preference=preference_memory)\n",
    "        # print(f\"{RED}Create Preference system_message : {system_message}{RESET}\")\n",
    "        preference_prompt = [SystemMessage(content=system_message)] + [HumanMessage(content=query)]\n",
    "        store.put(namespace=namespace, \n",
    "                    key=\"personal_preference\", \n",
    "                    value={\"memory\":llm.invoke(preference_prompt).content})\n",
    "\n",
    "    if state.get(\"is_search\") == \"YES\":\n",
    "        main_context, suffix_context = web_search(query)\n",
    "        store.put(namespace=namespace, \n",
    "                    key=\"main_context\", \n",
    "                    value={\"memory\":main_context})\n",
    "        store.put(namespace=namespace, \n",
    "                    key=\"suffix_context\", \n",
    "                    value={\"memory\":suffix_context})\n",
    "        \n",
    "        \n",
    "@trace_function(enable_print=False, only_func_name=True)\n",
    "def web_search(query):\n",
    "    prompt = prompt_config.generate_search_info.format(query=query)\n",
    "    search_info = llm.invoke(prompt).content\n",
    "    for _ in range(SEARCH_RETRY_COUNT):\n",
    "        results = google_search_scrape(search_info, num_results=SEARCH_RESULT_COUNT)\n",
    "        if len(results) >= SEARCH_MINIMUM_RESULT:\n",
    "            break\n",
    "    print(f\"{RED}검색어 : {search_info}\\n검색결과 : {len(results)}\\n{RESET}\")\n",
    "    main_context = ''\n",
    "    suffix_context = ''\n",
    "    for idx, result in enumerate(results):\n",
    "        link = result.get(\"link\")\n",
    "        try:\n",
    "            desc, detailed_content = extract_content(link)\n",
    "        except:\n",
    "            pass\n",
    "        try:\n",
    "            if \"Enable JavaScript and cookies\" in detailed_content: # TODO 동적페이지 처리방식 필요\n",
    "                continue\n",
    "        except:\n",
    "            continue\n",
    "        main_context += f\"제목 : {result.get('title')}\\n링크 : {link}\\n설명 : {desc}\\n내용 : {detailed_content}\\n\\n\"    \n",
    "        suffix_context += f\"\"\"\n",
    "📌 참고내용 [{idx+1}]\n",
    "제목 : {result.get('title')}\n",
    "링크 : {link}\n",
    "설명 : {desc}\n",
    "\"\"\"\n",
    "    return main_context, suffix_context\n",
    "    \n",
    "@trace_function(enable_print=False, only_func_name=True)\n",
    "def _node_answer(state: State, \n",
    "                 config: RunnableConfig,\n",
    "                 store: BaseStore):\n",
    "    \"\"\"\n",
    "        Des:\n",
    "            사용자 메시지를 인식하고, 답변을 생성하는 노드\n",
    "    \"\"\"\n",
    "    namespace = (\"memories\", config[\"configurable\"][\"user_id\"])\n",
    "    personal_memory = _get_memory(namespace=namespace, \n",
    "                                  key=\"personal_info\", \n",
    "                                  store=store)\n",
    "    personal_preference = _get_memory(namespace=namespace, \n",
    "                                            key=\"personal_preference\", \n",
    "                                            store=store)\n",
    "\n",
    "    if state.get(\"is_search\") == \"YES\":\n",
    "        main_context = _get_memory(namespace=namespace, \n",
    "                                key=\"main_context\", \n",
    "                                store=store)\n",
    "        suffix_context = _get_memory(namespace=namespace, \n",
    "                                    key=\"suffix_context\", \n",
    "                                    store=store)\n",
    "        system_message = prompt_config.answer_prompt.format(memory=personal_memory,\n",
    "                                                            preference=personal_preference)\n",
    "        user_prompt = prompt_config.answer_with_context.format(context=main_context,\n",
    "                                                               query=state['messages'][-1].content)\n",
    "        prompt = [SystemMessage(content=system_prompt+system_message)] + [HumanMessage(content=user_prompt)]\n",
    "        print(f\"{BLUE}Answer with Search prompt : {prompt[0].content}{RESET}\")\n",
    "        return {\"messages\": llm.invoke(prompt).content + \"\\n\" + suffix_context}\n",
    "    else:    \n",
    "        system_message = prompt_config.answer_prompt.format(memory=personal_memory,\n",
    "                                                            preference=personal_preference)\n",
    "        prompt = [SystemMessage(content=system_prompt+system_message)] + state[\"messages\"]\n",
    "        print(f\"{BLUE}Answer prompt : {prompt[0].content}{RESET}\")\n",
    "        return {\"messages\": llm.invoke(prompt)}\n",
    "\n",
    "@trace_function(enable_print=False, only_func_name=True)\n",
    "def _node_optimize_memory(state: State):\n",
    "    \"\"\"\n",
    "        Des:\n",
    "            메모리 최적화 함수\n",
    "    \"\"\"\n",
    "    if len(state[\"messages\"]) > LIMIT_LENGTH:\n",
    "        delete_messages = [RemoveMessage(id=m.id) for m in state[\"messages\"][:LIMIT_LENGTH//2]]\n",
    "        return {\"messages\": delete_messages}\n",
    "    else:\n",
    "        return {\"messages\": state[\"messages\"]}"
   ]
  },
  {
   "cell_type": "code",
   "execution_count": 5,
   "metadata": {},
   "outputs": [
    {
     "data": {
      "image/png": "[encoded data removed]",
      "text/plain": [
       "<IPython.core.display.Image object>"
      ]
     },
     "metadata": {},
     "output_type": "display_data"
    }
   ],
   "source": [
    "from IPython.display import Image, display\n",
    "builder = StateGraph(State)\n",
    "builder.add_node(\"_node_decide_personal\", _node_decide_personal)\n",
    "builder.add_node(\"_node_decide_preference\", _node_decide_preference)\n",
    "builder.add_node(\"_node_decide_search\", _node_decide_search)\n",
    "builder.add_node(\"_node_write_memory\", _node_write_memory)\n",
    "builder.add_node(\"_node_answer\", _node_answer)\n",
    "builder.add_node(\"_node_optimize_memory\", _node_optimize_memory)\n",
    "builder.add_edge(START, \"_node_decide_personal\")\n",
    "builder.add_edge(START, \"_node_decide_preference\")\n",
    "builder.add_edge(START, \"_node_decide_search\")\n",
    "builder.add_edge([\"_node_decide_personal\", \"_node_decide_preference\", \"_node_decide_search\"], \"_node_write_memory\")\n",
    "builder.add_edge(\"_node_write_memory\", \"_node_answer\")\n",
    "builder.add_edge(\"_node_answer\", \"_node_optimize_memory\")\n",
    "builder.add_edge(\"_node_optimize_memory\", END)\n",
    "graph = builder.compile()\n",
    "display(Image(graph.get_graph().draw_mermaid_png()))"
   ]
  },
  {
   "cell_type": "code",
   "execution_count": 6,
   "metadata": {},
   "outputs": [],
   "source": [
    "ShortTermMemory = MemorySaver()\n",
    "LongTermMemory = InMemoryStore()\n",
    "graph = builder.compile(checkpointer=ShortTermMemory,\n",
    "                                store=LongTermMemory)"
   ]
  },
  {
   "cell_type": "code",
   "execution_count": 7,
   "metadata": {},
   "outputs": [
    {
     "name": "stdout",
     "output_type": "stream",
     "text": [
      "\u001b[94mAnswer prompt : 당신의 이름은 '미네르바'이고 카카오톡에서 활동하는 챗봇입니다. 'ccw'님이 관리하고 있는 챗봇입니다. \n",
      "\n",
      "지침:\n",
      "1. 사용자의 질문과 요청에 웃는 이모지를 사용해서 친절하게 응답하세요. \n",
      "2. 가능한 핵심적인 내용만을 전달하세요.\n",
      "3. 절대 마크다운 형태로 출력하지 마세요.\n",
      "4. 절대 italic, bold 형태로 출력하지 마세요.\n",
      "5. 내용이 길 경우 불릿 리스트 형태로 이해하기 쉽게 출력하세요.\n",
      "당신은 사용자 요청에 대해 답변을 수행하는 유용한 챗봇입니다.\n",
      "\n",
      "아래 [사용자 정보]와 [사용자 답변 선호도]를 참고해서 답변을 수행하세요.\n",
      "\n",
      "[사용자 정보]:\n",
      "- 이름 : 창우\n",
      "\n",
      "\n",
      "\n",
      "[사용자 답변 선호도]:\n",
      "- 사용자는 간결하고 명확한 답변을 선호한다.\n",
      "- 사용자는 이모지를 적절히 사용하는것을 선호한다.\n",
      "\n",
      "답변:\u001b[0m\n"
     ]
    },
    {
     "data": {
      "text/plain": [
       "{'messages': [HumanMessage(content='저는 창우라고합니다. 답변은 이모지를 적절히 사용하세요. 2차전지에 대해 알려주세요. 답변은 무조건 간략히 부탁드립니당.', additional_kwargs={}, response_metadata={}, id='3cc9105b-df63-4d70-a6a6-deb580d259b0'),\n",
       "  AIMessage(content='안녕하세요, 창우님! 😊\\n\\n2차 전지는 충전하여 여러 번 사용할 수 있는 배터리입니다. 주로 리튬이온 배터리가 많이 사용되며, 스마트폰, 전기차 등 다양한 기기에 활용됩니다. 🔋\\n\\n궁금한 점이 더 있으면 언제든지 말씀해 주세요! 😉', additional_kwargs={'refusal': None}, response_metadata={'token_usage': {'completion_tokens': 74, 'prompt_tokens': 279, 'total_tokens': 353, 'completion_tokens_details': {'accepted_prediction_tokens': 0, 'audio_tokens': 0, 'reasoning_tokens': 0, 'rejected_prediction_tokens': 0}, 'prompt_tokens_details': {'audio_tokens': 0, 'cached_tokens': 0}}, 'model_name': 'gpt-4o-2024-08-06', 'system_fingerprint': 'fp_b7d65f1a5b', 'finish_reason': 'stop', 'logprobs': None}, id='run-e69f6fef-d24e-4381-af7c-6dfa4e83a4aa-0', usage_metadata={'input_tokens': 279, 'output_tokens': 74, 'total_tokens': 353, 'input_token_details': {'audio': 0, 'cache_read': 0}, 'output_token_details': {'audio': 0, 'reasoning': 0}})],\n",
       " 'is_search': 'NO',\n",
       " 'is_personal': 'YES',\n",
       " 'is_preference': 'YES'}"
      ]
     },
     "execution_count": 7,
     "metadata": {},
     "output_type": "execute_result"
    }
   ],
   "source": [
    "messages = \"저는 창우라고합니다. 답변은 이모지를 적절히 사용하세요. 2차전지에 대해 알려주세요. 답변은 무조건 간략히 부탁드립니당.\"\n",
    "graph.invoke({\"messages\": messages}, config={\"configurable\": {\"thread_id\": \"default\",\"user_id\": \"default\"}})"
   ]
  },
  {
   "cell_type": "code",
   "execution_count": 8,
   "metadata": {},
   "outputs": [
    {
     "name": "stdout",
     "output_type": "stream",
     "text": [
      "\u001b[91m검색어 : \"2025년 최신 고래 연구 자료\"\n",
      "검색결과 : 4\n",
      "\u001b[0m\n"
     ]
    },
    {
     "name": "stderr",
     "output_type": "stream",
     "text": [
      "Fetching pages: 100%|##########| 1/1 [00:00<00:00,  1.37it/s]\n",
      "Fetching pages:   0%|          | 0/1 [00:00<?, ?it/s]Error fetching https://eiec.kdi.re.kr/publish/naraView.do?fcode=00002000040000100012&cidx=14031&sel_year=2022&sel_month=10 with attempt 1/3: Cannot connect to host eiec.kdi.re.kr:443 ssl:True [SSLCertVerificationError: (1, '[SSL: CERTIFICATE_VERIFY_FAILED] certificate verify failed: unable to get local issuer certificate (_ssl.c:1006)')]. Retrying...\n",
      "Error fetching https://eiec.kdi.re.kr/publish/naraView.do?fcode=00002000040000100012&cidx=14031&sel_year=2022&sel_month=10 with attempt 2/3: Cannot connect to host eiec.kdi.re.kr:443 ssl:True [SSLCertVerificationError: (1, '[SSL: CERTIFICATE_VERIFY_FAILED] certificate verify failed: unable to get local issuer certificate (_ssl.c:1006)')]. Retrying...\n",
      "Fetching pages:   0%|          | 0/1 [00:05<?, ?it/s]\n",
      "Fetching pages: 100%|##########| 1/1 [00:00<00:00,  2.55it/s]\n",
      "Fetching pages: 100%|##########| 1/1 [00:00<00:00,  5.44it/s]\n"
     ]
    },
    {
     "name": "stdout",
     "output_type": "stream",
     "text": [
      "\u001b[94mAnswer with Search prompt : 당신의 이름은 '미네르바'이고 카카오톡에서 활동하는 챗봇입니다. 'ccw'님이 관리하고 있는 챗봇입니다. \n",
      "\n",
      "지침:\n",
      "1. 사용자의 질문과 요청에 웃는 이모지를 사용해서 친절하게 응답하세요. \n",
      "2. 가능한 핵심적인 내용만을 전달하세요.\n",
      "3. 절대 마크다운 형태로 출력하지 마세요.\n",
      "4. 절대 italic, bold 형태로 출력하지 마세요.\n",
      "5. 내용이 길 경우 불릿 리스트 형태로 이해하기 쉽게 출력하세요.\n",
      "당신은 사용자 요청에 대해 답변을 수행하는 유용한 챗봇입니다.\n",
      "\n",
      "아래 [사용자 정보]와 [사용자 답변 선호도]를 참고해서 답변을 수행하세요.\n",
      "\n",
      "[사용자 정보]:\n",
      "- 이름 : 창우\n",
      "\n",
      "\n",
      "\n",
      "[사용자 답변 선호도]:\n",
      "- 사용자는 간결하고 명확한 답변을 선호한다.\n",
      "- 사용자는 이모지를 적절히 사용하는것을 선호한다.\n",
      "\n",
      "답변:\u001b[0m\n"
     ]
    },
    {
     "data": {
      "text/plain": [
       "{'messages': [HumanMessage(content='저는 창우라고합니다. 답변은 이모지를 적절히 사용하세요. 2차전지에 대해 알려주세요. 답변은 무조건 간략히 부탁드립니당.', additional_kwargs={}, response_metadata={}, id='3cc9105b-df63-4d70-a6a6-deb580d259b0'),\n",
       "  AIMessage(content='안녕하세요, 창우님! 😊\\n\\n2차 전지는 충전하여 여러 번 사용할 수 있는 배터리입니다. 주로 리튬이온 배터리가 많이 사용되며, 스마트폰, 전기차 등 다양한 기기에 활용됩니다. 🔋\\n\\n궁금한 점이 더 있으면 언제든지 말씀해 주세요! 😉', additional_kwargs={'refusal': None}, response_metadata={'token_usage': {'completion_tokens': 74, 'prompt_tokens': 279, 'total_tokens': 353, 'completion_tokens_details': {'accepted_prediction_tokens': 0, 'audio_tokens': 0, 'reasoning_tokens': 0, 'rejected_prediction_tokens': 0}, 'prompt_tokens_details': {'audio_tokens': 0, 'cached_tokens': 0}}, 'model_name': 'gpt-4o-2024-08-06', 'system_fingerprint': 'fp_b7d65f1a5b', 'finish_reason': 'stop', 'logprobs': None}, id='run-e69f6fef-d24e-4381-af7c-6dfa4e83a4aa-0', usage_metadata={'input_tokens': 279, 'output_tokens': 74, 'total_tokens': 353, 'input_token_details': {'audio': 0, 'cache_read': 0}, 'output_token_details': {'audio': 0, 'reasoning': 0}}),\n",
       "  HumanMessage(content='제가 요즘 고래에 관심이 많아서, 자료를 찾고있는데 최신 고래관련 자료를 찾아주세요.', additional_kwargs={}, response_metadata={}, id='9617fae2-7137-430e-a4ab-b105dc23c58c'),\n",
       "  HumanMessage(content=\"창우님, 고래에 대한 최신 자료를 찾고 계시군요! 😊\\n\\n- '대왕고래 프로젝트'는 동해 심해 가스전 개발 사업으로, 석유와 천연가스 매장 가능성이 높아 주목받고 있습니다. 하지만 정치적 이슈와 예산 삭감 등의 문제로 논란이 많습니다.\\n\\n- 한국에서는 고래 보호를 위한 법적 개선이 논의 중입니다. 매년 1,000마리 이상의 고래가 혼획으로 희생되고 있어 해양포유류 보호법 제정이 필요하다는 의견이 제기되고 있습니다.\\n\\n- 서울대학교의 이성빈 수의사는 상괭이와 같은 고래류의 보존 연구를 진행하고 있으며, 특히 제주도 해역의 상괭이 서식 여부를 연구 중입니다.\\n\\n이 자료들이 창우님의 고래에 대한 관심을 더욱 깊게 만들어 줄 수 있기를 바랍니다! 🐋\\n\\n📌 참고내용 [1]\\n제목 : '대왕고래 프로젝트' 기대와 우려\\n링크 : https://www.energy-news.co.kr/news/articleView.html?idxno=209449\\n설명 : [에너지신문] 2024년 6월 대통령은 포항 영일만 심해 지층에 140억 배럴에 달하는 석유와 천연가스가 매장됐을 가능성이 높다는 국정브리핑을 발표했다. 이례적인 대통령의 발표로 온 나라가 술렁였고 지금까지도 논란이 끊이지 않고 있다.또한, 여러 가지 가짜뉴스와 정확하지 않은 정보가 \\n\\n📌 참고내용 [2]\\n제목 : 우영우가 일으킨 고래 열풍, 리베카 긱스 『고래가 가는 곳』\\n링크 : https://eiec.kdi.re.kr/publish/naraView.do?fcode=00002000040000100012&cidx=14031&sel_year=2022&sel_month=10\\n설명 : [에너지신문] 2024년 6월 대통령은 포항 영일만 심해 지층에 140억 배럴에 달하는 석유와 천연가스가 매장됐을 가능성이 높다는 국정브리핑을 발표했다. 이례적인 대통령의 발표로 온 나라가 술렁였고 지금까지도 논란이 끊이지 않고 있다.또한, 여러 가지 가짜뉴스와 정확하지 않은 정보가 \\n\\n📌 참고내용 [3]\\n제목 : 세계 고래의 날 '미소짓는 상괭이' 연구하는 이성빈 수의사를 ...\\n링크 : https://www.dailyvet.co.kr/interview/205363\\n설명 : \\n\\n📌 참고내용 [4]\\n제목 : 매년 1000마리 고래, 혼획으로 희생\\n링크 : https://www.hkbs.co.kr/news/articleView.html?idxno=780724\\n설명 : [환경일보] 3일 환경운동연합은 국회에서 송옥주⋅문대림⋅이병진⋅주철현⋅윤준병 국회의원실과 시민환경연구소와 함께 고래 보호를 위한 해양포유류보호법 제정 토론회를 개최했다.이번 토론회에는 정부, 국회, 학계, 연구자, 어민, 시민사회 등 다양한 이해관계자가 참여해 해양포유류보호법 제정에 대한 다양한 의견을 교환했다.모두 발언에서 윤준병 의원은 “매년 수백 마리의 고래가 혼획과 포획으로 희생되고 있음에도 현행 법령으로는 해양포유류 보호에 한계가 많다”며 “이번 토론회를 통해 국내 해양포유류 보호 정책을 면밀히 검토하고 국내 법과 제도 개\\n\", additional_kwargs={}, response_metadata={}, id='c236f63d-778c-46ba-95f6-9d7be020bc82')],\n",
       " 'is_search': 'YES',\n",
       " 'is_personal': 'NO',\n",
       " 'is_preference': 'NO'}"
      ]
     },
     "execution_count": 8,
     "metadata": {},
     "output_type": "execute_result"
    }
   ],
   "source": [
    "messages = \"제가 요즘 고래에 관심이 많아서, 자료를 찾고있는데 최신 고래관련 자료를 찾아주세요.\"\n",
    "graph.invoke({\"messages\": messages}, config={\"configurable\": {\"thread_id\": \"default\",\"user_id\": \"default\"}})"
   ]
  },
  {
   "cell_type": "code",
   "execution_count": 9,
   "metadata": {},
   "outputs": [
    {
     "name": "stdout",
     "output_type": "stream",
     "text": [
      "\u001b[94mAnswer prompt : 당신의 이름은 '미네르바'이고 카카오톡에서 활동하는 챗봇입니다. 'ccw'님이 관리하고 있는 챗봇입니다. \n",
      "\n",
      "지침:\n",
      "1. 사용자의 질문과 요청에 웃는 이모지를 사용해서 친절하게 응답하세요. \n",
      "2. 가능한 핵심적인 내용만을 전달하세요.\n",
      "3. 절대 마크다운 형태로 출력하지 마세요.\n",
      "4. 절대 italic, bold 형태로 출력하지 마세요.\n",
      "5. 내용이 길 경우 불릿 리스트 형태로 이해하기 쉽게 출력하세요.\n",
      "당신은 사용자 요청에 대해 답변을 수행하는 유용한 챗봇입니다.\n",
      "\n",
      "아래 [사용자 정보]와 [사용자 답변 선호도]를 참고해서 답변을 수행하세요.\n",
      "\n",
      "[사용자 정보]:\n",
      "- 이름 : 창우\n",
      "\n",
      "\n",
      "\n",
      "[사용자 답변 선호도]:\n",
      "- 사용자는 간결하고 명확한 답변을 선호한다.\n",
      "- 사용자는 이모지를 적절히 사용하는것을 선호한다.\n",
      "\n",
      "답변:\u001b[0m\n"
     ]
    },
    {
     "data": {
      "text/plain": [
       "{'messages': [HumanMessage(content='저는 창우라고합니다. 답변은 이모지를 적절히 사용하세요. 2차전지에 대해 알려주세요. 답변은 무조건 간략히 부탁드립니당.', additional_kwargs={}, response_metadata={}, id='3cc9105b-df63-4d70-a6a6-deb580d259b0'),\n",
       "  AIMessage(content='안녕하세요, 창우님! 😊\\n\\n2차 전지는 충전하여 여러 번 사용할 수 있는 배터리입니다. 주로 리튬이온 배터리가 많이 사용되며, 스마트폰, 전기차 등 다양한 기기에 활용됩니다. 🔋\\n\\n궁금한 점이 더 있으면 언제든지 말씀해 주세요! 😉', additional_kwargs={'refusal': None}, response_metadata={'token_usage': {'completion_tokens': 74, 'prompt_tokens': 279, 'total_tokens': 353, 'completion_tokens_details': {'accepted_prediction_tokens': 0, 'audio_tokens': 0, 'reasoning_tokens': 0, 'rejected_prediction_tokens': 0}, 'prompt_tokens_details': {'audio_tokens': 0, 'cached_tokens': 0}}, 'model_name': 'gpt-4o-2024-08-06', 'system_fingerprint': 'fp_b7d65f1a5b', 'finish_reason': 'stop', 'logprobs': None}, id='run-e69f6fef-d24e-4381-af7c-6dfa4e83a4aa-0', usage_metadata={'input_tokens': 279, 'output_tokens': 74, 'total_tokens': 353, 'input_token_details': {'audio': 0, 'cache_read': 0}, 'output_token_details': {'audio': 0, 'reasoning': 0}}),\n",
       "  HumanMessage(content='제가 요즘 고래에 관심이 많아서, 자료를 찾고있는데 최신 고래관련 자료를 찾아주세요.', additional_kwargs={}, response_metadata={}, id='9617fae2-7137-430e-a4ab-b105dc23c58c'),\n",
       "  HumanMessage(content=\"창우님, 고래에 대한 최신 자료를 찾고 계시군요! 😊\\n\\n- '대왕고래 프로젝트'는 동해 심해 가스전 개발 사업으로, 석유와 천연가스 매장 가능성이 높아 주목받고 있습니다. 하지만 정치적 이슈와 예산 삭감 등의 문제로 논란이 많습니다.\\n\\n- 한국에서는 고래 보호를 위한 법적 개선이 논의 중입니다. 매년 1,000마리 이상의 고래가 혼획으로 희생되고 있어 해양포유류 보호법 제정이 필요하다는 의견이 제기되고 있습니다.\\n\\n- 서울대학교의 이성빈 수의사는 상괭이와 같은 고래류의 보존 연구를 진행하고 있으며, 특히 제주도 해역의 상괭이 서식 여부를 연구 중입니다.\\n\\n이 자료들이 창우님의 고래에 대한 관심을 더욱 깊게 만들어 줄 수 있기를 바랍니다! 🐋\\n\\n📌 참고내용 [1]\\n제목 : '대왕고래 프로젝트' 기대와 우려\\n링크 : https://www.energy-news.co.kr/news/articleView.html?idxno=209449\\n설명 : [에너지신문] 2024년 6월 대통령은 포항 영일만 심해 지층에 140억 배럴에 달하는 석유와 천연가스가 매장됐을 가능성이 높다는 국정브리핑을 발표했다. 이례적인 대통령의 발표로 온 나라가 술렁였고 지금까지도 논란이 끊이지 않고 있다.또한, 여러 가지 가짜뉴스와 정확하지 않은 정보가 \\n\\n📌 참고내용 [2]\\n제목 : 우영우가 일으킨 고래 열풍, 리베카 긱스 『고래가 가는 곳』\\n링크 : https://eiec.kdi.re.kr/publish/naraView.do?fcode=00002000040000100012&cidx=14031&sel_year=2022&sel_month=10\\n설명 : [에너지신문] 2024년 6월 대통령은 포항 영일만 심해 지층에 140억 배럴에 달하는 석유와 천연가스가 매장됐을 가능성이 높다는 국정브리핑을 발표했다. 이례적인 대통령의 발표로 온 나라가 술렁였고 지금까지도 논란이 끊이지 않고 있다.또한, 여러 가지 가짜뉴스와 정확하지 않은 정보가 \\n\\n📌 참고내용 [3]\\n제목 : 세계 고래의 날 '미소짓는 상괭이' 연구하는 이성빈 수의사를 ...\\n링크 : https://www.dailyvet.co.kr/interview/205363\\n설명 : \\n\\n📌 참고내용 [4]\\n제목 : 매년 1000마리 고래, 혼획으로 희생\\n링크 : https://www.hkbs.co.kr/news/articleView.html?idxno=780724\\n설명 : [환경일보] 3일 환경운동연합은 국회에서 송옥주⋅문대림⋅이병진⋅주철현⋅윤준병 국회의원실과 시민환경연구소와 함께 고래 보호를 위한 해양포유류보호법 제정 토론회를 개최했다.이번 토론회에는 정부, 국회, 학계, 연구자, 어민, 시민사회 등 다양한 이해관계자가 참여해 해양포유류보호법 제정에 대한 다양한 의견을 교환했다.모두 발언에서 윤준병 의원은 “매년 수백 마리의 고래가 혼획과 포획으로 희생되고 있음에도 현행 법령으로는 해양포유류 보호에 한계가 많다”며 “이번 토론회를 통해 국내 해양포유류 보호 정책을 면밀히 검토하고 국내 법과 제도 개\\n\", additional_kwargs={}, response_metadata={}, id='c236f63d-778c-46ba-95f6-9d7be020bc82'),\n",
       "  HumanMessage(content='내용을 요약해줄래요? 간단히', additional_kwargs={}, response_metadata={}, id='a3cddb12-a0f4-4282-9085-fa8da12ae2b7'),\n",
       "  AIMessage(content='물론이죠, 창우님! 😊\\n\\n- **대왕고래 프로젝트**: 동해 심해에 석유와 천연가스 매장 가능성이 있어 주목받고 있지만, 정치적 논란이 많습니다.\\n- **고래 보호법**: 매년 많은 고래가 혼획으로 희생되어, 보호법 제정이 논의되고 있습니다.\\n- **상괭이 연구**: 서울대 이성빈 수의사가 제주도 해역의 상괭이 보존 연구를 진행 중입니다.\\n\\n고래에 대한 관심이 더욱 깊어지길 바랍니다! 🐋', additional_kwargs={'refusal': None}, response_metadata={'token_usage': {'completion_tokens': 134, 'prompt_tokens': 1250, 'total_tokens': 1384, 'completion_tokens_details': {'accepted_prediction_tokens': 0, 'audio_tokens': 0, 'reasoning_tokens': 0, 'rejected_prediction_tokens': 0}, 'prompt_tokens_details': {'audio_tokens': 0, 'cached_tokens': 0}}, 'model_name': 'gpt-4o-2024-08-06', 'system_fingerprint': 'fp_b7d65f1a5b', 'finish_reason': 'stop', 'logprobs': None}, id='run-b1a987b9-507a-46a8-ab1c-6c8d9ef6a91e-0', usage_metadata={'input_tokens': 1250, 'output_tokens': 134, 'total_tokens': 1384, 'input_token_details': {'audio': 0, 'cache_read': 0}, 'output_token_details': {'audio': 0, 'reasoning': 0}})],\n",
       " 'is_search': 'NO',\n",
       " 'is_personal': 'NO',\n",
       " 'is_preference': 'YES'}"
      ]
     },
     "execution_count": 9,
     "metadata": {},
     "output_type": "execute_result"
    }
   ],
   "source": [
    "messages = \"내용을 요약해줄래요? 간단히\"\n",
    "graph.invoke({\"messages\": messages}, config={\"configurable\": {\"thread_id\": \"default\",\"user_id\": \"default\"}})"
   ]
  },
  {
   "cell_type": "code",
   "execution_count": 10,
   "metadata": {},
   "outputs": [
    {
     "name": "stdout",
     "output_type": "stream",
     "text": [
      "\u001b[91m검색어 : \"2025년 1월 배추 가격 동향\"\n",
      "검색결과 : 4\n",
      "\u001b[0m\n"
     ]
    },
    {
     "name": "stderr",
     "output_type": "stream",
     "text": [
      "Fetching pages: 100%|##########| 1/1 [00:05<00:00,  5.04s/it]\n",
      "Fetching pages: 100%|##########| 1/1 [00:03<00:00,  3.32s/it]\n",
      "Fetching pages: 100%|##########| 1/1 [00:00<00:00,  3.07it/s]\n",
      "Fetching pages: 100%|##########| 1/1 [00:00<00:00, 10.48it/s]\n"
     ]
    },
    {
     "name": "stdout",
     "output_type": "stream",
     "text": [
      "\u001b[94mAnswer with Search prompt : 당신의 이름은 '미네르바'이고 카카오톡에서 활동하는 챗봇입니다. 'ccw'님이 관리하고 있는 챗봇입니다. \n",
      "\n",
      "지침:\n",
      "1. 사용자의 질문과 요청에 웃는 이모지를 사용해서 친절하게 응답하세요. \n",
      "2. 가능한 핵심적인 내용만을 전달하세요.\n",
      "3. 절대 마크다운 형태로 출력하지 마세요.\n",
      "4. 절대 italic, bold 형태로 출력하지 마세요.\n",
      "5. 내용이 길 경우 불릿 리스트 형태로 이해하기 쉽게 출력하세요.\n",
      "당신은 사용자 요청에 대해 답변을 수행하는 유용한 챗봇입니다.\n",
      "\n",
      "아래 [사용자 정보]와 [사용자 답변 선호도]를 참고해서 답변을 수행하세요.\n",
      "\n",
      "[사용자 정보]:\n",
      "- 이름 : 창우\n",
      "\n",
      "\n",
      "\n",
      "[사용자 답변 선호도]:\n",
      "- 사용자는 간결하고 명확한 답변을 선호한다.\n",
      "- 사용자는 이모지를 사용하지 않는것을 선호한다.\n",
      "\n",
      "답변:\u001b[0m\n"
     ]
    },
    {
     "data": {
      "text/plain": [
       "{'messages': [HumanMessage(content='저는 창우라고합니다. 답변은 이모지를 적절히 사용하세요. 2차전지에 대해 알려주세요. 답변은 무조건 간략히 부탁드립니당.', additional_kwargs={}, response_metadata={}, id='3cc9105b-df63-4d70-a6a6-deb580d259b0'),\n",
       "  AIMessage(content='안녕하세요, 창우님! 😊\\n\\n2차 전지는 충전하여 여러 번 사용할 수 있는 배터리입니다. 주로 리튬이온 배터리가 많이 사용되며, 스마트폰, 전기차 등 다양한 기기에 활용됩니다. 🔋\\n\\n궁금한 점이 더 있으면 언제든지 말씀해 주세요! 😉', additional_kwargs={'refusal': None}, response_metadata={'token_usage': {'completion_tokens': 74, 'prompt_tokens': 279, 'total_tokens': 353, 'completion_tokens_details': {'accepted_prediction_tokens': 0, 'audio_tokens': 0, 'reasoning_tokens': 0, 'rejected_prediction_tokens': 0}, 'prompt_tokens_details': {'audio_tokens': 0, 'cached_tokens': 0}}, 'model_name': 'gpt-4o-2024-08-06', 'system_fingerprint': 'fp_b7d65f1a5b', 'finish_reason': 'stop', 'logprobs': None}, id='run-e69f6fef-d24e-4381-af7c-6dfa4e83a4aa-0', usage_metadata={'input_tokens': 279, 'output_tokens': 74, 'total_tokens': 353, 'input_token_details': {'audio': 0, 'cache_read': 0}, 'output_token_details': {'audio': 0, 'reasoning': 0}}),\n",
       "  HumanMessage(content='제가 요즘 고래에 관심이 많아서, 자료를 찾고있는데 최신 고래관련 자료를 찾아주세요.', additional_kwargs={}, response_metadata={}, id='9617fae2-7137-430e-a4ab-b105dc23c58c'),\n",
       "  HumanMessage(content=\"창우님, 고래에 대한 최신 자료를 찾고 계시군요! 😊\\n\\n- '대왕고래 프로젝트'는 동해 심해 가스전 개발 사업으로, 석유와 천연가스 매장 가능성이 높아 주목받고 있습니다. 하지만 정치적 이슈와 예산 삭감 등의 문제로 논란이 많습니다.\\n\\n- 한국에서는 고래 보호를 위한 법적 개선이 논의 중입니다. 매년 1,000마리 이상의 고래가 혼획으로 희생되고 있어 해양포유류 보호법 제정이 필요하다는 의견이 제기되고 있습니다.\\n\\n- 서울대학교의 이성빈 수의사는 상괭이와 같은 고래류의 보존 연구를 진행하고 있으며, 특히 제주도 해역의 상괭이 서식 여부를 연구 중입니다.\\n\\n이 자료들이 창우님의 고래에 대한 관심을 더욱 깊게 만들어 줄 수 있기를 바랍니다! 🐋\\n\\n📌 참고내용 [1]\\n제목 : '대왕고래 프로젝트' 기대와 우려\\n링크 : https://www.energy-news.co.kr/news/articleView.html?idxno=209449\\n설명 : [에너지신문] 2024년 6월 대통령은 포항 영일만 심해 지층에 140억 배럴에 달하는 석유와 천연가스가 매장됐을 가능성이 높다는 국정브리핑을 발표했다. 이례적인 대통령의 발표로 온 나라가 술렁였고 지금까지도 논란이 끊이지 않고 있다.또한, 여러 가지 가짜뉴스와 정확하지 않은 정보가 \\n\\n📌 참고내용 [2]\\n제목 : 우영우가 일으킨 고래 열풍, 리베카 긱스 『고래가 가는 곳』\\n링크 : https://eiec.kdi.re.kr/publish/naraView.do?fcode=00002000040000100012&cidx=14031&sel_year=2022&sel_month=10\\n설명 : [에너지신문] 2024년 6월 대통령은 포항 영일만 심해 지층에 140억 배럴에 달하는 석유와 천연가스가 매장됐을 가능성이 높다는 국정브리핑을 발표했다. 이례적인 대통령의 발표로 온 나라가 술렁였고 지금까지도 논란이 끊이지 않고 있다.또한, 여러 가지 가짜뉴스와 정확하지 않은 정보가 \\n\\n📌 참고내용 [3]\\n제목 : 세계 고래의 날 '미소짓는 상괭이' 연구하는 이성빈 수의사를 ...\\n링크 : https://www.dailyvet.co.kr/interview/205363\\n설명 : \\n\\n📌 참고내용 [4]\\n제목 : 매년 1000마리 고래, 혼획으로 희생\\n링크 : https://www.hkbs.co.kr/news/articleView.html?idxno=780724\\n설명 : [환경일보] 3일 환경운동연합은 국회에서 송옥주⋅문대림⋅이병진⋅주철현⋅윤준병 국회의원실과 시민환경연구소와 함께 고래 보호를 위한 해양포유류보호법 제정 토론회를 개최했다.이번 토론회에는 정부, 국회, 학계, 연구자, 어민, 시민사회 등 다양한 이해관계자가 참여해 해양포유류보호법 제정에 대한 다양한 의견을 교환했다.모두 발언에서 윤준병 의원은 “매년 수백 마리의 고래가 혼획과 포획으로 희생되고 있음에도 현행 법령으로는 해양포유류 보호에 한계가 많다”며 “이번 토론회를 통해 국내 해양포유류 보호 정책을 면밀히 검토하고 국내 법과 제도 개\\n\", additional_kwargs={}, response_metadata={}, id='c236f63d-778c-46ba-95f6-9d7be020bc82'),\n",
       "  HumanMessage(content='내용을 요약해줄래요? 간단히', additional_kwargs={}, response_metadata={}, id='a3cddb12-a0f4-4282-9085-fa8da12ae2b7'),\n",
       "  AIMessage(content='물론이죠, 창우님! 😊\\n\\n- **대왕고래 프로젝트**: 동해 심해에 석유와 천연가스 매장 가능성이 있어 주목받고 있지만, 정치적 논란이 많습니다.\\n- **고래 보호법**: 매년 많은 고래가 혼획으로 희생되어, 보호법 제정이 논의되고 있습니다.\\n- **상괭이 연구**: 서울대 이성빈 수의사가 제주도 해역의 상괭이 보존 연구를 진행 중입니다.\\n\\n고래에 대한 관심이 더욱 깊어지길 바랍니다! 🐋', additional_kwargs={'refusal': None}, response_metadata={'token_usage': {'completion_tokens': 134, 'prompt_tokens': 1250, 'total_tokens': 1384, 'completion_tokens_details': {'accepted_prediction_tokens': 0, 'audio_tokens': 0, 'reasoning_tokens': 0, 'rejected_prediction_tokens': 0}, 'prompt_tokens_details': {'audio_tokens': 0, 'cached_tokens': 0}}, 'model_name': 'gpt-4o-2024-08-06', 'system_fingerprint': 'fp_b7d65f1a5b', 'finish_reason': 'stop', 'logprobs': None}, id='run-b1a987b9-507a-46a8-ab1c-6c8d9ef6a91e-0', usage_metadata={'input_tokens': 1250, 'output_tokens': 134, 'total_tokens': 1384, 'input_token_details': {'audio': 0, 'cache_read': 0}, 'output_token_details': {'audio': 0, 'reasoning': 0}}),\n",
       "  HumanMessage(content='최근 배추 물가가 어떻게되죠? 이모지는 사용하지마세요.', additional_kwargs={}, response_metadata={}, id='b39ac9ab-562f-40c9-a117-8b806c98bd23'),\n",
       "  HumanMessage(content='최근 배추 가격은 가락시장에서 1kg당 약 1,410원, 전국 도매시장에서는 평균 1,310원으로 나타났습니다. 소매가격은 1포기 기준으로 약 4,809원입니다. 가격은 기상 악화로 인해 상승세를 보이고 있습니다.\\n\\n📌 참고내용 [1]\\n제목 : 배추\\n링크 : https://www.nongnet.or.kr/front/M000000006/stats/totSearch2.do?keyword=1001\\n설명 : 농넷,농산물,유통,종합,정보,시스템,농산물유통,종합정보,정보시스템\\n\\n📌 참고내용 [2]\\n제목 : 소매가격 > 소비정보 - 농산물유통 종합 ...\\n링크 : https://www.nongnet.or.kr/front/M000000262/somaeInfo/somae.do?searchDate=2025%EB%85%84%2001%EC%9B%94%2007%EC%9D%BC&searchSymbol1=211&searchName1=%EB%B0%B0%EC%B6%94&searchSymbol2=&searchName2=\\n설명 : 농넷,농산물,유통,종합,정보,시스템,농산물유통,종합정보,정보시스템\\n\\n📌 참고내용 [3]\\n제목 : [2025년 1월3일(금)] 배추·쪽파·고추·파프리카 경락값 분석\\n링크 : https://www.nongmin.com/article/20250103500341\\n설명 : 2023년 4월 ‘디지털농민신문’ 출범 때부터 호응을 얻어온 ‘손바닥 가락시장’이 새롭게 단장했습니다! 주요 농산물 4개 품목의 시세·반입량·산지동향 등을 한눈에 보기 쉽게 이미지 카드 형태로 구성했습니다. 국내 최대 공영도매시장인 가락시장에서 거래되는 농산물의 일일 \\n\\n📌 참고내용 [4]\\n제목 : 여름 폭염으로 공급 줄어… 배추 가격 59%, 무 77% 올라\\n링크 : https://www.chosun.com/economy/economy_general/2025/01/06/AKAFLQIYCBABRFMMXNI5JKO7EU/\\n설명 : 여름 폭염으로 공급 줄어 배추 가격 59%, 무 77% 올라 소매 가격 1년 전 1.5배 이상 비싸 정부, 이번주 물가 관리 대책 발표 지난해 여름 폭염 등의 영향으로 설 성수품인 배추, 무 등의 가격이 1년 전보다 1.5배 이상 비싼 것으로 나타났다. 5일 한국농수산\\n', additional_kwargs={}, response_metadata={}, id='8eb24adf-41bc-4d71-b7ec-c8535a696f62')],\n",
       " 'is_search': 'YES',\n",
       " 'is_personal': 'NO',\n",
       " 'is_preference': 'YES'}"
      ]
     },
     "execution_count": 10,
     "metadata": {},
     "output_type": "execute_result"
    }
   ],
   "source": [
    "messages = \"최근 배추 물가가 어떻게되죠? 이모지는 사용하지마세요.\"\n",
    "graph.invoke({\"messages\": messages}, config={\"configurable\": {\"thread_id\": \"default\",\"user_id\": \"default\"}})"
   ]
  },
  {
   "cell_type": "code",
   "execution_count": 11,
   "metadata": {},
   "outputs": [
    {
     "name": "stdout",
     "output_type": "stream",
     "text": [
      "\u001b[91m검색어 : \"2025년 1월 배추 가격 상승 원인\"\n",
      "검색결과 : 4\n",
      "\u001b[0m\n"
     ]
    },
    {
     "name": "stderr",
     "output_type": "stream",
     "text": [
      "Fetching pages: 100%|##########| 1/1 [00:00<00:00,  5.76it/s]\n",
      "Fetching pages: 100%|##########| 1/1 [00:04<00:00,  4.65s/it]\n",
      "Fetching pages: 100%|##########| 1/1 [00:00<00:00, 10.72it/s]\n",
      "Fetching pages: 100%|##########| 1/1 [00:00<00:00,  1.59it/s]\n"
     ]
    },
    {
     "name": "stdout",
     "output_type": "stream",
     "text": [
      "\u001b[94mAnswer with Search prompt : 당신의 이름은 '미네르바'이고 카카오톡에서 활동하는 챗봇입니다. 'ccw'님이 관리하고 있는 챗봇입니다. \n",
      "\n",
      "지침:\n",
      "1. 사용자의 질문과 요청에 웃는 이모지를 사용해서 친절하게 응답하세요. \n",
      "2. 가능한 핵심적인 내용만을 전달하세요.\n",
      "3. 절대 마크다운 형태로 출력하지 마세요.\n",
      "4. 절대 italic, bold 형태로 출력하지 마세요.\n",
      "5. 내용이 길 경우 불릿 리스트 형태로 이해하기 쉽게 출력하세요.\n",
      "당신은 사용자 요청에 대해 답변을 수행하는 유용한 챗봇입니다.\n",
      "\n",
      "아래 [사용자 정보]와 [사용자 답변 선호도]를 참고해서 답변을 수행하세요.\n",
      "\n",
      "[사용자 정보]:\n",
      "- 이름 : 창우\n",
      "\n",
      "\n",
      "\n",
      "[사용자 답변 선호도]:\n",
      "- 사용자는 간결하고 명확한 답변을 선호한다.\n",
      "- 사용자는 이모지를 사용하지 않는것을 선호한다.\n",
      "\n",
      "답변:\u001b[0m\n"
     ]
    },
    {
     "data": {
      "text/plain": [
       "{'messages': [HumanMessage(content='내용을 요약해줄래요? 간단히', additional_kwargs={}, response_metadata={}, id='a3cddb12-a0f4-4282-9085-fa8da12ae2b7'),\n",
       "  AIMessage(content='물론이죠, 창우님! 😊\\n\\n- **대왕고래 프로젝트**: 동해 심해에 석유와 천연가스 매장 가능성이 있어 주목받고 있지만, 정치적 논란이 많습니다.\\n- **고래 보호법**: 매년 많은 고래가 혼획으로 희생되어, 보호법 제정이 논의되고 있습니다.\\n- **상괭이 연구**: 서울대 이성빈 수의사가 제주도 해역의 상괭이 보존 연구를 진행 중입니다.\\n\\n고래에 대한 관심이 더욱 깊어지길 바랍니다! 🐋', additional_kwargs={'refusal': None}, response_metadata={'token_usage': {'completion_tokens': 134, 'prompt_tokens': 1250, 'total_tokens': 1384, 'completion_tokens_details': {'accepted_prediction_tokens': 0, 'audio_tokens': 0, 'reasoning_tokens': 0, 'rejected_prediction_tokens': 0}, 'prompt_tokens_details': {'audio_tokens': 0, 'cached_tokens': 0}}, 'model_name': 'gpt-4o-2024-08-06', 'system_fingerprint': 'fp_b7d65f1a5b', 'finish_reason': 'stop', 'logprobs': None}, id='run-b1a987b9-507a-46a8-ab1c-6c8d9ef6a91e-0', usage_metadata={'input_tokens': 1250, 'output_tokens': 134, 'total_tokens': 1384, 'input_token_details': {'audio': 0, 'cache_read': 0}, 'output_token_details': {'audio': 0, 'reasoning': 0}}),\n",
       "  HumanMessage(content='최근 배추 물가가 어떻게되죠? 이모지는 사용하지마세요.', additional_kwargs={}, response_metadata={}, id='b39ac9ab-562f-40c9-a117-8b806c98bd23'),\n",
       "  HumanMessage(content='최근 배추 가격은 가락시장에서 1kg당 약 1,410원, 전국 도매시장에서는 평균 1,310원으로 나타났습니다. 소매가격은 1포기 기준으로 약 4,809원입니다. 가격은 기상 악화로 인해 상승세를 보이고 있습니다.\\n\\n📌 참고내용 [1]\\n제목 : 배추\\n링크 : https://www.nongnet.or.kr/front/M000000006/stats/totSearch2.do?keyword=1001\\n설명 : 농넷,농산물,유통,종합,정보,시스템,농산물유통,종합정보,정보시스템\\n\\n📌 참고내용 [2]\\n제목 : 소매가격 > 소비정보 - 농산물유통 종합 ...\\n링크 : https://www.nongnet.or.kr/front/M000000262/somaeInfo/somae.do?searchDate=2025%EB%85%84%2001%EC%9B%94%2007%EC%9D%BC&searchSymbol1=211&searchName1=%EB%B0%B0%EC%B6%94&searchSymbol2=&searchName2=\\n설명 : 농넷,농산물,유통,종합,정보,시스템,농산물유통,종합정보,정보시스템\\n\\n📌 참고내용 [3]\\n제목 : [2025년 1월3일(금)] 배추·쪽파·고추·파프리카 경락값 분석\\n링크 : https://www.nongmin.com/article/20250103500341\\n설명 : 2023년 4월 ‘디지털농민신문’ 출범 때부터 호응을 얻어온 ‘손바닥 가락시장’이 새롭게 단장했습니다! 주요 농산물 4개 품목의 시세·반입량·산지동향 등을 한눈에 보기 쉽게 이미지 카드 형태로 구성했습니다. 국내 최대 공영도매시장인 가락시장에서 거래되는 농산물의 일일 \\n\\n📌 참고내용 [4]\\n제목 : 여름 폭염으로 공급 줄어… 배추 가격 59%, 무 77% 올라\\n링크 : https://www.chosun.com/economy/economy_general/2025/01/06/AKAFLQIYCBABRFMMXNI5JKO7EU/\\n설명 : 여름 폭염으로 공급 줄어 배추 가격 59%, 무 77% 올라 소매 가격 1년 전 1.5배 이상 비싸 정부, 이번주 물가 관리 대책 발표 지난해 여름 폭염 등의 영향으로 설 성수품인 배추, 무 등의 가격이 1년 전보다 1.5배 이상 비싼 것으로 나타났다. 5일 한국농수산\\n', additional_kwargs={}, response_metadata={}, id='8eb24adf-41bc-4d71-b7ec-c8535a696f62'),\n",
       "  HumanMessage(content='배추 물가가 뭐때문에 오른거에요?', additional_kwargs={}, response_metadata={}, id='7fcaaf9d-1e44-40ad-a185-0d423ba5f109'),\n",
       "  HumanMessage(content=\"배추 물가가 오른 이유는 여러 가지가 있습니다:\\n\\n- 여름 폭염과 기후 변화로 인해 배추 공급이 감소했습니다.\\n- 공급 부족으로 인해 가격이 상승했습니다.\\n- 설 명절을 앞두고 수요가 증가하면서 가격이 더 오르게 되었습니다.\\n\\n이러한 이유들로 인해 배추 가격이 상승한 것으로 보입니다.\\n\\n📌 참고내용 [1]\\n제목 : 연초 배추·무 가격 '폭등'... 정부, 출하장려금 지원하고, 사재기\\n링크 : https://biz.chosun.com/policy/policy_sub/2025/01/09/AA7GSQYGCVHX5DZ4W4WLTK7U7U/\\n설명 : 연초 배추·무 가격 폭등... 정부, 출하장려금 지원하고, 사재기·담합 특별 점검  정부가 연초 가격이 높게 형성된 배추와 무 가격을 잡기 위해 산지유통업체에 출하장려금을 지원한다. 설 명절 성수기를 노린 사재기와 담합 등 불법 유통 행위를 차단하기 위해 관계부처 합동\\n\\n📌 참고내용 [2]\\n제목 : 배추\\n링크 : https://www.nongnet.or.kr/front/M000000006/stats/totSearch2.do?keyword=1001\\n설명 : 농넷,농산물,유통,종합,정보,시스템,농산물유통,종합정보,정보시스템\\n\\n📌 참고내용 [3]\\n제목 : 여름 폭염으로 공급 줄어… 배추 가격 59%, 무 77% 올라\\n링크 : https://www.chosun.com/economy/economy_general/2025/01/06/AKAFLQIYCBABRFMMXNI5JKO7EU/\\n설명 : 여름 폭염으로 공급 줄어 배추 가격 59%, 무 77% 올라 소매 가격 1년 전 1.5배 이상 비싸 정부, 이번주 물가 관리 대책 발표 지난해 여름 폭염 등의 영향으로 설 성수품인 배추, 무 등의 가격이 1년 전보다 1.5배 이상 비싼 것으로 나타났다. 5일 한국농수산\\n\\n📌 참고내용 [4]\\n제목 : 설 앞두고 배추·무 가격↑…“물가 관리 대책 마련” [기후는 ...\\n링크 : https://www.youtube.com/watch?v=O7pKSuVaKeQ\\n설명 : 이달 말 설을 앞두고 배추와 무 소매가격이 1년 전에 비해 1.5배에서 두 배 가량 올라 정부가 대책을 강구하고 있습니다.배추와 무의 가격 상승은 지난해 폭염과 늦더위 등 기후 문제가 주된 원인으로 꼽히고 있으며, 겨울 무 주산지인 제주도에 비가 자주 내린 것도 영향을 미친 것으로...\\n\", additional_kwargs={}, response_metadata={}, id='d86cf2c3-7b32-4f9e-8d02-c2feb1545348')],\n",
       " 'is_search': 'YES',\n",
       " 'is_personal': 'NO',\n",
       " 'is_preference': 'YES'}"
      ]
     },
     "execution_count": 11,
     "metadata": {},
     "output_type": "execute_result"
    }
   ],
   "source": [
    "messages = \"배추 물가가 뭐때문에 오른거에요?\"\n",
    "graph.invoke({\"messages\": messages}, config={\"configurable\": {\"thread_id\": \"default\",\"user_id\": \"default\"}})"
   ]
  },
  {
   "cell_type": "code",
   "execution_count": 12,
   "metadata": {},
   "outputs": [
    {
     "name": "stdout",
     "output_type": "stream",
     "text": [
      "\u001b[94mAnswer prompt : 당신의 이름은 '미네르바'이고 카카오톡에서 활동하는 챗봇입니다. 'ccw'님이 관리하고 있는 챗봇입니다. \n",
      "\n",
      "지침:\n",
      "1. 사용자의 질문과 요청에 웃는 이모지를 사용해서 친절하게 응답하세요. \n",
      "2. 가능한 핵심적인 내용만을 전달하세요.\n",
      "3. 절대 마크다운 형태로 출력하지 마세요.\n",
      "4. 절대 italic, bold 형태로 출력하지 마세요.\n",
      "5. 내용이 길 경우 불릿 리스트 형태로 이해하기 쉽게 출력하세요.\n",
      "당신은 사용자 요청에 대해 답변을 수행하는 유용한 챗봇입니다.\n",
      "\n",
      "아래 [사용자 정보]와 [사용자 답변 선호도]를 참고해서 답변을 수행하세요.\n",
      "\n",
      "[사용자 정보]:\n",
      "- 이름 : 창우\n",
      "\n",
      "\n",
      "\n",
      "[사용자 답변 선호도]:\n",
      "- 사용자는 간결하고 명확한 답변을 선호한다.\n",
      "- 사용자는 이모지를 사용하지 않는것을 선호한다.\n",
      "\n",
      "답변:\u001b[0m\n"
     ]
    },
    {
     "data": {
      "text/plain": [
       "{'messages': [HumanMessage(content='내용을 요약해줄래요? 간단히', additional_kwargs={}, response_metadata={}, id='a3cddb12-a0f4-4282-9085-fa8da12ae2b7'),\n",
       "  AIMessage(content='물론이죠, 창우님! 😊\\n\\n- **대왕고래 프로젝트**: 동해 심해에 석유와 천연가스 매장 가능성이 있어 주목받고 있지만, 정치적 논란이 많습니다.\\n- **고래 보호법**: 매년 많은 고래가 혼획으로 희생되어, 보호법 제정이 논의되고 있습니다.\\n- **상괭이 연구**: 서울대 이성빈 수의사가 제주도 해역의 상괭이 보존 연구를 진행 중입니다.\\n\\n고래에 대한 관심이 더욱 깊어지길 바랍니다! 🐋', additional_kwargs={'refusal': None}, response_metadata={'token_usage': {'completion_tokens': 134, 'prompt_tokens': 1250, 'total_tokens': 1384, 'completion_tokens_details': {'accepted_prediction_tokens': 0, 'audio_tokens': 0, 'reasoning_tokens': 0, 'rejected_prediction_tokens': 0}, 'prompt_tokens_details': {'audio_tokens': 0, 'cached_tokens': 0}}, 'model_name': 'gpt-4o-2024-08-06', 'system_fingerprint': 'fp_b7d65f1a5b', 'finish_reason': 'stop', 'logprobs': None}, id='run-b1a987b9-507a-46a8-ab1c-6c8d9ef6a91e-0', usage_metadata={'input_tokens': 1250, 'output_tokens': 134, 'total_tokens': 1384, 'input_token_details': {'audio': 0, 'cache_read': 0}, 'output_token_details': {'audio': 0, 'reasoning': 0}}),\n",
       "  HumanMessage(content='최근 배추 물가가 어떻게되죠? 이모지는 사용하지마세요.', additional_kwargs={}, response_metadata={}, id='b39ac9ab-562f-40c9-a117-8b806c98bd23'),\n",
       "  HumanMessage(content='최근 배추 가격은 가락시장에서 1kg당 약 1,410원, 전국 도매시장에서는 평균 1,310원으로 나타났습니다. 소매가격은 1포기 기준으로 약 4,809원입니다. 가격은 기상 악화로 인해 상승세를 보이고 있습니다.\\n\\n📌 참고내용 [1]\\n제목 : 배추\\n링크 : https://www.nongnet.or.kr/front/M000000006/stats/totSearch2.do?keyword=1001\\n설명 : 농넷,농산물,유통,종합,정보,시스템,농산물유통,종합정보,정보시스템\\n\\n📌 참고내용 [2]\\n제목 : 소매가격 > 소비정보 - 농산물유통 종합 ...\\n링크 : https://www.nongnet.or.kr/front/M000000262/somaeInfo/somae.do?searchDate=2025%EB%85%84%2001%EC%9B%94%2007%EC%9D%BC&searchSymbol1=211&searchName1=%EB%B0%B0%EC%B6%94&searchSymbol2=&searchName2=\\n설명 : 농넷,농산물,유통,종합,정보,시스템,농산물유통,종합정보,정보시스템\\n\\n📌 참고내용 [3]\\n제목 : [2025년 1월3일(금)] 배추·쪽파·고추·파프리카 경락값 분석\\n링크 : https://www.nongmin.com/article/20250103500341\\n설명 : 2023년 4월 ‘디지털농민신문’ 출범 때부터 호응을 얻어온 ‘손바닥 가락시장’이 새롭게 단장했습니다! 주요 농산물 4개 품목의 시세·반입량·산지동향 등을 한눈에 보기 쉽게 이미지 카드 형태로 구성했습니다. 국내 최대 공영도매시장인 가락시장에서 거래되는 농산물의 일일 \\n\\n📌 참고내용 [4]\\n제목 : 여름 폭염으로 공급 줄어… 배추 가격 59%, 무 77% 올라\\n링크 : https://www.chosun.com/economy/economy_general/2025/01/06/AKAFLQIYCBABRFMMXNI5JKO7EU/\\n설명 : 여름 폭염으로 공급 줄어 배추 가격 59%, 무 77% 올라 소매 가격 1년 전 1.5배 이상 비싸 정부, 이번주 물가 관리 대책 발표 지난해 여름 폭염 등의 영향으로 설 성수품인 배추, 무 등의 가격이 1년 전보다 1.5배 이상 비싼 것으로 나타났다. 5일 한국농수산\\n', additional_kwargs={}, response_metadata={}, id='8eb24adf-41bc-4d71-b7ec-c8535a696f62'),\n",
       "  HumanMessage(content='배추 물가가 뭐때문에 오른거에요?', additional_kwargs={}, response_metadata={}, id='7fcaaf9d-1e44-40ad-a185-0d423ba5f109'),\n",
       "  HumanMessage(content=\"배추 물가가 오른 이유는 여러 가지가 있습니다:\\n\\n- 여름 폭염과 기후 변화로 인해 배추 공급이 감소했습니다.\\n- 공급 부족으로 인해 가격이 상승했습니다.\\n- 설 명절을 앞두고 수요가 증가하면서 가격이 더 오르게 되었습니다.\\n\\n이러한 이유들로 인해 배추 가격이 상승한 것으로 보입니다.\\n\\n📌 참고내용 [1]\\n제목 : 연초 배추·무 가격 '폭등'... 정부, 출하장려금 지원하고, 사재기\\n링크 : https://biz.chosun.com/policy/policy_sub/2025/01/09/AA7GSQYGCVHX5DZ4W4WLTK7U7U/\\n설명 : 연초 배추·무 가격 폭등... 정부, 출하장려금 지원하고, 사재기·담합 특별 점검  정부가 연초 가격이 높게 형성된 배추와 무 가격을 잡기 위해 산지유통업체에 출하장려금을 지원한다. 설 명절 성수기를 노린 사재기와 담합 등 불법 유통 행위를 차단하기 위해 관계부처 합동\\n\\n📌 참고내용 [2]\\n제목 : 배추\\n링크 : https://www.nongnet.or.kr/front/M000000006/stats/totSearch2.do?keyword=1001\\n설명 : 농넷,농산물,유통,종합,정보,시스템,농산물유통,종합정보,정보시스템\\n\\n📌 참고내용 [3]\\n제목 : 여름 폭염으로 공급 줄어… 배추 가격 59%, 무 77% 올라\\n링크 : https://www.chosun.com/economy/economy_general/2025/01/06/AKAFLQIYCBABRFMMXNI5JKO7EU/\\n설명 : 여름 폭염으로 공급 줄어 배추 가격 59%, 무 77% 올라 소매 가격 1년 전 1.5배 이상 비싸 정부, 이번주 물가 관리 대책 발표 지난해 여름 폭염 등의 영향으로 설 성수품인 배추, 무 등의 가격이 1년 전보다 1.5배 이상 비싼 것으로 나타났다. 5일 한국농수산\\n\\n📌 참고내용 [4]\\n제목 : 설 앞두고 배추·무 가격↑…“물가 관리 대책 마련” [기후는 ...\\n링크 : https://www.youtube.com/watch?v=O7pKSuVaKeQ\\n설명 : 이달 말 설을 앞두고 배추와 무 소매가격이 1년 전에 비해 1.5배에서 두 배 가량 올라 정부가 대책을 강구하고 있습니다.배추와 무의 가격 상승은 지난해 폭염과 늦더위 등 기후 문제가 주된 원인으로 꼽히고 있으며, 겨울 무 주산지인 제주도에 비가 자주 내린 것도 영향을 미친 것으로...\\n\", additional_kwargs={}, response_metadata={}, id='d86cf2c3-7b32-4f9e-8d02-c2feb1545348'),\n",
       "  HumanMessage(content='음... 영어로 번역해주실래요? 이해하기 쉽게 HTML 형식으로 작성해주세요.', additional_kwargs={}, response_metadata={}, id='6f3cde4e-a330-4a1b-9b0d-5c4515ed27bc'),\n",
       "  AIMessage(content='죄송하지만 HTML 형식으로는 제공할 수 없습니다. 대신 간단하게 번역해 드릴게요.\\n\\nThe price of cabbage has increased due to several reasons:\\n\\n- The summer heatwave and climate changes have reduced cabbage supply.\\n- The shortage in supply has led to a rise in prices.\\n- As the Lunar New Year approaches, increased demand has further pushed prices up.\\n\\nThese factors seem to have contributed to the rise in cabbage prices.', additional_kwargs={'refusal': None}, response_metadata={'token_usage': {'completion_tokens': 92, 'prompt_tokens': 1722, 'total_tokens': 1814, 'completion_tokens_details': {'accepted_prediction_tokens': 0, 'audio_tokens': 0, 'reasoning_tokens': 0, 'rejected_prediction_tokens': 0}, 'prompt_tokens_details': {'audio_tokens': 0, 'cached_tokens': 0}}, 'model_name': 'gpt-4o-2024-08-06', 'system_fingerprint': 'fp_b7d65f1a5b', 'finish_reason': 'stop', 'logprobs': None}, id='run-3ed91516-2a36-45b4-ac70-736142d41086-0', usage_metadata={'input_tokens': 1722, 'output_tokens': 92, 'total_tokens': 1814, 'input_token_details': {'audio': 0, 'cache_read': 0}, 'output_token_details': {'audio': 0, 'reasoning': 0}})],\n",
       " 'is_search': 'NO',\n",
       " 'is_personal': 'NO',\n",
       " 'is_preference': 'NO'}"
      ]
     },
     "execution_count": 12,
     "metadata": {},
     "output_type": "execute_result"
    }
   ],
   "source": [
    "# 이전 대화 2개 제거\n",
    "messages = \"음... 영어로 번역해주실래요? 이해하기 쉽게 HTML 형식으로 작성해주세요.\"\n",
    "graph.invoke({\"messages\": messages}, config={\"configurable\": {\"thread_id\": \"default\",\"user_id\": \"default\"}})"
   ]
  }
 ],
 "metadata": {
  "kernelspec": {
   "display_name": "kakaoChatAgent",
   "language": "python",
   "name": "kakaochatagent"
  },
  "language_info": {
   "codemirror_mode": {
    "name": "ipython",
    "version": 3
   },
   "file_extension": ".py",
   "mimetype": "text/x-python",
   "name": "python",
   "nbconvert_exporter": "python",
   "pygments_lexer": "ipython3",
   "version": "3.11.11"
  }
 },
 "nbformat": 4,
 "nbformat_minor": 2
}
