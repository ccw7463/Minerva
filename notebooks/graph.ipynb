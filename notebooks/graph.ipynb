{
 "cells": [
  {
   "cell_type": "code",
   "execution_count": 1,
   "metadata": {},
   "outputs": [],
   "source": [
    "# 1단계 : 최신 뉴스 검색 필요한건지 파악\n",
    "# 2단계 -1) 뉴스 검색했다면 바로 답변\n",
    "# 2단계 -2) 뉴스 검색 아니라면 아는 내용인지 판단\n",
    "# 3단계 -1) 아는 내용이면 바로 답변\n",
    "# 3단계 -2) 모르는 내용이면 검색후 답변\n",
    "\n",
    "# 해야할 것\n",
    "# 1. 아는 내용인지 모르는내용인지 판단하는 로직 추가\n",
    "# 2. 뉴스 전처리 코드 추가\n",
    "# 3. 뉴스 검색 이후 답변 추가\n",
    "# 4. 답변하기 추가"
   ]
  },
  {
   "cell_type": "code",
   "execution_count": 2,
   "metadata": {},
   "outputs": [
    {
     "name": "stderr",
     "output_type": "stream",
     "text": [
      "USER_AGENT environment variable not set, consider setting it to identify your requests.\n"
     ]
    }
   ],
   "source": [
    "from utils.util import set_env\n",
    "from langgraph.graph import MessagesState\n",
    "from langchain_core.messages import AIMessage, HumanMessage, SystemMessage, ToolMessage\n",
    "from langgraph.graph import START, StateGraph, END\n",
    "from langgraph.prebuilt import tools_condition\n",
    "from langgraph.prebuilt import ToolNode\n",
    "from IPython.display import Image, display\n",
    "from langchain_openai import ChatOpenAI\n",
    "from modules.rss import RSSGetter\n",
    "from langchain_core.output_parsers import PydanticOutputParser\n",
    "from pydantic import BaseModel, Field\n",
    "from ml_collections import ConfigDict\n",
    "from datetime import datetime\n",
    "from langgraph.graph.message import add_messages\n",
    "from langgraph.checkpoint.memory import MemorySaver\n",
    "from utils.util import trace_function, google_search_scrape, extract_content"
   ]
  },
  {
   "cell_type": "code",
   "execution_count": 4,
   "metadata": {},
   "outputs": [],
   "source": [
    "default_system_message = \"당신의 이름은 '미네르바'이고 카카오톡에서 활동하는 챗봇입니다. 'ccw'님이 관리하고 있는 챗봇입니다. 당신은 사용자의 질문과 요청에 친절하게 응답합니다. 가능한 핵심적인 내용만을 전달하세요.\\n\""
   ]
  },
  {
   "cell_type": "code",
   "execution_count": 5,
   "metadata": {},
   "outputs": [],
   "source": [
    "prompt_config = ConfigDict()\n",
    "prompt_config.generate_search_info = f\"\"\"다음 사용자 요청문을 기반으로 웹에서 자료 검색을 하려고한다.\n",
    "\n",
    "지침:\n",
    "1. 오늘 날짜를 참고해서 검색어를 생성하라.\n",
    "2. 검색어는 반드시 한국어로 작성한다.\n",
    "3. 오늘 날짜 : {datetime.now().strftime(\"%Y-%m-%d\")}\n",
    "\n",
    "사용자 요청문: \n",
    "{{query}}\n",
    "\n",
    "검색어:\"\"\"\n",
    "\n",
    "prompt_config.answer_with_context = \"\"\"[참고내용]을 참고해서 [사용자 요청문]에 대한 답변을 생성하세요.\n",
    "\n",
    "[사용자 요청문]: \n",
    "{{query}}\n",
    "\n",
    "[참고내용]: \n",
    "{context}\n",
    "\n",
    "답변 : \"\"\""
   ]
  },
  {
   "cell_type": "code",
   "execution_count": 6,
   "metadata": {},
   "outputs": [
    {
     "data": {
      "image/png": "[encoded data removed]",
      "text/plain": [
       "<IPython.core.display.Image object>"
      ]
     },
     "metadata": {},
     "output_type": "display_data"
    }
   ],
   "source": [
    "ShortTermMemory = MemorySaver()\n",
    "llm = ChatOpenAI(model=\"gpt-4o\")\n",
    "\n",
    "class State(MessagesState):\n",
    "    is_search: str\n",
    "\n",
    "@trace_function(enable_print=False, only_node=True)\n",
    "def Node_search(state: State):\n",
    "    query = state['messages'][-1].content # TODO humanmessage 인지 체크필요\n",
    "    prompt = prompt_config.generate_search_info.format(query=query)\n",
    "    search_info = llm.invoke(prompt).content\n",
    "    results = google_search_scrape(search_info, num_results=3)\n",
    "    \n",
    "    # TODO 결과없을때 처리필요\n",
    "    context = ''\n",
    "    suffix = ''\n",
    "    for idx, result in enumerate(results):\n",
    "        link = result.get(\"link\")\n",
    "        desc, detailed_content = extract_content(link)\n",
    "        context += f\"제목 : {result.get('title')}\\n링크 : {link}\\n설명 : {desc}\\n내용 : {detailed_content}\\n\\n\"    \n",
    "        suffix += f\"\"\"\n",
    "📌 참고내용 [{idx+1}]\n",
    "제목 : {result.get('title')}\n",
    "링크 : {link}\n",
    "설명 : {desc}\n",
    "\"\"\"\n",
    "    prompt = prompt_config.answer_with_context.format(context=context, query=query)\n",
    "    answer = llm.invoke(prompt).content + \"\\n\" + suffix\n",
    "    return {\"messages\": [AIMessage(content=answer)]}\n",
    "\n",
    "def decide_search(state: State):\n",
    "    if \"YES\" in state[\"is_search\"]:\n",
    "        return \"Node_search\"\n",
    "    else:\n",
    "        return END\n",
    "\n",
    "@trace_function(enable_print=False, only_node=True)\n",
    "def Node_decide_search(state: State):\n",
    "    system_message = \"현재 사용자 요청문이 뉴스 검색이 필요한지 판단하세요. 답변은 무조건 YES 또는 NO로 출력하세요.\"\n",
    "    return {\"is_search\": [llm.invoke([SystemMessage(content=system_message)] + state[\"messages\"])][0].content.upper()}\n",
    "\n",
    "builder = StateGraph(State)\n",
    "builder.add_node(\"Node_decide_search\", Node_decide_search)\n",
    "builder.add_node(\"Node_search\", Node_search)\n",
    "builder.add_edge(START, \"Node_decide_search\")\n",
    "builder.add_conditional_edges(\"Node_decide_search\", decide_search)\n",
    "builder.add_edge(\"Node_search\", END)\n",
    "graph = builder.compile(checkpointer=ShortTermMemory)\n",
    "display(Image(graph.get_graph().draw_mermaid_png()))"
   ]
  },
  {
   "cell_type": "code",
   "execution_count": 7,
   "metadata": {},
   "outputs": [
    {
     "name": "stderr",
     "output_type": "stream",
     "text": [
      "Fetching pages: 100%|##########| 1/1 [00:00<00:00,  5.36it/s]\n",
      "Fetching pages: 100%|##########| 1/1 [00:00<00:00, 10.37it/s]\n",
      "Fetching pages: 100%|##########| 1/1 [00:00<00:00,  7.58it/s]\n"
     ]
    },
    {
     "data": {
      "text/plain": [
       "{'messages': [HumanMessage(content='최근 테슬라 주가에 대해서 알려줘', additional_kwargs={}, response_metadata={}, id='f1efc167-1ec2-4d74-9491-69ad580a3fa2'),\n",
       "  AIMessage(content='2025년 1월 3일의 금융시장 동향에 따르면, 미국 증시는 주요 지수들이 소폭 하락하며 5거래일 연속 하락세를 보였습니다. S&P500과 나스닥 100 지수는 각각 0.2% 하락했으며, 이는 시가총액이 1조 달러 이상 감소한 결과를 가져왔습니다. 테슬라는 2024년 판매량이 예상치에 미치지 못하면서 주가가 한때 7% 이상 급락했습니다. 또한, 미국의 주간 신규 실업수당 청구건수는 21만1,000건으로 8개월래 최저치를 기록하며 노동시장의 견조함을 시사했습니다. 유럽 경제에 대한 우려로 유로화와 파운드화는 각각 2년 및 8개월 여 만에 최저치를 기록했습니다. 달러는 강세를 보이며 블룸버그 달러 인덱스가 0.3% 넘게 상승했습니다.\\n📌 참고내용 [1]\\n제목 : 2025년 1월 3일 금융시장 동향\\n링크 : https://kbthink.com/main/economy/trend/daily-market-trend/2025/daily-market-trend-2025-01-03.html\\n설명 : 지난 밤 미국 증시 주요 지수들은 소폭 하락 마감. 주요 지수들이 5거래일 연속 하락하면서 시가총액이 1조 달러 이상 감소. SP500과 나스닥 100 지수는 모두 0.2% 하락 \\n\\n📌 참고내용 [2]\\n제목 : TESLA INC (TSLA) 과거 가격 데이터\\n링크 : https://kr.investing.com/equities/tesla-motors-historical-data\\n설명 : \\n\\n📌 참고내용 [3]\\n제목 : [투자노트] “주가 꺾인 테슬라 사도 될까”… 걱정되면 1월 말 ...\\n링크 : https://www.chosun.com/economy/money/2025/01/03/SUFU4TY7SQD5MJZDTEEM2FXLAI/\\n설명 : 투자노트 주가 꺾인 테슬라 사도 될까 걱정되면 1월 말까지 기다려야 최근 5거래일간 주가 약 20% 하락 연간 인도량 전년比 감소하자 주가 약세 단기 조정일 수 있어 30일 실적발표 확인 미국 대표 전기차 업체 테슬라 주가가 지난주부터 지지부진한 모습이다. 간밤 테슬라\\n', additional_kwargs={}, response_metadata={}, id='c1fc8f68-14bf-4952-961c-8558ba9300fe')],\n",
       " 'is_search': 'YES'}"
      ]
     },
     "execution_count": 7,
     "metadata": {},
     "output_type": "execute_result"
    }
   ],
   "source": [
    "config = {\"configurable\": {\"thread_id\": \"initial_chat\",\n",
    "                           \"user_id\": \"changwoo2\"}}\n",
    "\n",
    "graph.invoke({\"messages\":\"최근 테슬라 주가에 대해서 알려줘\"}, config=config)"
   ]
  },
  {
   "cell_type": "code",
   "execution_count": 8,
   "metadata": {},
   "outputs": [],
   "source": [
    "msg = '2025년 1월 3일의 금융시장 동향에 따르면, 미국 증시는 주요 지수들이 소폭 하락하며 5거래일 연속 하락세를 보였습니다. S&P500과 나스닥 100 지수는 각각 0.2% 하락했으며, 이는 시가총액이 1조 달러 이상 감소한 결과를 가져왔습니다. 테슬라는 2024년 판매량이 예상치에 미치지 못하면서 주가가 한때 7% 이상 급락했습니다. 또한, 미국의 주간 신규 실업수당 청구건수는 21만1,000건으로 8개월래 최저치를 기록하며 노동시장의 견조함을 시사했습니다. 유럽 경제에 대한 우려로 유로화와 파운드화는 각각 2년 및 8개월 여 만에 최저치를 기록했습니다. 달러는 강세를 보이며 블룸버그 달러 인덱스가 0.3% 넘게 상승했습니다.\\n📌 참고내용 [1]\\n제목 : 2025년 1월 3일 금융시장 동향\\n링크 : https://kbthink.com/main/economy/trend/daily-market-trend/2025/daily-market-trend-2025-01-03.html\\n설명 : 지난 밤 미국 증시 주요 지수들은 소폭 하락 마감. 주요 지수들이 5거래일 연속 하락하면서 시가총액이 1조 달러 이상 감소. SP500과 나스닥 100 지수는 모두 0.2% 하락 \\n\\n📌 참고내용 [2]\\n제목 : TESLA INC (TSLA) 과거 가격 데이터\\n링크 : https://kr.investing.com/equities/tesla-motors-historical-data\\n설명 : \\n\\n📌 참고내용 [3]\\n제목 : [투자노트] “주가 꺾인 테슬라 사도 될까”… 걱정되면 1월 말 ...\\n링크 : https://www.chosun.com/economy/money/2025/01/03/SUFU4TY7SQD5MJZDTEEM2FXLAI/\\n설명 : 투자노트 주가 꺾인 테슬라 사도 될까 걱정되면 1월 말까지 기다려야 최근 5거래일간 주가 약 20% 하락 연간 인도량 전년比 감소하자 주가 약세 단기 조정일 수 있어 30일 실적발표 확인 미국 대표 전기차 업체 테슬라 주가가 지난주부터 지지부진한 모습이다. 간밤 테슬라'"
   ]
  },
  {
   "cell_type": "code",
   "execution_count": 9,
   "metadata": {},
   "outputs": [
    {
     "name": "stdout",
     "output_type": "stream",
     "text": [
      "2025년 1월 3일의 금융시장 동향에 따르면, 미국 증시는 주요 지수들이 소폭 하락하며 5거래일 연속 하락세를 보였습니다. S&P500과 나스닥 100 지수는 각각 0.2% 하락했으며, 이는 시가총액이 1조 달러 이상 감소한 결과를 가져왔습니다. 테슬라는 2024년 판매량이 예상치에 미치지 못하면서 주가가 한때 7% 이상 급락했습니다. 또한, 미국의 주간 신규 실업수당 청구건수는 21만1,000건으로 8개월래 최저치를 기록하며 노동시장의 견조함을 시사했습니다. 유럽 경제에 대한 우려로 유로화와 파운드화는 각각 2년 및 8개월 여 만에 최저치를 기록했습니다. 달러는 강세를 보이며 블룸버그 달러 인덱스가 0.3% 넘게 상승했습니다.\n",
      "📌 참고내용 [1]\n",
      "제목 : 2025년 1월 3일 금융시장 동향\n",
      "링크 : https://kbthink.com/main/economy/trend/daily-market-trend/2025/daily-market-trend-2025-01-03.html\n",
      "설명 : 지난 밤 미국 증시 주요 지수들은 소폭 하락 마감. 주요 지수들이 5거래일 연속 하락하면서 시가총액이 1조 달러 이상 감소. SP500과 나스닥 100 지수는 모두 0.2% 하락 \n",
      "\n",
      "📌 참고내용 [2]\n",
      "제목 : TESLA INC (TSLA) 과거 가격 데이터\n",
      "링크 : https://kr.investing.com/equities/tesla-motors-historical-data\n",
      "설명 : \n",
      "\n",
      "📌 참고내용 [3]\n",
      "제목 : [투자노트] “주가 꺾인 테슬라 사도 될까”… 걱정되면 1월 말 ...\n",
      "링크 : https://www.chosun.com/economy/money/2025/01/03/SUFU4TY7SQD5MJZDTEEM2FXLAI/\n",
      "설명 : 투자노트 주가 꺾인 테슬라 사도 될까 걱정되면 1월 말까지 기다려야 최근 5거래일간 주가 약 20% 하락 연간 인도량 전년比 감소하자 주가 약세 단기 조정일 수 있어 30일 실적발표 확인 미국 대표 전기차 업체 테슬라 주가가 지난주부터 지지부진한 모습이다. 간밤 테슬라\n"
     ]
    }
   ],
   "source": [
    "print(msg)"
   ]
  },
  {
   "cell_type": "code",
   "execution_count": null,
   "metadata": {},
   "outputs": [],
   "source": []
  },
  {
   "cell_type": "code",
   "execution_count": null,
   "metadata": {},
   "outputs": [],
   "source": []
  },
  {
   "cell_type": "code",
   "execution_count": null,
   "metadata": {},
   "outputs": [],
   "source": []
  },
  {
   "cell_type": "code",
   "execution_count": null,
   "metadata": {},
   "outputs": [],
   "source": []
  }
 ],
 "metadata": {
  "kernelspec": {
   "display_name": "kakaochatbot",
   "language": "python",
   "name": "kakaochatbot"
  },
  "language_info": {
   "codemirror_mode": {
    "name": "ipython",
    "version": 3
   },
   "file_extension": ".py",
   "mimetype": "text/x-python",
   "name": "python",
   "nbconvert_exporter": "python",
   "pygments_lexer": "ipython3",
   "version": "3.11.11"
  }
 },
 "nbformat": 4,
 "nbformat_minor": 2
}
