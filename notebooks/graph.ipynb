{
 "cells": [
  {
   "cell_type": "markdown",
   "metadata": {},
   "source": [
    "추가할 내용\n",
    "1. 챗봇 페르소나 지정해주기\n",
    "2. db 연결해서 내 정보 기억하기\n",
    "3. api key 입력받아서 사용하기"
   ]
  },
  {
   "cell_type": "code",
   "execution_count": 1,
   "metadata": {},
   "outputs": [
    {
     "name": "stderr",
     "output_type": "stream",
     "text": [
      "USER_AGENT environment variable not set, consider setting it to identify your requests.\n"
     ]
    }
   ],
   "source": [
    "from langgraph.graph import MessagesState\n",
    "from langchain_core.messages import AIMessage, HumanMessage, SystemMessage, ToolMessage\n",
    "from langgraph.graph import START, StateGraph, END\n",
    "from IPython.display import Image, display\n",
    "from langchain_openai import ChatOpenAI\n",
    "from langgraph.checkpoint.memory import MemorySaver\n",
    "from utils.util import trace_function, google_search_scrape, extract_content, set_env, PINK, RESET, initialize_browser\n",
    "from configs.config import prompt_config"
   ]
  },
  {
   "cell_type": "code",
   "execution_count": 2,
   "metadata": {},
   "outputs": [],
   "source": [
    "ShortTermMemory = MemorySaver()\n",
    "set_env()\n",
    "llm = ChatOpenAI(model=\"gpt-4o\")\n",
    "\n",
    "class State(MessagesState):\n",
    "    is_search: str"
   ]
  },
  {
   "cell_type": "code",
   "execution_count": 3,
   "metadata": {},
   "outputs": [],
   "source": [
    "@trace_function(enable_print=True, only_node=True)\n",
    "def Node_search(state: State):\n",
    "    query = state['messages'][-1].content # TODO humanmessage 인지 체크필요\n",
    "    prompt = prompt_config.generate_search_info.format(query=query)\n",
    "    search_info = llm.invoke(prompt).content\n",
    "    print(f\"{PINK}\\n{search_info}\\n{RESET}\")\n",
    "    \n",
    "    SEARCH_RETRY_COUNT = 5\n",
    "    SEARCH_RESULT_COUNT = 4\n",
    "    SEARCH_MINIMUM_RESULT = 1\n",
    "    for _ in range(SEARCH_RETRY_COUNT):\n",
    "        results = google_search_scrape(search_info, num_results=SEARCH_RESULT_COUNT)\n",
    "        if len(results) >= SEARCH_MINIMUM_RESULT:\n",
    "            break\n",
    "    # TODO 결과없을때 처리필요\n",
    "    context = ''\n",
    "    suffix = ''\n",
    "    for idx, result in enumerate(results):\n",
    "        link = result.get(\"link\")\n",
    "        desc, detailed_content = extract_content(link)\n",
    "        if \"Enable JavaScript and cookies\" in detailed_content:\n",
    "            continue\n",
    "        context += f\"제목 : {result.get('title')}\\n링크 : {link}\\n설명 : {desc}\\n내용 : {detailed_content}\\n\\n\"    \n",
    "        suffix += f\"\"\"\n",
    "📌 참고내용 [{idx+1}]\n",
    "제목 : {result.get('title')}\n",
    "링크 : {link}\n",
    "설명 : {desc}\n",
    "\"\"\"\n",
    "    prompt = prompt_config.answer_with_context.format(context=context, query=query)\n",
    "    answer = llm.invoke(prompt).content + \"\\n\" + suffix\n",
    "    return {\"messages\": [AIMessage(content=answer)]}\n",
    "\n",
    "@trace_function(enable_print=True, only_node=True)\n",
    "def decide_search(state: State):\n",
    "    if \"YES\" in state[\"is_search\"]:\n",
    "        return \"Node_search\"\n",
    "    else:\n",
    "        return END\n",
    "\n",
    "@trace_function(enable_print=True, only_node=True)\n",
    "def Node_decide_search(state: State):\n",
    "    return {\"is_search\": [llm.invoke([SystemMessage(content=prompt_config.decide_search_prompt)] + state[\"messages\"])][0].content.upper()}\n",
    "\n",
    "builder = StateGraph(State)\n",
    "builder.add_node(\"Node_decide_search\", Node_decide_search)\n",
    "builder.add_node(\"Node_search\", Node_search)\n",
    "builder.add_edge(START, \"Node_decide_search\")\n",
    "builder.add_conditional_edges(\"Node_decide_search\", decide_search)\n",
    "builder.add_edge(\"Node_search\", END)\n",
    "graph = builder.compile(checkpointer=ShortTermMemory)"
   ]
  },
  {
   "cell_type": "code",
   "execution_count": 4,
   "metadata": {},
   "outputs": [
    {
     "name": "stdout",
     "output_type": "stream",
     "text": [
      "\n",
      "\u001b[92m🚀 Passing Through [Node_decide_search] ..\u001b[0m\n",
      "\n",
      "\u001b[92m🚀 Passing Through [decide_search] ..\u001b[0m\n",
      "\n",
      "\u001b[92m🚀 Passing Through [Node_search] ..\u001b[0m\n",
      "\u001b[95m\n",
      "\"2025년 1월 테슬라 주가 동향\"\n",
      "\u001b[0m\n"
     ]
    },
    {
     "name": "stderr",
     "output_type": "stream",
     "text": [
      "Fetching pages: 100%|##########| 1/1 [00:00<00:00,  7.63it/s]\n",
      "Fetching pages: 100%|##########| 1/1 [00:00<00:00,  3.27it/s]\n",
      "Fetching pages: 100%|##########| 1/1 [00:00<00:00,  7.40it/s]\n"
     ]
    },
    {
     "data": {
      "text/plain": [
       "{'messages': [HumanMessage(content='최근 테슬라 주가에 대해서 알려줘', additional_kwargs={}, response_metadata={}, id='b536c298-b7a9-4b1a-bad3-13bd1f98e99f'),\n",
       "  AIMessage(content='2025년 1월 3일의 금융시장 동향에 따르면, 미국 증시는 5일 연속 하락하면서 주요 지수들이 소폭 하락 마감되었습니다. S&P500과 나스닥 100 지수는 각각 0.2% 하락했으며, 이로 인해 시가총액이 1조 달러 이상 감소했습니다. 또한, 테슬라는 10년 만에 처음으로 연간 판매량 감소를 기록하며 주가가 하락했습니다. 미국채 10년물 금리는 소폭 하락했으며, 달러는 강세를 보였습니다. 유럽 경제에 대한 우려로 인해 유로화와 파운드화는 각각 최저치를 기록했습니다. 이러한 상황은 미국의 금리 인상 지속과 중국 경제의 불확실성 등이 영향을 미친 것으로 보입니다. 투자자들은 주가의 단기 변동성보다는 장기적인 경제 상황을 주시하며 신중한 접근이 필요합니다.\\n\\n📌 참고내용 [1]\\n제목 : 2025년 1월 3일 금융시장 동향\\n링크 : https://kbthink.com/main/economy/trend/daily-market-trend/2025/daily-market-trend-2025-01-03.html\\n설명 : 지난 밤 미국 증시 주요 지수들은 소폭 하락 마감. 주요 지수들이 5거래일 연속 하락하면서 시가총액이 1조 달러 이상 감소. SP500과 나스닥 100 지수는 모두 0.2% 하락 \\n\\n📌 참고내용 [2]\\n제목 : 2025년 01월 04일 테슬라 최신 동향\\n링크 : https://www.evdbs.com/info-table/tesla-info/tesla-news-2025-analysis/\\n설명 : 제공된 뉴스와 주식 데이터를 바탕으로 테슬라 주식의 현황과 향후 전망을 분석해 보겠습니다. 주식 데이터의 이동평균과 RSI 값이 제공되지 않아 기술적 분석은 제한적일 수밖에 없다는 점을 미리 밝힙니다.\\n\\n📌 참고내용 [3]\\n제목 : [투자노트] “주가 꺾인 테슬라 사도 될까”… 걱정되면 1월 말 ...\\n링크 : https://www.chosun.com/economy/money/2025/01/03/SUFU4TY7SQD5MJZDTEEM2FXLAI/\\n설명 : 투자노트 주가 꺾인 테슬라 사도 될까 걱정되면 1월 말까지 기다려야 최근 5거래일간 주가 약 20% 하락 연간 인도량 전년比 감소하자 주가 약세 단기 조정일 수 있어 30일 실적발표 확인 미국 대표 전기차 업체 테슬라 주가가 지난주부터 지지부진한 모습이다. 간밤 테슬라\\n', additional_kwargs={}, response_metadata={}, id='74d9cae2-a1aa-476d-97f5-e9b3a0d1024d')],\n",
       " 'is_search': 'YES'}"
      ]
     },
     "execution_count": 4,
     "metadata": {},
     "output_type": "execute_result"
    }
   ],
   "source": [
    "config = {\"configurable\": {\"thread_id\": \"initial_chat\",\n",
    "                           \"user_id\": \"changwoo2\"}}\n",
    "\n",
    "graph.invoke({\"messages\":\"최근 테슬라 주가에 대해서 알려줘\"}, config=config)"
   ]
  },
  {
   "cell_type": "code",
   "execution_count": 2,
   "metadata": {},
   "outputs": [
    {
     "name": "stderr",
     "output_type": "stream",
     "text": [
      "Fetching pages: 100%|##########| 1/1 [00:00<00:00,  6.99it/s]\n",
      "Fetching pages: 100%|##########| 1/1 [00:00<00:00,  2.81it/s]\n",
      "Fetching pages: 100%|##########| 1/1 [00:00<00:00, 10.89it/s]\n",
      "Fetching pages: 100%|##########| 1/1 [00:00<00:00, 11.39it/s]\n"
     ]
    },
    {
     "data": {
      "text/plain": [
       "4"
      ]
     },
     "execution_count": 2,
     "metadata": {},
     "output_type": "execute_result"
    }
   ],
   "source": [
    "search_info = \"2025년 1월 테슬라 주가 동향\"\n",
    "results = google_search_scrape(search_info, num_results=5)\n",
    "context = ''\n",
    "suffix = ''\n",
    "for idx, result in enumerate(results):\n",
    "    link = result.get(\"link\")\n",
    "    desc, detailed_content = extract_content(link)\n",
    "    context += f\"제목 : {result.get('title')}\\n링크 : {link}\\n설명 : {desc}\\n내용 : {detailed_content}\\n\\n\"    \n",
    "    suffix += f\"\"\"\n",
    "📌 참고내용 [{idx+1}]\n",
    "제목 : {result.get('title')}\n",
    "링크 : {link}\n",
    "설명 : {desc}\n",
    "\"\"\"\n",
    "\n",
    "len(results)"
   ]
  },
  {
   "cell_type": "code",
   "execution_count": 7,
   "metadata": {},
   "outputs": [],
   "source": [
    "link = \"https://kr.investing.com/equities/tesla-motors-historical-data\""
   ]
  },
  {
   "cell_type": "code",
   "execution_count": 11,
   "metadata": {},
   "outputs": [
    {
     "name": "stderr",
     "output_type": "stream",
     "text": [
      "Fetching pages: 100%|##########| 1/1 [00:00<00:00,  5.22it/s]\n"
     ]
    }
   ],
   "source": [
    "from langchain_community.document_loaders import AsyncHtmlLoader\n",
    "from langchain_community.document_transformers import Html2TextTransformer\n",
    "loader = AsyncHtmlLoader(link)\n",
    "docs = loader.load()"
   ]
  },
  {
   "cell_type": "code",
   "execution_count": 13,
   "metadata": {},
   "outputs": [],
   "source": [
    "html2text = Html2TextTransformer()\n",
    "docs_transformed = html2text.transform_documents(docs)"
   ]
  },
  {
   "cell_type": "code",
   "execution_count": 17,
   "metadata": {},
   "outputs": [
    {
     "data": {
      "text/plain": [
       "'Enable JavaScript and cookies to continue\\n\\n'"
      ]
     },
     "execution_count": 17,
     "metadata": {},
     "output_type": "execute_result"
    }
   ],
   "source": [
    "docs_transformed[0].page_content"
   ]
  }
 ],
 "metadata": {
  "kernelspec": {
   "display_name": "kakaochatbot",
   "language": "python",
   "name": "kakaochatbot"
  },
  "language_info": {
   "codemirror_mode": {
    "name": "ipython",
    "version": 3
   },
   "file_extension": ".py",
   "mimetype": "text/x-python",
   "name": "python",
   "nbconvert_exporter": "python",
   "pygments_lexer": "ipython3",
   "version": "3.11.11"
  }
 },
 "nbformat": 4,
 "nbformat_minor": 2
}
