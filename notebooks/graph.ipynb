{
 "cells": [
  {
   "cell_type": "code",
   "execution_count": 27,
   "metadata": {},
   "outputs": [],
   "source": [
    "from utils.util import set_env, auto_log_and_state\n",
    "from langgraph.graph import MessagesState\n",
    "from langchain_core.messages import AIMessage, HumanMessage, SystemMessage, ToolMessage\n",
    "from langgraph.graph import START, StateGraph, END\n",
    "from langgraph.prebuilt import tools_condition\n",
    "from langgraph.prebuilt import ToolNode\n",
    "from IPython.display import Image, display\n",
    "from langchain_openai import ChatOpenAI\n",
    "from modules.rss import RSSGetter\n",
    "from langchain_core.output_parsers import PydanticOutputParser\n",
    "from pydantic import BaseModel, Field\n",
    "from ml_collections import ConfigDict\n",
    "from datetime import datetime"
   ]
  },
  {
   "cell_type": "code",
   "execution_count": 28,
   "metadata": {},
   "outputs": [],
   "source": [
    "# 1단계 : 최신 뉴스 검색 필요한건지 파악\n",
    "# 2단계 -1) 뉴스 검색했다면 바로 답변\n",
    "# 2단계 -2) 뉴스 검색 아니라면 아는 내용인지 판단\n",
    "# 3단계 -1) 아는 내용이면 바로 답변\n",
    "# 3단계 -2) 모르는 내용이면 검색후 답변\n",
    "\n",
    "# 해야할것\n",
    "# 1. 아는 내용인지 모르는내용인지 판단하는 로직 추가\n",
    "# 2. 뉴스 전처리 코드 추가\n",
    "# 3. 뉴스 검색 이후 답변 추가\n",
    "# 4. 답변하기 추가"
   ]
  },
  {
   "cell_type": "code",
   "execution_count": 29,
   "metadata": {},
   "outputs": [],
   "source": [
    "rss = RSSGetter()\n",
    "set_env()\n",
    "llm = ChatOpenAI(model=\"gpt-4o\")"
   ]
  },
  {
   "cell_type": "code",
   "execution_count": 30,
   "metadata": {},
   "outputs": [],
   "source": [
    "system_prompt = \"You are a helpful assistant\""
   ]
  },
  {
   "cell_type": "code",
   "execution_count": 31,
   "metadata": {},
   "outputs": [],
   "source": [
    "class DecideSearchOutput(BaseModel):\n",
    "    content: str = Field(description=\"YES or NO\")\n",
    "\n",
    "class DecideExistingInfoOutput(BaseModel):\n",
    "    content: str = Field(description=\"YES or NO\")\n",
    "    \n",
    "class SearchInfo(BaseModel):\n",
    "    ko_keyword: str = Field(description=\"한국어 검색어\")\n",
    "    en_keyword: str = Field(description=\"영어 검색어\")\n",
    "    start_date: str = Field(description=\"검색 시작 날짜\")\n",
    "    end_date: str = Field(description=\"검색 종료 날짜\")"
   ]
  },
  {
   "cell_type": "code",
   "execution_count": 40,
   "metadata": {},
   "outputs": [],
   "source": [
    "prompt_config = ConfigDict()\n",
    "prompt_config.decide_search = \"\"\"다음 사용자 요청문이 뉴스 검색을 요청하는 내용인지 판단하세요.\n",
    "\n",
    "사용자 요청문 : {query}\n",
    "\n",
    "반드시 답변은 아래 출력 양식을 참고하세요.\n",
    "\n",
    "{format_instructions}\n",
    "\"\"\"\n",
    "\n",
    "prompt_config.decide_existing_info = \"\"\"다음 사용자 요청문이 당신이 충분히 답변할 수 있는 내용인지 판단하세요.\n",
    "\n",
    "사용자 요청문 : {query}\n",
    "\n",
    "반드시 답변은 아래 출력 양식을 참고하세요.\n",
    "\n",
    "{format_instructions}\n",
    "\"\"\"\n",
    "\n",
    "prompt_config.generate_search_info = f\"\"\"다음 사용자 요청문에 대한 검색 정보를 생성하세요.\n",
    "\n",
    "사용자 요청문 : {{query}}\n",
    "\n",
    "반드시 답변은 아래 출력 양식을 참고하세요. 사용자 요청문에 기간 정보가 없다면, 검색 시작 날짜와 종료 날짜 사이는 최소 2개월 이상으로 설정합니다. 오늘 날짜 : {datetime.now().strftime(\"%Y-%m-%d\")}\n",
    "\n",
    "한국어 검색어 :\n",
    "영어 검색어 :\n",
    "검색 시작 날짜 : YYYY-MM-DD\n",
    "검색 종료 날짜 : YYYY-MM-DD\"\"\""
   ]
  },
  {
   "cell_type": "code",
   "execution_count": 44,
   "metadata": {},
   "outputs": [
    {
     "data": {
      "text/plain": [
       "<langgraph.graph.state.StateGraph at 0x7f9580e55ad0>"
      ]
     },
     "execution_count": 44,
     "metadata": {},
     "output_type": "execute_result"
    }
   ],
   "source": [
    "class State(MessagesState):\n",
    "    messages: str\n",
    "\n",
    "def decide_search(state:State):\n",
    "    state[\"format_instructions\"] = PydanticOutputParser(pydantic_object=DecideSearchOutput).get_format_instructions()\n",
    "    state['query'] = state['messages'][0].content\n",
    "    prompt = [\n",
    "        SystemMessage(content=system_prompt),\n",
    "        HumanMessage(content=prompt_config.decide_search.format_map(state))\n",
    "    ]\n",
    "    structured_llm = llm.with_structured_output(DecideSearchOutput)\n",
    "    result = structured_llm.invoke(prompt).content.strip()\n",
    "    if result == \"YES\":\n",
    "        return \"Node__search\"\n",
    "    else:\n",
    "        return \"Node__answer\"\n",
    "\n",
    "def Node__search(state:State):\n",
    "    state['query'] = state['messages'][0].content\n",
    "    prompt = [\n",
    "        SystemMessage(content=system_prompt),\n",
    "        HumanMessage(content=prompt_config.generate_search_info.format_map(state))\n",
    "    ]\n",
    "    structured_llm = llm.with_structured_output(SearchInfo)\n",
    "    search_info = structured_llm.invoke(prompt)\n",
    "    print(\"search_info.en_keyword : \", search_info.en_keyword)\n",
    "    print(\"search_info.ko_keyword : \", search_info.ko_keyword)\n",
    "    print(\"search_info.start_date : \", search_info.start_date)\n",
    "    print(\"search_info.end_date : \", search_info.end_date)\n",
    "    en_news, ko_news = rss(en_keyword=search_info.en_keyword, \n",
    "                           ko_keyword=search_info.ko_keyword, \n",
    "                           start_date=search_info.start_date, \n",
    "                           end_date=search_info.end_date)\n",
    "    return state\n",
    "\n",
    "def Node__answer(state:State):\n",
    "    prompt = [\n",
    "        SystemMessage(content=system_prompt),\n",
    "        HumanMessage(content=state[\"messages\"])\n",
    "    ]\n",
    "    return_state = {\"messages\": [llm.invoke(prompt)]}\n",
    "    return return_state\n",
    "\n",
    "   \n",
    "# Build Graph\n",
    "builder = StateGraph(State)\n",
    "\n",
    "# Set Node\n",
    "builder.add_node(\"Node__answer\", Node__answer)\n",
    "builder.add_node(\"Node__search\", Node__search)\n",
    "\n",
    "# Set Edge\n",
    "builder.add_conditional_edges(START, decide_search)\n",
    "builder.add_edge(\"Node__search\", END)\n",
    "builder.add_edge(\"Node__answer\", END)"
   ]
  },
  {
   "cell_type": "code",
   "execution_count": 45,
   "metadata": {},
   "outputs": [
    {
     "data": {
      "image/png": "[encoded data removed]",
      "text/plain": [
       "<IPython.core.display.Image object>"
      ]
     },
     "metadata": {},
     "output_type": "display_data"
    }
   ],
   "source": [
    "# Compile Graph\n",
    "graph = builder.compile()\n",
    "display(Image(graph.get_graph().draw_mermaid_png()))"
   ]
  },
  {
   "cell_type": "code",
   "execution_count": 46,
   "metadata": {},
   "outputs": [
    {
     "name": "stdout",
     "output_type": "stream",
     "text": [
      "search_info.en_keyword :  latest economic news\n",
      "search_info.ko_keyword :  최신 경제 뉴스\n",
      "search_info.start_date :  2024-11-01\n",
      "search_info.end_date :  2025-01-06\n",
      "### 🚩 영어로 작성된 뉴스 자료들을 검색합니다.\n"
     ]
    },
    {
     "name": "stderr",
     "output_type": "stream",
     "text": [
      "Fetching pages: 100%|##########| 1/1 [00:00<00:00,  8.56it/s]\n",
      "Fetching pages: 100%|##########| 1/1 [00:00<00:00,  1.19it/s]\n",
      "Fetching pages: 100%|##########| 1/1 [00:00<00:00,  1.17it/s]\n",
      "Fetching pages: 100%|##########| 1/1 [00:00<00:00,  2.76it/s]\n"
     ]
    },
    {
     "name": "stdout",
     "output_type": "stream",
     "text": [
      "4개의 뉴스 자료를 수집하였습니다.\n",
      "### 🚩 한국어로 작성된 뉴스 자료들을 검색합니다.\n"
     ]
    },
    {
     "name": "stderr",
     "output_type": "stream",
     "text": [
      "Fetching pages: 100%|##########| 1/1 [00:00<00:00,  7.61it/s]\n",
      "Fetching pages: 100%|##########| 1/1 [00:00<00:00,  6.15it/s]"
     ]
    },
    {
     "name": "stdout",
     "output_type": "stream",
     "text": [
      "2개의 뉴스 자료를 수집하였습니다.\n"
     ]
    },
    {
     "name": "stderr",
     "output_type": "stream",
     "text": [
      "\n"
     ]
    },
    {
     "data": {
      "text/plain": [
       "{'messages': [HumanMessage(content='최신 경제 뉴스 2개 알려줘', additional_kwargs={}, response_metadata={}, id='706bc757-d353-4609-af1c-31a61d2b97a5')]}"
      ]
     },
     "execution_count": 46,
     "metadata": {},
     "output_type": "execute_result"
    }
   ],
   "source": [
    "graph.invoke({\"messages\":\"최신 경제 뉴스 2개 알려줘\"})"
   ]
  },
  {
   "cell_type": "code",
   "execution_count": 12,
   "metadata": {},
   "outputs": [],
   "source": [
    "import requests\n",
    "from bs4 import BeautifulSoup\n",
    "def google_search_scrape(query, \n",
    "                         num_results=3):\n",
    "    \"\"\"\n",
    "        Des:\n",
    "            Google 검색 결과를 스크래핑하는 함수\n",
    "        Args:\n",
    "            query (str): 검색할 키워드\n",
    "            num_results (int): 검색 결과 수\n",
    "        Returns:\n",
    "            list: 검색 결과를 담은 리스트\n",
    "    \"\"\"\n",
    "    headers = {\"User-Agent\": \"Mozilla/5.0 (Windows NT 10.0; Win64; x64) AppleWebKit/537.36 (KHTML, like Gecko) Chrome/114.0.0.0 Safari/537.36\"}\n",
    "    query = query.replace(\" \", \"+\")\n",
    "    url = f\"https://www.google.com/search?q={query}&num={num_results}\"\n",
    "    response = requests.get(url, headers=headers)\n",
    "    soup = BeautifulSoup(response.text, \"html.parser\")\n",
    "    results = []\n",
    "    for g in soup.find_all(\"div\", class_=\"tF2Cxc\"):\n",
    "        title = g.find(\"h3\").text.upper()\n",
    "        link = g.find(\"a\")[\"href\"]\n",
    "        results.append({\"title\": title, \"link\": link})\n",
    "    return results"
   ]
  },
  {
   "cell_type": "code",
   "execution_count": null,
   "metadata": {},
   "outputs": [],
   "source": []
  },
  {
   "cell_type": "code",
   "execution_count": null,
   "metadata": {},
   "outputs": [],
   "source": []
  },
  {
   "cell_type": "code",
   "execution_count": null,
   "metadata": {},
   "outputs": [],
   "source": []
  },
  {
   "cell_type": "code",
   "execution_count": null,
   "metadata": {},
   "outputs": [],
   "source": []
  },
  {
   "cell_type": "code",
   "execution_count": null,
   "metadata": {},
   "outputs": [],
   "source": []
  },
  {
   "cell_type": "code",
   "execution_count": null,
   "metadata": {},
   "outputs": [],
   "source": []
  },
  {
   "cell_type": "code",
   "execution_count": null,
   "metadata": {},
   "outputs": [],
   "source": []
  }
 ],
 "metadata": {
  "kernelspec": {
   "display_name": "kakaochatbot",
   "language": "python",
   "name": "kakaochatbot"
  },
  "language_info": {
   "codemirror_mode": {
    "name": "ipython",
    "version": 3
   },
   "file_extension": ".py",
   "mimetype": "text/x-python",
   "name": "python",
   "nbconvert_exporter": "python",
   "pygments_lexer": "ipython3",
   "version": "3.11.11"
  }
 },
 "nbformat": 4,
 "nbformat_minor": 2
}
